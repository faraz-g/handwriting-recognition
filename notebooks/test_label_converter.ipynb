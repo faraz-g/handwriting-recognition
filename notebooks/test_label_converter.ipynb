{
 "cells": [
  {
   "cell_type": "code",
   "execution_count": 4,
   "metadata": {},
   "outputs": [],
   "source": [
    "from handwriting_recognition.label_converter import LabelConverter\n",
    "from torch.utils.data.dataloader import DataLoader\n",
    "from handwriting_recognition.dataset import HandWritingDataset, train_augmentations\n",
    "from handwriting_recognition.modelling_utils import get_image_model_and_processor, get_optimizer\n",
    "from handwriting_recognition.utils import TrainingConfig, get_dataset_folder_path\n",
    "from pathlib import Path"
   ]
  },
  {
   "cell_type": "code",
   "execution_count": 8,
   "metadata": {},
   "outputs": [],
   "source": [
    "config_path = Path(get_dataset_folder_path()).parent.joinpath(\"handwriting_recognition\", \"configs\", \"default_config\").with_suffix(\".json\")\n",
    "config = TrainingConfig.from_path(config_path=config_path)"
   ]
  },
  {
   "cell_type": "code",
   "execution_count": 9,
   "metadata": {},
   "outputs": [
    {
     "name": "stderr",
     "output_type": "stream",
     "text": [
      "Some weights of ViTModel were not initialized from the model checkpoint at google/vit-base-patch16-224 and are newly initialized: ['vit.pooler.dense.bias', 'vit.pooler.dense.weight']\n",
      "You should probably TRAIN this model on a down-stream task to be able to use it for predictions and inference.\n"
     ]
    }
   ],
   "source": [
    "image_model, image_processor = get_image_model_and_processor(\n",
    "    model_name=config.feature_extractor_config.hf_model_name,\n",
    "    processor_name=config.feature_extractor_config.hf_pre_processor_name,\n",
    ")"
   ]
  },
  {
   "cell_type": "code",
   "execution_count": 10,
   "metadata": {},
   "outputs": [
    {
     "name": "stderr",
     "output_type": "stream",
     "text": [
      "/home/faraz/.cache/pypoetry/virtualenvs/handwriting-recognition-05HTZ8rb-py3.11/lib/python3.11/site-packages/albumentations/augmentations/blur/transforms.py:240: UserWarning: blur_limit and sigma_limit minimum value can not be both equal to 0. blur_limit minimum value changed to 3.\n",
      "  warnings.warn(\n"
     ]
    }
   ],
   "source": [
    "data_train = HandWritingDataset(\n",
    "    data_path=get_dataset_folder_path() / \"pre_processed\" / \"train.csv\",\n",
    "    image_processor=image_processor,\n",
    "    augmentations=train_augmentations(),\n",
    ")"
   ]
  },
  {
   "cell_type": "code",
   "execution_count": 15,
   "metadata": {},
   "outputs": [],
   "source": [
    "train_loader = DataLoader(\n",
    "    data_train,\n",
    "    batch_size=config.batch_size,\n",
    "    pin_memory=False,\n",
    "    shuffle=True,\n",
    "    drop_last=True,\n",
    ")"
   ]
  },
  {
   "cell_type": "code",
   "execution_count": 16,
   "metadata": {},
   "outputs": [],
   "source": [
    "converter = LabelConverter(character_set=data_train.char_set)"
   ]
  },
  {
   "cell_type": "code",
   "execution_count": 20,
   "metadata": {},
   "outputs": [],
   "source": [
    "images, labels = next(iter(train_loader))"
   ]
  },
  {
   "cell_type": "code",
   "execution_count": 22,
   "metadata": {},
   "outputs": [
    {
     "data": {
      "text/plain": [
       "torch.Size([16, 3, 224, 224])"
      ]
     },
     "execution_count": 22,
     "metadata": {},
     "output_type": "execute_result"
    }
   ],
   "source": [
    "images.shape"
   ]
  },
  {
   "cell_type": "code",
   "execution_count": 24,
   "metadata": {},
   "outputs": [
    {
     "data": {
      "text/plain": [
       "('eleonore',\n",
       " 'elodie',\n",
       " 'villemonteix',\n",
       " 'monange',\n",
       " 'gasjine',\n",
       " 'noel',\n",
       " 'naomi',\n",
       " 'roux',\n",
       " 'bieliczky',\n",
       " 'yassine',\n",
       " 'nicolas',\n",
       " 'chibane',\n",
       " 'lepere',\n",
       " 'marinella',\n",
       " 'rogiers',\n",
       " 'romain')"
      ]
     },
     "execution_count": 24,
     "metadata": {},
     "output_type": "execute_result"
    }
   ],
   "source": [
    "labels"
   ]
  },
  {
   "cell_type": "code",
   "execution_count": 32,
   "metadata": {},
   "outputs": [],
   "source": [
    "a = converter.encode(labels)"
   ]
  },
  {
   "cell_type": "code",
   "execution_count": 35,
   "metadata": {},
   "outputs": [
    {
     "name": "stdout",
     "output_type": "stream",
     "text": [
      "torch.Size([16, 14])\n",
      "torch.Size([16])\n"
     ]
    }
   ],
   "source": [
    "for i in a:\n",
    "    print(i.shape)"
   ]
  },
  {
   "cell_type": "code",
   "execution_count": null,
   "metadata": {},
   "outputs": [],
   "source": []
  }
 ],
 "metadata": {
  "kernelspec": {
   "display_name": "handwriting-recognition-05HTZ8rb-py3.11",
   "language": "python",
   "name": "python3"
  },
  "language_info": {
   "codemirror_mode": {
    "name": "ipython",
    "version": 3
   },
   "file_extension": ".py",
   "mimetype": "text/x-python",
   "name": "python",
   "nbconvert_exporter": "python",
   "pygments_lexer": "ipython3",
   "version": "3.11.9"
  }
 },
 "nbformat": 4,
 "nbformat_minor": 2
}
