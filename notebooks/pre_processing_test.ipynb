{
 "cells": [
  {
   "cell_type": "code",
   "execution_count": 16,
   "metadata": {},
   "outputs": [
    {
     "name": "stdout",
     "output_type": "stream",
     "text": [
      "The autoreload extension is already loaded. To reload it, use:\n",
      "  %reload_ext autoreload\n"
     ]
    }
   ],
   "source": [
    "%load_ext autoreload\n",
    "%autoreload 2"
   ]
  },
  {
   "cell_type": "code",
   "execution_count": 1,
   "metadata": {},
   "outputs": [
    {
     "name": "stderr",
     "output_type": "stream",
     "text": [
      "/home/faraz/.cache/pypoetry/virtualenvs/handwriting-recognition-05HTZ8rb-py3.11/lib/python3.11/site-packages/pydantic/_internal/_fields.py:160: UserWarning: Field \"model_name\" has conflict with protected namespace \"model_\".\n",
      "\n",
      "You may be able to resolve this warning by setting `model_config['protected_namespaces'] = ()`.\n",
      "  warnings.warn(\n"
     ]
    }
   ],
   "source": [
    "from handwriting_recognition.data_downloader import get_dataset_folder_path\n",
    "from handwriting_recognition.processing_helpers import process_single_image\n",
    "from IPython.display import Image as show_im\n",
    "from pathlib import Path\n",
    "from PIL import Image\n",
    "import matplotlib.pyplot as plt\n",
    "import numpy as np \n",
    "import os\n",
    "import pandas as pd"
   ]
  },
  {
   "cell_type": "code",
   "execution_count": 4,
   "metadata": {},
   "outputs": [],
   "source": [
    "im_folder = get_dataset_folder_path() / \"raw\" / \"test\"\n",
    "random_image = np.random.choice(os.listdir(im_folder)) \n",
    "image_path = get_dataset_folder_path() / \"raw\" / \"test\" / random_image\n",
    "\n",
    "out_dir = Path(\"/Users/faraz/Documents/code/handwriting-recognition/notebooks/test\")\n",
    "labels_df = pd.read_csv(get_dataset_folder_path() / \"raw\" / \"test.csv\")"
   ]
  },
  {
   "cell_type": "code",
   "execution_count": 19,
   "metadata": {},
   "outputs": [
    {
     "data": {
      "text/html": [
       "<div>\n",
       "<style scoped>\n",
       "    .dataframe tbody tr th:only-of-type {\n",
       "        vertical-align: middle;\n",
       "    }\n",
       "\n",
       "    .dataframe tbody tr th {\n",
       "        vertical-align: top;\n",
       "    }\n",
       "\n",
       "    .dataframe thead th {\n",
       "        text-align: right;\n",
       "    }\n",
       "</style>\n",
       "<table border=\"1\" class=\"dataframe\">\n",
       "  <thead>\n",
       "    <tr style=\"text-align: right;\">\n",
       "      <th></th>\n",
       "      <th>FILENAME</th>\n",
       "      <th>IDENTITY</th>\n",
       "    </tr>\n",
       "  </thead>\n",
       "  <tbody>\n",
       "    <tr>\n",
       "      <th>12830</th>\n",
       "      <td>TRAIN_12831.jpg</td>\n",
       "      <td>NICOLE</td>\n",
       "    </tr>\n",
       "    <tr>\n",
       "      <th>33481</th>\n",
       "      <td>TRAIN_33482.jpg</td>\n",
       "      <td>NICOLE</td>\n",
       "    </tr>\n",
       "    <tr>\n",
       "      <th>70918</th>\n",
       "      <td>TRAIN_70919.jpg</td>\n",
       "      <td>NICOLE</td>\n",
       "    </tr>\n",
       "    <tr>\n",
       "      <th>74625</th>\n",
       "      <td>TRAIN_74626.jpg</td>\n",
       "      <td>NICOLE</td>\n",
       "    </tr>\n",
       "    <tr>\n",
       "      <th>84670</th>\n",
       "      <td>TRAIN_84671.jpg</td>\n",
       "      <td>NICOLE</td>\n",
       "    </tr>\n",
       "    <tr>\n",
       "      <th>94204</th>\n",
       "      <td>TRAIN_94205.jpg</td>\n",
       "      <td>NICOLE</td>\n",
       "    </tr>\n",
       "    <tr>\n",
       "      <th>119132</th>\n",
       "      <td>TRAIN_119133.jpg</td>\n",
       "      <td>NICOLE</td>\n",
       "    </tr>\n",
       "    <tr>\n",
       "      <th>145266</th>\n",
       "      <td>TRAIN_145267.jpg</td>\n",
       "      <td>NICOLE</td>\n",
       "    </tr>\n",
       "    <tr>\n",
       "      <th>180476</th>\n",
       "      <td>TRAIN_180477.jpg</td>\n",
       "      <td>NICOLE</td>\n",
       "    </tr>\n",
       "    <tr>\n",
       "      <th>181295</th>\n",
       "      <td>TRAIN_181296.jpg</td>\n",
       "      <td>NICOLE</td>\n",
       "    </tr>\n",
       "    <tr>\n",
       "      <th>229573</th>\n",
       "      <td>TRAIN_229574.jpg</td>\n",
       "      <td>NICOLE</td>\n",
       "    </tr>\n",
       "    <tr>\n",
       "      <th>249591</th>\n",
       "      <td>TRAIN_249592.jpg</td>\n",
       "      <td>NICOLE</td>\n",
       "    </tr>\n",
       "    <tr>\n",
       "      <th>323094</th>\n",
       "      <td>TRAIN_323095.jpg</td>\n",
       "      <td>NICOLE</td>\n",
       "    </tr>\n",
       "  </tbody>\n",
       "</table>\n",
       "</div>"
      ],
      "text/plain": [
       "                FILENAME IDENTITY\n",
       "12830    TRAIN_12831.jpg   NICOLE\n",
       "33481    TRAIN_33482.jpg   NICOLE\n",
       "70918    TRAIN_70919.jpg   NICOLE\n",
       "74625    TRAIN_74626.jpg   NICOLE\n",
       "84670    TRAIN_84671.jpg   NICOLE\n",
       "94204    TRAIN_94205.jpg   NICOLE\n",
       "119132  TRAIN_119133.jpg   NICOLE\n",
       "145266  TRAIN_145267.jpg   NICOLE\n",
       "180476  TRAIN_180477.jpg   NICOLE\n",
       "181295  TRAIN_181296.jpg   NICOLE\n",
       "229573  TRAIN_229574.jpg   NICOLE\n",
       "249591  TRAIN_249592.jpg   NICOLE\n",
       "323094  TRAIN_323095.jpg   NICOLE"
      ]
     },
     "execution_count": 19,
     "metadata": {},
     "output_type": "execute_result"
    }
   ],
   "source": [
    "labels_df[labels_df[\"IDENTITY\"].isin([\"NICOLE\"])]"
   ]
  },
  {
   "cell_type": "code",
   "execution_count": 23,
   "metadata": {},
   "outputs": [
    {
     "data": {
      "image/jpeg": "[encoded data removed]",
      "text/plain": [
       "<IPython.core.display.Image object>"
      ]
     },
     "execution_count": 23,
     "metadata": {},
     "output_type": "execute_result"
    }
   ],
   "source": [
    "show_im(image_path)"
   ]
  },
  {
   "cell_type": "code",
   "execution_count": 24,
   "metadata": {},
   "outputs": [
    {
     "data": {
      "text/html": [
       "<div>\n",
       "<style scoped>\n",
       "    .dataframe tbody tr th:only-of-type {\n",
       "        vertical-align: middle;\n",
       "    }\n",
       "\n",
       "    .dataframe tbody tr th {\n",
       "        vertical-align: top;\n",
       "    }\n",
       "\n",
       "    .dataframe thead th {\n",
       "        text-align: right;\n",
       "    }\n",
       "</style>\n",
       "<table border=\"1\" class=\"dataframe\">\n",
       "  <thead>\n",
       "    <tr style=\"text-align: right;\">\n",
       "      <th></th>\n",
       "      <th>FILENAME</th>\n",
       "      <th>IDENTITY</th>\n",
       "    </tr>\n",
       "  </thead>\n",
       "  <tbody>\n",
       "    <tr>\n",
       "      <th>35743</th>\n",
       "      <td>TEST_35744.jpg</td>\n",
       "      <td>ARCECON</td>\n",
       "    </tr>\n",
       "  </tbody>\n",
       "</table>\n",
       "</div>"
      ],
      "text/plain": [
       "             FILENAME IDENTITY\n",
       "35743  TEST_35744.jpg  ARCECON"
      ]
     },
     "execution_count": 24,
     "metadata": {},
     "output_type": "execute_result"
    }
   ],
   "source": [
    "labels_df[labels_df['FILENAME'] == random_image]"
   ]
  },
  {
   "cell_type": "code",
   "execution_count": 25,
   "metadata": {},
   "outputs": [
    {
     "ename": "FileNotFoundError",
     "evalue": "[Errno 2] No such file or directory: '/Users/faraz/Documents/code/handwriting-recognition/notebooks/test/TEST_35744.tiff'",
     "output_type": "error",
     "traceback": [
      "\u001b[0;31m---------------------------------------------------------------------------\u001b[0m",
      "\u001b[0;31mFileNotFoundError\u001b[0m                         Traceback (most recent call last)",
      "Cell \u001b[0;32mIn[25], line 1\u001b[0m\n\u001b[0;32m----> 1\u001b[0m \u001b[43mprocess_single_image\u001b[49m\u001b[43m(\u001b[49m\u001b[43mimage_path\u001b[49m\u001b[43m,\u001b[49m\u001b[43m \u001b[49m\u001b[43mout_dir\u001b[49m\u001b[43m)\u001b[49m\n",
      "File \u001b[0;32m~/Documents/code/handwriting-recognition/handwriting_recognition/processing_helpers.py:67\u001b[0m, in \u001b[0;36mprocess_single_image\u001b[0;34m(image_path, target_folder)\u001b[0m\n\u001b[1;32m     65\u001b[0m processed_image \u001b[38;5;241m=\u001b[39m Image\u001b[38;5;241m.\u001b[39mfromarray(im_arr)\n\u001b[1;32m     66\u001b[0m out_path \u001b[38;5;241m=\u001b[39m Path(os\u001b[38;5;241m.\u001b[39mpath\u001b[38;5;241m.\u001b[39mjoin(target_folder, os\u001b[38;5;241m.\u001b[39mpath\u001b[38;5;241m.\u001b[39mbasename(image_path)))\n\u001b[0;32m---> 67\u001b[0m \u001b[43mprocessed_image\u001b[49m\u001b[38;5;241;43m.\u001b[39;49m\u001b[43msave\u001b[49m\u001b[43m(\u001b[49m\u001b[43mout_path\u001b[49m\u001b[38;5;241;43m.\u001b[39;49m\u001b[43mwith_suffix\u001b[49m\u001b[43m(\u001b[49m\u001b[38;5;124;43m\"\u001b[39;49m\u001b[38;5;124;43m.tiff\u001b[39;49m\u001b[38;5;124;43m\"\u001b[39;49m\u001b[43m)\u001b[49m\u001b[43m)\u001b[49m\n",
      "File \u001b[0;32m~/.cache/pypoetry/virtualenvs/handwriting-recognition-05HTZ8rb-py3.11/lib/python3.11/site-packages/PIL/Image.py:2456\u001b[0m, in \u001b[0;36mImage.save\u001b[0;34m(self, fp, format, **params)\u001b[0m\n\u001b[1;32m   2454\u001b[0m         fp \u001b[38;5;241m=\u001b[39m builtins\u001b[38;5;241m.\u001b[39mopen(filename, \u001b[38;5;124m\"\u001b[39m\u001b[38;5;124mr+b\u001b[39m\u001b[38;5;124m\"\u001b[39m)\n\u001b[1;32m   2455\u001b[0m     \u001b[38;5;28;01melse\u001b[39;00m:\n\u001b[0;32m-> 2456\u001b[0m         fp \u001b[38;5;241m=\u001b[39m \u001b[43mbuiltins\u001b[49m\u001b[38;5;241;43m.\u001b[39;49m\u001b[43mopen\u001b[49m\u001b[43m(\u001b[49m\u001b[43mfilename\u001b[49m\u001b[43m,\u001b[49m\u001b[43m \u001b[49m\u001b[38;5;124;43m\"\u001b[39;49m\u001b[38;5;124;43mw+b\u001b[39;49m\u001b[38;5;124;43m\"\u001b[39;49m\u001b[43m)\u001b[49m\n\u001b[1;32m   2458\u001b[0m \u001b[38;5;28;01mtry\u001b[39;00m:\n\u001b[1;32m   2459\u001b[0m     save_handler(\u001b[38;5;28mself\u001b[39m, fp, filename)\n",
      "\u001b[0;31mFileNotFoundError\u001b[0m: [Errno 2] No such file or directory: '/Users/faraz/Documents/code/handwriting-recognition/notebooks/test/TEST_35744.tiff'"
     ]
    }
   ],
   "source": [
    "process_single_image(image_path, out_dir)"
   ]
  },
  {
   "cell_type": "code",
   "execution_count": 26,
   "metadata": {},
   "outputs": [],
   "source": [
    "output_image_path = out_dir / random_image"
   ]
  },
  {
   "cell_type": "code",
   "execution_count": 14,
   "metadata": {},
   "outputs": [],
   "source": [
    "output_image_path = get_dataset_folder_path() / \"pre_processed\" / \"train\" / \"TRAIN_84671.tiff\""
   ]
  },
  {
   "cell_type": "code",
   "execution_count": 15,
   "metadata": {},
   "outputs": [],
   "source": [
    "output_image_path = output_image_path.with_suffix(\".tiff\")"
   ]
  },
  {
   "cell_type": "code",
   "execution_count": 16,
   "metadata": {},
   "outputs": [],
   "source": [
    "output_im = np.array(Image.open(output_image_path))"
   ]
  },
  {
   "cell_type": "code",
   "execution_count": 17,
   "metadata": {},
   "outputs": [
    {
     "data": {
      "text/plain": [
       "array([[ True,  True,  True, ...,  True,  True,  True],\n",
       "       [ True,  True,  True, ...,  True,  True,  True],\n",
       "       [ True,  True,  True, ...,  True,  True,  True],\n",
       "       ...,\n",
       "       [ True,  True,  True, ...,  True,  True,  True],\n",
       "       [ True,  True,  True, ...,  True,  True,  True],\n",
       "       [ True,  True,  True, ...,  True,  True,  True]])"
      ]
     },
     "execution_count": 17,
     "metadata": {},
     "output_type": "execute_result"
    }
   ],
   "source": [
    "output_im"
   ]
  },
  {
   "cell_type": "code",
   "execution_count": 18,
   "metadata": {},
   "outputs": [
    {
     "data": {
      "image/png": "[encoded data removed]",
      "text/plain": [
       "<Figure size 640x480 with 1 Axes>"
      ]
     },
     "metadata": {},
     "output_type": "display_data"
    }
   ],
   "source": [
    "plt.imshow(output_im)\n",
    "plt.show()"
   ]
  },
  {
   "cell_type": "code",
   "execution_count": null,
   "metadata": {},
   "outputs": [],
   "source": []
  }
 ],
 "metadata": {
  "kernelspec": {
   "display_name": "handwriting-recognition-cKdLrsKb-py3.12",
   "language": "python",
   "name": "python3"
  },
  "language_info": {
   "codemirror_mode": {
    "name": "ipython",
    "version": 3
   },
   "file_extension": ".py",
   "mimetype": "text/x-python",
   "name": "python",
   "nbconvert_exporter": "python",
   "pygments_lexer": "ipython3",
   "version": "3.11.9"
  }
 },
 "nbformat": 4,
 "nbformat_minor": 2
}
