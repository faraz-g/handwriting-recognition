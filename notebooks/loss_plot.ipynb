{
 "cells": [
  {
   "cell_type": "code",
   "execution_count": null,
   "metadata": {},
   "outputs": [],
   "source": [
    "%load_ext autoreload\n",
    "%autoreload 2"
   ]
  },
  {
   "cell_type": "code",
   "execution_count": null,
   "metadata": {},
   "outputs": [],
   "source": [
    "import argparse\n",
    "import os\n",
    "\n",
    "import numpy as np\n",
    "import torch\n",
    "from torch.nn.modules.loss import CrossEntropyLoss\n",
    "from torch.utils.data.dataloader import DataLoader\n",
    "from tqdm import tqdm\n",
    "import random\n",
    "\n",
    "from handwriting_recognition.label_converter import LabelConverter\n",
    "from handwriting_recognition.model.model import HandwritingRecognitionModel\n",
    "from handwriting_recognition.modelling_utils import get_image_model\n",
    "from handwriting_recognition.utils import TrainingConfig, get_dataset_folder_path\n",
    "from handwriting_recognition.dataset import HandWritingDataset\n",
    "from pathlib import Path\n",
    "from handwriting_recognition.modelling_utils import get_device\n",
    "from handwriting_recognition.eval import cer, wer\n",
    "\n",
    "torch.backends.cudnn.benchmark = True"
   ]
  },
  {
   "cell_type": "code",
   "execution_count": null,
   "metadata": {},
   "outputs": [],
   "source": [
    "CONFIG_NAME = \"resnet_config\"\n",
    "MODEL_DIR = Path(get_dataset_folder_path()).parent.joinpath(\"model_outputs\", CONFIG_NAME)\n",
    "config_path = Path(get_dataset_folder_path()).parent.joinpath(\"handwriting_recognition\", \"configs\", CONFIG_NAME).with_suffix(\".json\")\n",
    "config = TrainingConfig.from_path(config_path=config_path)"
   ]
  },
  {
   "cell_type": "code",
   "execution_count": null,
   "metadata": {},
   "outputs": [],
   "source": [
    "all_epochs = [x for x in sorted(os.listdir(MODEL_DIR)) if x.isdigit()]"
   ]
  },
  {
   "cell_type": "code",
   "execution_count": null,
   "metadata": {},
   "outputs": [],
   "source": [
    "all_epochs"
   ]
  },
  {
   "cell_type": "code",
   "execution_count": null,
   "metadata": {},
   "outputs": [],
   "source": [
    "BATCH_SIZE = 192"
   ]
  },
  {
   "cell_type": "code",
   "execution_count": 15,
   "metadata": {},
   "outputs": [
    {
     "name": "stderr",
     "output_type": "stream",
     "text": [
      "Validating Epoch: 1: 100% 208/208 [00:40<00:00,  5.16it/s]\n"
     ]
    },
    {
     "name": "stdout",
     "output_type": "stream",
     "text": [
      "Outputting sample of validation outputs.\n",
      "['ALICE', 'BENTELLER', 'CARILLIER', 'LISA', 'BOURET', 'MATHIS', 'MATHIS', 'BENTE   BARIER', 'MATHIS', 'LUCA']\n",
      "['BILEL', 'LAUMIONIER', 'JEAN ROCH', 'RUPP', 'PICHON', 'DANIEL', 'JEREMY', 'JEAN MICHEL', 'JULIEN', 'NAEL']\n"
     ]
    },
    {
     "name": "stderr",
     "output_type": "stream",
     "text": [
      "Validating Epoch: 1:  15% 249/1661 [00:48<04:34,  5.14it/s]\n"
     ]
    },
    {
     "name": "stdout",
     "output_type": "stream",
     "text": [
      "Outputting sample of validation outputs.\n",
      "['BENTELLER', 'LOUIS', 'LOUIS', 'BERRET', 'MATHIS', 'ALICE', 'MATHIS', 'BERRAUDE', 'ANTOINE', 'ALICE']\n",
      "['BALTHAZAR', 'SIMON', 'BENES', 'LA LOVE', 'DAPHNE', 'LUCIE', 'NASSIM', 'ASSRAOUI', 'LAVIAN', 'MAEVA']\n",
      "Validation Loss at epoch 1: 3.1855, WER: 1.0079501867294312, CER: 0.8393059968948364. Best Loss so far:\n",
      "Training Loss at epoch 1: 3.1864, WER: 1.0059702396392822, CER: 0.8385910987854004. Best Loss so far:\n"
     ]
    },
    {
     "name": "stderr",
     "output_type": "stream",
     "text": [
      "Validating Epoch: 10: 100% 208/208 [00:40<00:00,  5.18it/s]\n"
     ]
    },
    {
     "name": "stdout",
     "output_type": "stream",
     "text": [
      "Outputting sample of validation outputs.\n",
      "['BILEL', 'LAUMOHIER', 'JEAN ROCH', 'RUPA', 'PICHON', 'DANZEL', 'JEREMY', 'JEAN MICHEL', 'JULIEN', 'NAEL']\n",
      "['BILEL', 'LAUMIONIER', 'JEAN ROCH', 'RUPP', 'PICHON', 'DANIEL', 'JEREMY', 'JEAN MICHEL', 'JULIEN', 'NAEL']\n"
     ]
    },
    {
     "name": "stderr",
     "output_type": "stream",
     "text": [
      "Validating Epoch: 10:  15% 249/1661 [00:48<04:32,  5.18it/s]\n"
     ]
    },
    {
     "name": "stdout",
     "output_type": "stream",
     "text": [
      "Outputting sample of validation outputs.\n",
      "['BALTHAIRR', 'SIMON', 'BENES', 'LALOUE', 'DAPHNE', 'LUCIE', 'NASSIM', 'ASSRAOUI', 'JLAVIAN', 'MAEVA']\n",
      "['BALTHAZAR', 'SIMON', 'BENES', 'LA LOVE', 'DAPHNE', 'LUCIE', 'NASSIM', 'ASSRAOUI', 'LAVIAN', 'MAEVA']\n",
      "Validation Loss at epoch 10: 0.3873, WER: 0.32397031784057617, CER: 0.08868416398763657. Best Loss so far:\n",
      "Training Loss at epoch 10: 0.3710, WER: 0.3147127330303192, CER: 0.085292287170887. Best Loss so far:\n"
     ]
    },
    {
     "name": "stderr",
     "output_type": "stream",
     "text": [
      "Validating Epoch: 11: 100% 208/208 [00:39<00:00,  5.21it/s]\n"
     ]
    },
    {
     "name": "stdout",
     "output_type": "stream",
     "text": [
      "Outputting sample of validation outputs.\n",
      "['BILEL', 'LAUMONIER', 'JEAN ROCH', 'RUPP', 'PICHON', 'DANIEL', 'JEREMY', 'JEHN MIENEL', 'JULIEN', 'NAEL']\n",
      "['BILEL', 'LAUMIONIER', 'JEAN ROCH', 'RUPP', 'PICHON', 'DANIEL', 'JEREMY', 'JEAN MICHEL', 'JULIEN', 'NAEL']\n"
     ]
    },
    {
     "name": "stderr",
     "output_type": "stream",
     "text": [
      "Validating Epoch: 11:  15% 249/1661 [00:47<04:32,  5.19it/s]\n"
     ]
    },
    {
     "name": "stdout",
     "output_type": "stream",
     "text": [
      "Outputting sample of validation outputs.\n",
      "['BALTHAIAR', 'SIMON', 'BENES', 'LALOUE', 'DAPANE', 'LUCIE', 'MASSIM', 'ASSRAQUI', 'TIAVIAN', 'MAEYA']\n",
      "['BALTHAZAR', 'SIMON', 'BENES', 'LA LOVE', 'DAPHNE', 'LUCIE', 'NASSIM', 'ASSRAOUI', 'LAVIAN', 'MAEVA']\n",
      "Validation Loss at epoch 11: 0.4365, WER: 0.36671456694602966, CER: 0.10340099036693573. Best Loss so far:\n",
      "Training Loss at epoch 11: 0.4169, WER: 0.3592509329319, CER: 0.09983063489198685. Best Loss so far:\n"
     ]
    },
    {
     "name": "stderr",
     "output_type": "stream",
     "text": [
      "Validating Epoch: 12: 100% 208/208 [00:39<00:00,  5.21it/s]\n"
     ]
    },
    {
     "name": "stdout",
     "output_type": "stream",
     "text": [
      "Outputting sample of validation outputs.\n",
      "['BILEL', 'LAUMONIER', 'JEAN ROCH', 'RUFP', 'PICHON', 'BANIEL', 'JEREMY', 'TEHNEICHE', 'JULIEN', 'NAEL']\n",
      "['BILEL', 'LAUMIONIER', 'JEAN ROCH', 'RUPP', 'PICHON', 'DANIEL', 'JEREMY', 'JEAN MICHEL', 'JULIEN', 'NAEL']\n"
     ]
    },
    {
     "name": "stderr",
     "output_type": "stream",
     "text": [
      "Validating Epoch: 12:  15% 249/1661 [00:48<04:33,  5.16it/s]\n"
     ]
    },
    {
     "name": "stdout",
     "output_type": "stream",
     "text": [
      "Outputting sample of validation outputs.\n",
      "['BAITHAIAR', 'GIMON', 'BENES', 'LALOUE', 'DAPHAE', 'LUCIE', 'NASSIM', 'ASSRAOUI', 'YLAVIAN', 'MAEVA']\n",
      "['BALTHAZAR', 'SIMON', 'BENES', 'LA LOVE', 'DAPHNE', 'LUCIE', 'NASSIM', 'ASSRAOUI', 'LAVIAN', 'MAEVA']\n",
      "Validation Loss at epoch 12: 0.4857, WER: 0.39738985896110535, CER: 0.11707331985235214. Best Loss so far:\n",
      "Training Loss at epoch 12: 0.4711, WER: 0.39493322372436523, CER: 0.11339537799358368. Best Loss so far:\n"
     ]
    },
    {
     "name": "stderr",
     "output_type": "stream",
     "text": [
      "Validating Epoch: 13: 100% 208/208 [00:39<00:00,  5.22it/s]\n"
     ]
    },
    {
     "name": "stdout",
     "output_type": "stream",
     "text": [
      "Outputting sample of validation outputs.\n",
      "['BILEL', 'LAUMOHIER', 'JEAN ROCH', 'RUPP', 'PICHON', 'DANIEL', 'JEREMY', 'JEAN MIENEL', 'JULIEN', 'NAEL']\n",
      "['BILEL', 'LAUMIONIER', 'JEAN ROCH', 'RUPP', 'PICHON', 'DANIEL', 'JEREMY', 'JEAN MICHEL', 'JULIEN', 'NAEL']\n"
     ]
    },
    {
     "name": "stderr",
     "output_type": "stream",
     "text": [
      "Validating Epoch: 13:  15% 249/1661 [00:48<04:34,  5.15it/s]\n"
     ]
    },
    {
     "name": "stdout",
     "output_type": "stream",
     "text": [
      "Outputting sample of validation outputs.\n",
      "['BALTHAIRA', 'SIMON', 'BENES', 'LALOUE', 'DAPHNE', 'LUCIE', 'MASSIM', 'ASSRAOUI', 'YLAVIAN', 'MAEVA']\n",
      "['BALTHAZAR', 'SIMON', 'BENES', 'LA LOVE', 'DAPHNE', 'LUCIE', 'NASSIM', 'ASSRAOUI', 'LAVIAN', 'MAEVA']\n",
      "Validation Loss at epoch 13: 0.3587, WER: 0.3042624592781067, CER: 0.08091434091329575. Best Loss so far:\n",
      "Training Loss at epoch 13: 0.3441, WER: 0.29419490694999695, CER: 0.07664252817630768. Best Loss so far:\n"
     ]
    },
    {
     "name": "stderr",
     "output_type": "stream",
     "text": [
      "Validating Epoch: 14: 100% 208/208 [00:40<00:00,  5.19it/s]\n"
     ]
    },
    {
     "name": "stdout",
     "output_type": "stream",
     "text": [
      "Outputting sample of validation outputs.\n",
      "['BILEL', 'LAUMONIER', 'JEAN ROCH', 'RUPA', 'PICHON', 'DANIEL', 'JEREMY', 'JEAN MIENEL', 'JULIEN', 'NAEL']\n",
      "['BILEL', 'LAUMIONIER', 'JEAN ROCH', 'RUPP', 'PICHON', 'DANIEL', 'JEREMY', 'JEAN MICHEL', 'JULIEN', 'NAEL']\n"
     ]
    },
    {
     "name": "stderr",
     "output_type": "stream",
     "text": [
      "Validating Epoch: 14:  15% 249/1661 [00:47<04:32,  5.19it/s]\n"
     ]
    },
    {
     "name": "stdout",
     "output_type": "stream",
     "text": [
      "Outputting sample of validation outputs.\n",
      "['BALTHAIAR', 'GIMON', 'BENES', 'LALOUE', 'DAPHUE', 'LUCIE', 'MASSIN', 'ASSRAOUI', 'JUAVIAN', 'MAEVA']\n",
      "['BALTHAZAR', 'SIMON', 'BENES', 'LA LOVE', 'DAPHNE', 'LUCIE', 'NASSIM', 'ASSRAOUI', 'LAVIAN', 'MAEVA']\n",
      "Validation Loss at epoch 14: 0.4366, WER: 0.35445401072502136, CER: 0.09981665015220642. Best Loss so far:\n",
      "Training Loss at epoch 14: 0.4136, WER: 0.34436506032943726, CER: 0.09444919228553772. Best Loss so far:\n"
     ]
    },
    {
     "name": "stderr",
     "output_type": "stream",
     "text": [
      "Validating Epoch: 15: 100% 208/208 [00:39<00:00,  5.26it/s]\n"
     ]
    },
    {
     "name": "stdout",
     "output_type": "stream",
     "text": [
      "Outputting sample of validation outputs.\n",
      "['BILEL', 'LAUMONIER', 'JEAN ROCH', 'RUPP', 'PICHON', 'DANIEL', 'JEREMY', 'JEAN MIENEL', 'JULIEN', 'NAEL']\n",
      "['BILEL', 'LAUMIONIER', 'JEAN ROCH', 'RUPP', 'PICHON', 'DANIEL', 'JEREMY', 'JEAN MICHEL', 'JULIEN', 'NAEL']\n"
     ]
    },
    {
     "name": "stderr",
     "output_type": "stream",
     "text": [
      "Validating Epoch: 15:  15% 249/1661 [00:48<04:33,  5.17it/s]\n"
     ]
    },
    {
     "name": "stdout",
     "output_type": "stream",
     "text": [
      "Outputting sample of validation outputs.\n",
      "['BALTHAIAR', 'GIMON', 'BENES', 'LALOUE', 'DAPHNE', 'LUCIE', 'MASSIM', 'ASSRAOUI', 'YLAVIAN', 'MAEVA']\n",
      "['BALTHAZAR', 'SIMON', 'BENES', 'LA LOVE', 'DAPHNE', 'LUCIE', 'NASSIM', 'ASSRAOUI', 'LAVIAN', 'MAEVA']\n",
      "Validation Loss at epoch 15: 0.4344, WER: 0.3695402443408966, CER: 0.10092876851558685. Best Loss so far:\n",
      "Training Loss at epoch 15: 0.4150, WER: 0.357619047164917, CER: 0.09651536494493484. Best Loss so far:\n"
     ]
    },
    {
     "name": "stderr",
     "output_type": "stream",
     "text": [
      "Validating Epoch: 16: 100% 208/208 [00:40<00:00,  5.19it/s]\n"
     ]
    },
    {
     "name": "stdout",
     "output_type": "stream",
     "text": [
      "Outputting sample of validation outputs.\n",
      "['BILEL', 'LAUMONIER', 'JEAN ROCH', 'RUPP', 'PICHON', 'DANIEL', 'JEREMY', 'JEHN MICHEL', 'JULIEN', 'NAEL']\n",
      "['BILEL', 'LAUMIONIER', 'JEAN ROCH', 'RUPP', 'PICHON', 'DANIEL', 'JEREMY', 'JEAN MICHEL', 'JULIEN', 'NAEL']\n"
     ]
    },
    {
     "name": "stderr",
     "output_type": "stream",
     "text": [
      "Validating Epoch: 16:  15% 249/1661 [00:48<04:34,  5.15it/s]\n"
     ]
    },
    {
     "name": "stdout",
     "output_type": "stream",
     "text": [
      "Outputting sample of validation outputs.\n",
      "['BALTHAIAR', 'SIMON', 'BENES', 'LALOUE', 'DAPHNE', 'LUCIE', 'NASSIM', 'ASSRAOUI', 'YLAVIAN', 'MAEVA']\n",
      "['BALTHAZAR', 'SIMON', 'BENES', 'LA LOVE', 'DAPHNE', 'LUCIE', 'NASSIM', 'ASSRAOUI', 'LAVIAN', 'MAEVA']\n",
      "Validation Loss at epoch 16: 0.3601, WER: 0.2998563349246979, CER: 0.08049730211496353. Best Loss so far:\n",
      "Training Loss at epoch 16: 0.3471, WER: 0.29061275720596313, CER: 0.07705263793468475. Best Loss so far:\n"
     ]
    },
    {
     "name": "stderr",
     "output_type": "stream",
     "text": [
      "Validating Epoch: 17: 100% 208/208 [00:40<00:00,  5.18it/s]\n"
     ]
    },
    {
     "name": "stdout",
     "output_type": "stream",
     "text": [
      "Outputting sample of validation outputs.\n",
      "['BILEL', 'LAUMONIER', 'JEAN ROCH', 'RUPA', 'PICHON', 'BANIEL', 'JEREMY', 'JEPNIMICHEL', 'JULIEN', 'NAGL']\n",
      "['BILEL', 'LAUMIONIER', 'JEAN ROCH', 'RUPP', 'PICHON', 'DANIEL', 'JEREMY', 'JEAN MICHEL', 'JULIEN', 'NAEL']\n"
     ]
    },
    {
     "name": "stderr",
     "output_type": "stream",
     "text": [
      "Validating Epoch: 17:  15% 249/1661 [00:48<04:34,  5.14it/s]\n"
     ]
    },
    {
     "name": "stdout",
     "output_type": "stream",
     "text": [
      "Outputting sample of validation outputs.\n",
      "['BALTHAIAR', 'SIMON', 'BENES', 'LALOUE', 'DAPHNE', 'GUCIE', 'MASSIM', 'ASSRAOUI', 'YLAVIAN', 'MAEVA']\n",
      "['BALTHAZAR', 'SIMON', 'BENES', 'LA LOVE', 'DAPHNE', 'LUCIE', 'NASSIM', 'ASSRAOUI', 'LAVIAN', 'MAEVA']\n",
      "Validation Loss at epoch 17: 0.4780, WER: 0.38697317242622375, CER: 0.10960783064365387. Best Loss so far:\n",
      "Training Loss at epoch 17: 0.4602, WER: 0.3779378831386566, CER: 0.10604167729616165. Best Loss so far:\n"
     ]
    },
    {
     "name": "stderr",
     "output_type": "stream",
     "text": [
      "Validating Epoch: 18: 100% 208/208 [00:40<00:00,  5.16it/s]\n"
     ]
    },
    {
     "name": "stdout",
     "output_type": "stream",
     "text": [
      "Outputting sample of validation outputs.\n",
      "['BILEL', 'LAUMONIER', 'JEAN ROCH', 'RUPP', 'PICHON', 'DANIEL', 'JEREMY', 'TEHN MIENELE', 'JULIEN', 'NAEL']\n",
      "['BILEL', 'LAUMIONIER', 'JEAN ROCH', 'RUPP', 'PICHON', 'DANIEL', 'JEREMY', 'JEAN MICHEL', 'JULIEN', 'NAEL']\n"
     ]
    },
    {
     "name": "stderr",
     "output_type": "stream",
     "text": [
      "Validating Epoch: 18:  15% 249/1661 [00:48<04:34,  5.15it/s]\n"
     ]
    },
    {
     "name": "stdout",
     "output_type": "stream",
     "text": [
      "Outputting sample of validation outputs.\n",
      "['BALTHAITRA', 'SIMON', 'BENES', 'LALOUE', 'DAPHNE', 'JUCIE', 'NASSIN', 'ASSRAOUI', 'YLAVIAN', 'MAEYA']\n",
      "['BALTHAZAR', 'SIMON', 'BENES', 'LA LOVE', 'DAPHNE', 'LUCIE', 'NASSIM', 'ASSRAOUI', 'LAVIAN', 'MAEVA']\n",
      "Validation Loss at epoch 18: 0.4080, WER: 0.3425047993659973, CER: 0.09560862183570862. Best Loss so far:\n",
      "Training Loss at epoch 18: 0.3948, WER: 0.336762934923172, CER: 0.09189777821302414. Best Loss so far:\n"
     ]
    },
    {
     "name": "stderr",
     "output_type": "stream",
     "text": [
      "Validating Epoch: 19: 100% 208/208 [00:40<00:00,  5.16it/s]\n"
     ]
    },
    {
     "name": "stdout",
     "output_type": "stream",
     "text": [
      "Outputting sample of validation outputs.\n",
      "['BILEL', 'LAUMONIER', 'JEAN ROCH', 'RUPP', 'PICHON', 'DANIEL', 'JEREMY', 'JEHN MICHEL', 'JULIEN', 'MAEL']\n",
      "['BILEL', 'LAUMIONIER', 'JEAN ROCH', 'RUPP', 'PICHON', 'DANIEL', 'JEREMY', 'JEAN MICHEL', 'JULIEN', 'NAEL']\n"
     ]
    },
    {
     "name": "stderr",
     "output_type": "stream",
     "text": [
      "Validating Epoch: 19:  15% 249/1661 [00:48<04:35,  5.13it/s]\n"
     ]
    },
    {
     "name": "stdout",
     "output_type": "stream",
     "text": [
      "Outputting sample of validation outputs.\n",
      "['BALTHAIAR', 'SIMON', 'BENES', 'LALOUE', 'DAPHNE', 'LUCIE', 'NASSIM', 'ASSRAOUI', 'YLAVIAN', 'MAEVA']\n",
      "['BALTHAZAR', 'SIMON', 'BENES', 'LA LOVE', 'DAPHNE', 'LUCIE', 'NASSIM', 'ASSRAOUI', 'LAVIAN', 'MAEVA']\n",
      "Validation Loss at epoch 19: 0.3408, WER: 0.28936782479286194, CER: 0.07641325891017914. Best Loss so far:\n",
      "Training Loss at epoch 19: 0.3245, WER: 0.2793090343475342, CER: 0.07187780737876892. Best Loss so far:\n"
     ]
    },
    {
     "name": "stderr",
     "output_type": "stream",
     "text": [
      "Validating Epoch: 2: 100% 208/208 [00:40<00:00,  5.19it/s]\n"
     ]
    },
    {
     "name": "stdout",
     "output_type": "stream",
     "text": [
      "Outputting sample of validation outputs.\n",
      "['BOLLE', 'LAURANDES', 'FERRANDER', 'RAUX', 'PICHOT', 'JADILE', 'JEANNE', 'FERNANDERE', 'JULIEN', 'MAEL']\n",
      "['BILEL', 'LAUMIONIER', 'JEAN ROCH', 'RUPP', 'PICHON', 'DANIEL', 'JEREMY', 'JEAN MICHEL', 'JULIEN', 'NAEL']\n"
     ]
    },
    {
     "name": "stderr",
     "output_type": "stream",
     "text": [
      "Validating Epoch: 2:  15% 249/1661 [00:48<04:34,  5.15it/s]\n"
     ]
    },
    {
     "name": "stdout",
     "output_type": "stream",
     "text": [
      "Outputting sample of validation outputs.\n",
      "['BASTARDAN', 'SORIA', 'DENIS', 'CASSIE', 'THOMAS', 'CULIE', 'MAELYS', 'MOURAULT', 'TIMOTHA', 'MAEVA']\n",
      "['BALTHAZAR', 'SIMON', 'BENES', 'LA LOVE', 'DAPHNE', 'LUCIE', 'NASSIM', 'ASSRAOUI', 'LAVIAN', 'MAEVA']\n",
      "Validation Loss at epoch 2: 2.0120, WER: 0.8631705045700073, CER: 0.5623539686203003. Best Loss so far:\n",
      "Training Loss at epoch 2: 2.0019, WER: 0.8599374890327454, CER: 0.5604528188705444. Best Loss so far:\n"
     ]
    },
    {
     "name": "stderr",
     "output_type": "stream",
     "text": [
      "Validating Epoch: 20: 100% 208/208 [00:40<00:00,  5.16it/s]\n"
     ]
    },
    {
     "name": "stdout",
     "output_type": "stream",
     "text": [
      "Outputting sample of validation outputs.\n",
      "['BILEL', 'LAUMONIER', 'JEAN ROCH', 'RUPP', 'PICHON', 'DANIEL', 'JEREMY', 'JEAN MICHEL', 'JULIEN', 'NAEL']\n",
      "['BILEL', 'LAUMIONIER', 'JEAN ROCH', 'RUPP', 'PICHON', 'DANIEL', 'JEREMY', 'JEAN MICHEL', 'JULIEN', 'NAEL']\n"
     ]
    },
    {
     "name": "stderr",
     "output_type": "stream",
     "text": [
      "Validating Epoch: 20:  15% 249/1661 [00:48<04:35,  5.12it/s]\n"
     ]
    },
    {
     "name": "stdout",
     "output_type": "stream",
     "text": [
      "Outputting sample of validation outputs.\n",
      "['BALTHAIRR', 'SIMON', 'BENES', 'LALOUE', 'DAPHNE', 'LUCIE', 'MASSIN', 'ASSRAUI', 'YLAVIAN', 'MACYA']\n",
      "['BALTHAZAR', 'SIMON', 'BENES', 'LA LOVE', 'DAPHNE', 'LUCIE', 'NASSIM', 'ASSRAOUI', 'LAVIAN', 'MAEVA']\n",
      "Validation Loss at epoch 20: 0.4707, WER: 0.36266762018203735, CER: 0.10204840451478958. Best Loss so far:\n",
      "Training Loss at epoch 20: 0.4543, WER: 0.3554697632789612, CER: 0.09895721077919006. Best Loss so far:\n"
     ]
    },
    {
     "name": "stderr",
     "output_type": "stream",
     "text": [
      "Validating Epoch: 3: 100% 208/208 [00:40<00:00,  5.15it/s]\n"
     ]
    },
    {
     "name": "stdout",
     "output_type": "stream",
     "text": [
      "Outputting sample of validation outputs.\n",
      "['BILLE', 'LAUMENTER', 'JEAN ABER', 'RUBA', 'PICHON', 'BANIEL', 'LERENN', 'JEAN MATHEAU', 'JULIEN', 'MAEL']\n",
      "['BILEL', 'LAUMIONIER', 'JEAN ROCH', 'RUPP', 'PICHON', 'DANIEL', 'JEREMY', 'JEAN MICHEL', 'JULIEN', 'NAEL']\n"
     ]
    },
    {
     "name": "stderr",
     "output_type": "stream",
     "text": [
      "Validating Epoch: 3:  15% 249/1661 [00:48<04:34,  5.15it/s]\n"
     ]
    },
    {
     "name": "stdout",
     "output_type": "stream",
     "text": [
      "Outputting sample of validation outputs.\n",
      "['BALANNEAU', 'GINON', 'DENES', 'CALOSE', 'DAPHIE', 'LOCIE', 'MAEVON', 'ROGANDOT', 'DENTIAN', 'MAEVA']\n",
      "['BALTHAZAR', 'SIMON', 'BENES', 'LA LOVE', 'DAPHNE', 'LUCIE', 'NASSIM', 'ASSRAOUI', 'LAVIAN', 'MAEVA']\n",
      "Validation Loss at epoch 3: 1.2639, WER: 0.7294779419898987, CER: 0.3651515245437622. Best Loss so far:\n",
      "Training Loss at epoch 3: 1.2538, WER: 0.7241536974906921, CER: 0.36166495084762573. Best Loss so far:\n"
     ]
    },
    {
     "name": "stderr",
     "output_type": "stream",
     "text": [
      "Validating Epoch: 4: 100% 208/208 [00:40<00:00,  5.16it/s]\n"
     ]
    },
    {
     "name": "stdout",
     "output_type": "stream",
     "text": [
      "Outputting sample of validation outputs.\n",
      "['BILEL', 'LAUMONIER', 'JEAN ROCH', 'RUPA', 'PICHON', 'DAMIEL', 'JEREMY', 'JEAN MALUEL', 'JULIEN', 'NAEL']\n",
      "['BILEL', 'LAUMIONIER', 'JEAN ROCH', 'RUPP', 'PICHON', 'DANIEL', 'JEREMY', 'JEAN MICHEL', 'JULIEN', 'NAEL']\n"
     ]
    },
    {
     "name": "stderr",
     "output_type": "stream",
     "text": [
      "Validating Epoch: 4:  15% 249/1661 [00:48<04:34,  5.15it/s]\n"
     ]
    },
    {
     "name": "stdout",
     "output_type": "stream",
     "text": [
      "Outputting sample of validation outputs.\n",
      "['BALTHAIRA', 'SIMON', 'BENES', 'LALOUE', 'DAPHNE', 'LOCIE', 'MASSIM', 'ASSAROUI', 'FLAVIAN', 'MAEVA']\n",
      "['BALTHAZAR', 'SIMON', 'BENES', 'LA LOVE', 'DAPHNE', 'LUCIE', 'NASSIM', 'ASSRAOUI', 'LAVIAN', 'MAEVA']\n",
      "Validation Loss at epoch 4: 0.7097, WER: 0.5178160667419434, CER: 0.19890441000461578. Best Loss so far:\n",
      "Training Loss at epoch 4: 0.6918, WER: 0.5079106092453003, CER: 0.19344709813594818. Best Loss so far:\n"
     ]
    },
    {
     "name": "stderr",
     "output_type": "stream",
     "text": [
      "Validating Epoch: 5: 100% 208/208 [00:40<00:00,  5.14it/s]\n"
     ]
    },
    {
     "name": "stdout",
     "output_type": "stream",
     "text": [
      "Outputting sample of validation outputs.\n",
      "['BILEL', 'LAUMONIER', 'JEAN ROCH', 'RUPA', 'PICHON', 'DANIEL', 'JEREMY', 'SEAN   LIENEL', 'JULIEN', 'NAEL']\n",
      "['BILEL', 'LAUMIONIER', 'JEAN ROCH', 'RUPP', 'PICHON', 'DANIEL', 'JEREMY', 'JEAN MICHEL', 'JULIEN', 'NAEL']\n"
     ]
    },
    {
     "name": "stderr",
     "output_type": "stream",
     "text": [
      "Validating Epoch: 5:  15% 249/1661 [00:48<04:35,  5.13it/s]\n"
     ]
    },
    {
     "name": "stdout",
     "output_type": "stream",
     "text": [
      "Outputting sample of validation outputs.\n",
      "['BALTHASAR', 'GIMON', 'BENES', 'LACOUE', 'DAPHNE', 'LUCIE', 'MASSIM', 'ASSAROUI', 'PLAVIAN', 'MAEVA']\n",
      "['BALTHAZAR', 'SIMON', 'BENES', 'LA LOVE', 'DAPHNE', 'LUCIE', 'NASSIM', 'ASSRAOUI', 'LAVIAN', 'MAEVA']\n",
      "Validation Loss at epoch 5: 0.6375, WER: 0.4877873659133911, CER: 0.17620360851287842. Best Loss so far:\n",
      "Training Loss at epoch 5: 0.6179, WER: 0.4786961078643799, CER: 0.17112615704536438. Best Loss so far:\n"
     ]
    },
    {
     "name": "stderr",
     "output_type": "stream",
     "text": [
      "Validating Epoch: 6: 100% 208/208 [00:39<00:00,  5.21it/s]\n"
     ]
    },
    {
     "name": "stdout",
     "output_type": "stream",
     "text": [
      "Outputting sample of validation outputs.\n",
      "['BILEL', 'LAUMONIER', 'JEAN ROCCH', 'RUPA', 'PICHON', 'DANIEL', 'JERIAN', 'TEAN MIENEL', 'JULIEN', 'NAEL']\n",
      "['BILEL', 'LAUMIONIER', 'JEAN ROCH', 'RUPP', 'PICHON', 'DANIEL', 'JEREMY', 'JEAN MICHEL', 'JULIEN', 'NAEL']\n"
     ]
    },
    {
     "name": "stderr",
     "output_type": "stream",
     "text": [
      "Validating Epoch: 6:  15% 249/1661 [00:48<04:34,  5.15it/s]\n"
     ]
    },
    {
     "name": "stdout",
     "output_type": "stream",
     "text": [
      "Outputting sample of validation outputs.\n",
      "['BALTHAIRA', 'SIMON', 'BENOS', 'LALOUE', 'DAPHNE', 'LOCIE', 'MASSIM', 'ASSRAOUI', 'VIANIAN', 'MAENA']\n",
      "['BALTHAZAR', 'SIMON', 'BENES', 'LA LOVE', 'DAPHNE', 'LUCIE', 'NASSIM', 'ASSRAOUI', 'LAVIAN', 'MAEVA']\n",
      "Validation Loss at epoch 6: 0.6807, WER: 0.5285201072692871, CER: 0.18052810430526733. Best Loss so far:\n",
      "Training Loss at epoch 6: 0.6648, WER: 0.5256025195121765, CER: 0.17704293131828308. Best Loss so far:\n"
     ]
    },
    {
     "name": "stderr",
     "output_type": "stream",
     "text": [
      "Validating Epoch: 7: 100% 208/208 [00:40<00:00,  5.19it/s]\n"
     ]
    },
    {
     "name": "stdout",
     "output_type": "stream",
     "text": [
      "Outputting sample of validation outputs.\n",
      "['BILEL', 'LAUMONIER', 'JEAN ROCCH', 'RUPA', 'PICHON', 'DANIEL', 'JEREMY', 'JEAN    MILLEEL', 'JULIEN', 'NAEL']\n",
      "['BILEL', 'LAUMIONIER', 'JEAN ROCH', 'RUPP', 'PICHON', 'DANIEL', 'JEREMY', 'JEAN MICHEL', 'JULIEN', 'NAEL']\n"
     ]
    },
    {
     "name": "stderr",
     "output_type": "stream",
     "text": [
      "Validating Epoch: 7:  15% 249/1661 [00:48<04:33,  5.17it/s]\n"
     ]
    },
    {
     "name": "stdout",
     "output_type": "stream",
     "text": [
      "Outputting sample of validation outputs.\n",
      "['BALTHAIRR', 'SIMON', 'BENES', 'LALOUC', 'DAPHNE', 'JUCIE', 'MASSIN', 'ASSRAOUI', 'YLANIAN', 'MAEVA']\n",
      "['BALTHAZAR', 'SIMON', 'BENES', 'LA LOVE', 'DAPHNE', 'LUCIE', 'NASSIM', 'ASSRAOUI', 'LAVIAN', 'MAEVA']\n",
      "Validation Loss at epoch 7: 0.5250, WER: 0.3972701132297516, CER: 0.12506480515003204. Best Loss so far:\n",
      "Training Loss at epoch 7: 0.5008, WER: 0.38448527455329895, CER: 0.12025758624076843. Best Loss so far:\n"
     ]
    },
    {
     "name": "stderr",
     "output_type": "stream",
     "text": [
      "Validating Epoch: 8: 100% 208/208 [00:39<00:00,  5.22it/s]\n"
     ]
    },
    {
     "name": "stdout",
     "output_type": "stream",
     "text": [
      "Outputting sample of validation outputs.\n",
      "['BILEEL', 'LAUMONIER', 'JEAN ROCH', 'RUPA', 'PICHON', 'DANIEL', 'JEREMY', 'FERN MIENCE', 'JULIEN', 'NAEL']\n",
      "['BILEL', 'LAUMIONIER', 'JEAN ROCH', 'RUPP', 'PICHON', 'DANIEL', 'JEREMY', 'JEAN MICHEL', 'JULIEN', 'NAEL']\n"
     ]
    },
    {
     "name": "stderr",
     "output_type": "stream",
     "text": [
      "Validating Epoch: 8:  15% 249/1661 [00:48<04:33,  5.16it/s]\n"
     ]
    },
    {
     "name": "stdout",
     "output_type": "stream",
     "text": [
      "Outputting sample of validation outputs.\n",
      "['BALTHAIRR', 'GIMON', 'BENES', 'LALOUE', 'DAPHNE', 'LUCIE', 'MASSIN', 'ASSRAOUI', 'YLAVIAN', 'MAEVA']\n",
      "['BALTHAZAR', 'SIMON', 'BENES', 'LA LOVE', 'DAPHNE', 'LUCIE', 'NASSIM', 'ASSRAOUI', 'LAVIAN', 'MAEVA']\n",
      "Validation Loss at epoch 8: 0.5067, WER: 0.41582855582237244, CER: 0.1244523897767067. Best Loss so far:\n",
      "Training Loss at epoch 8: 0.4880, WER: 0.404326468706131, CER: 0.11994452774524689. Best Loss so far:\n"
     ]
    },
    {
     "name": "stderr",
     "output_type": "stream",
     "text": [
      "Validating Epoch: 9: 100% 208/208 [00:40<00:00,  5.19it/s]\n"
     ]
    },
    {
     "name": "stdout",
     "output_type": "stream",
     "text": [
      "Outputting sample of validation outputs.\n",
      "['BILEL', 'LAUMONIER', 'JEAN ROCH', 'RUPP', 'PICHON', 'DANIEL', 'JEREMY', 'JEAN MICHEL', 'JULIEN', 'NAEL']\n",
      "['BILEL', 'LAUMIONIER', 'JEAN ROCH', 'RUPP', 'PICHON', 'DANIEL', 'JEREMY', 'JEAN MICHEL', 'JULIEN', 'NAEL']\n"
     ]
    },
    {
     "name": "stderr",
     "output_type": "stream",
     "text": [
      "Validating Epoch: 9:  15% 249/1661 [00:47<04:31,  5.20it/s]\n"
     ]
    },
    {
     "name": "stdout",
     "output_type": "stream",
     "text": [
      "Outputting sample of validation outputs.\n",
      "['BALTVAIRR', 'SIMON', 'BENES', 'LALOUE', 'DARANE', 'LUCIE', 'MASSIN', 'ASSRAOUI', 'VIANIAN', 'MAEWA']\n",
      "['BALTHAZAR', 'SIMON', 'BENES', 'LA LOVE', 'DAPHNE', 'LUCIE', 'NASSIM', 'ASSRAOUI', 'LAVIAN', 'MAEVA']\n",
      "Validation Loss at epoch 9: 0.5225, WER: 0.4347701072692871, CER: 0.12908121943473816. Best Loss so far:\n",
      "Training Loss at epoch 9: 0.5065, WER: 0.4274314045906067, CER: 0.12504422664642334. Best Loss so far:\n"
     ]
    }
   ],
   "source": [
    "from handwriting_recognition.train import _evaluate\n",
    "\n",
    "data_train = HandWritingDataset(\n",
    "data_path=get_dataset_folder_path() / \"pre_processed\" / \"train.csv\",\n",
    "img_size=config.feature_extractor_config.input_size,\n",
    ")\n",
    "\n",
    "data_val = HandWritingDataset(\n",
    "    data_path=get_dataset_folder_path() / \"pre_processed\" / \"validation.csv\",\n",
    "    img_size=config.feature_extractor_config.input_size,\n",
    ")\n",
    "\n",
    "train_loader = DataLoader(\n",
    "    data_train,\n",
    "    batch_size=BATCH_SIZE,\n",
    "    shuffle=False,\n",
    "    pin_memory=False,\n",
    "    drop_last=False,\n",
    ")\n",
    "\n",
    "val_loader = DataLoader(\n",
    "    data_val,\n",
    "    batch_size=BATCH_SIZE,\n",
    "    shuffle=False,\n",
    "    pin_memory=False,\n",
    "    drop_last=False,\n",
    ")\n",
    "loss_function = CrossEntropyLoss(ignore_index=0).to(get_device())\n",
    "\n",
    "val_metrics = []\n",
    "train_metrics = []\n",
    "\n",
    "for epoch in all_epochs:\n",
    "    model_file = os.path.join(MODEL_DIR, epoch)\n",
    "    saved_model = torch.load(model_file)\n",
    "    config = TrainingConfig(**saved_model['config'])\n",
    "\n",
    "    image_model = get_image_model(model_name=config.feature_extractor_config.model_name)\n",
    "    model = HandwritingRecognitionModel(image_feature_extractor=image_model, training_config=config)\n",
    "    model.load_state_dict(saved_model[\"state\"])\n",
    "    converter = LabelConverter(character_set=saved_model['character_set'], max_text_length=saved_model['max_text_length'])\n",
    "    \n",
    "    model = model.to(get_device())\n",
    "    model = model.eval()\n",
    "\n",
    "    validation_loss, val_character_error_rate, val_word_error_rate, all_val_preds, all_val_ground_truths = _evaluate(\n",
    "        epoch=saved_model['epoch'],\n",
    "        model=model,\n",
    "        data_loader=val_loader,\n",
    "        converter=converter,\n",
    "        loss_function=loss_function,\n",
    "        max_iter=250,\n",
    "    )\n",
    "    val_metrics.append({\n",
    "        \"loss\": validation_loss.item(),\n",
    "        \"epoch\": int(epoch),\n",
    "        \"cer\": val_character_error_rate.item(),\n",
    "        \"wer\": val_word_error_rate.item(),\n",
    "        \"preds\": all_val_preds,\n",
    "        \"ground_truths\": all_val_ground_truths\n",
    "    })\n",
    "    train_loss, train_character_error_rate, train_word_error_rate, all_train_preds, all_train_ground_truths = _evaluate(\n",
    "        epoch=saved_model['epoch'],\n",
    "        model=model,\n",
    "        data_loader=train_loader,\n",
    "        converter=converter,\n",
    "        loss_function=loss_function,\n",
    "        max_iter=250\n",
    "    )\n",
    "    train_metrics.append({\n",
    "        \"loss\": train_loss.item(),\n",
    "        \"epoch\": int(epoch),\n",
    "        \"cer\": train_character_error_rate.item(),\n",
    "        \"wer\": train_word_error_rate.item(),\n",
    "        \"preds\": all_train_preds,\n",
    "        \"ground_truths\": all_train_ground_truths\n",
    "    })\n",
    "    print(\n",
    "        f\"Validation Loss at epoch {epoch}: {validation_loss:.4f}, WER: {val_word_error_rate}, CER: {val_character_error_rate}. Best Loss so far:\"\n",
    "    )\n",
    "    \n",
    "    print(\n",
    "        f\"Training Loss at epoch {epoch}: {train_loss:.4f}, WER: {train_word_error_rate}, CER: {train_character_error_rate}. Best Loss so far:\"\n",
    "    )"
   ]
  },
  {
   "cell_type": "code",
   "execution_count": 46,
   "metadata": {},
   "outputs": [],
   "source": [
    "import pickle\n",
    "\n",
    "with open(\"train_metrics.pkl\", 'wb') as f:\n",
    "    pickle.dump(train_metrics, f)\n",
    "    \n",
    "with open(\"val_metrics.pkl\", 'wb') as f:\n",
    "    pickle.dump(val_metrics, f)"
   ]
  },
  {
   "cell_type": "code",
   "execution_count": 47,
   "metadata": {},
   "outputs": [],
   "source": [
    "all_val_losses = [(x['loss'], x['epoch']) for x in val_metrics]\n",
    "all_train_losses = [(x['loss'], x['epoch']) for x in train_metrics]\n",
    "\n",
    "all_val_losses.sort(key=lambda x: x[1])\n",
    "all_train_losses.sort(key=lambda x: x[1])"
   ]
  },
  {
   "cell_type": "code",
   "execution_count": 48,
   "metadata": {},
   "outputs": [],
   "source": [
    "val_loss, val_epochs = zip(*all_val_losses)\n",
    "train_loss, train_epochs = zip(*all_train_losses)"
   ]
  },
  {
   "cell_type": "code",
   "execution_count": 49,
   "metadata": {},
   "outputs": [
    {
     "data": {
      "text/plain": [
       "(3.1864354610443115,\n",
       " 2.001875400543213,\n",
       " 1.2538414001464844,\n",
       " 0.6917925477027893,\n",
       " 0.6179085373878479,\n",
       " 0.664823055267334,\n",
       " 0.5007858276367188,\n",
       " 0.4880155026912689,\n",
       " 0.5064628720283508,\n",
       " 0.3710483908653259,\n",
       " 0.41694536805152893,\n",
       " 0.47110146284103394,\n",
       " 0.3440956175327301,\n",
       " 0.4135979115962982,\n",
       " 0.41495969891548157,\n",
       " 0.34711483120918274,\n",
       " 0.46023255586624146,\n",
       " 0.39481881260871887,\n",
       " 0.32451871037483215,\n",
       " 0.4542522430419922)"
      ]
     },
     "execution_count": 49,
     "metadata": {},
     "output_type": "execute_result"
    }
   ],
   "source": [
    "train_loss"
   ]
  },
  {
   "cell_type": "code",
   "execution_count": 50,
   "metadata": {},
   "outputs": [],
   "source": [
    "all_val_cer = [(x['cer'], x['epoch']) for x in val_metrics]\n",
    "all_train_cer = [(x['cer'], x['epoch']) for x in train_metrics]\n",
    "\n",
    "all_val_cer.sort(key=lambda x: x[1])\n",
    "all_train_cer.sort(key=lambda x: x[1])"
   ]
  },
  {
   "cell_type": "code",
   "execution_count": 51,
   "metadata": {},
   "outputs": [],
   "source": [
    "val_cer, val_epochs = zip(*all_val_cer)\n",
    "train_cer, train_epochs = zip(*all_train_cer)"
   ]
  },
  {
   "cell_type": "code",
   "execution_count": 52,
   "metadata": {},
   "outputs": [],
   "source": [
    "import matplotlib.pyplot as plt"
   ]
  },
  {
   "cell_type": "code",
   "execution_count": 53,
   "metadata": {},
   "outputs": [
    {
     "data": {
      "image/png": "[encoded data removed]",
      "text/plain": [
       "<Figure size 1000x600 with 1 Axes>"
      ]
     },
     "metadata": {},
     "output_type": "display_data"
    }
   ],
   "source": [
    "plt.figure(figsize=(10, 6))\n",
    "plt.plot(train_epochs, train_cer, marker='o', linestyle='-', color='b', label='Training CER')\n",
    "plt.plot(val_epochs, val_cer, marker='s', linestyle='--', color='r', label='Validation CER')\n",
    "\n",
    "plt.title('Training and Validation CER over Epochs', fontsize=16)\n",
    "plt.xlabel('Epochs', fontsize=14)\n",
    "plt.ylabel('CER', fontsize=14)\n",
    "plt.legend(fontsize=12)\n",
    "plt.grid(True)\n",
    "plt.xticks(range(1, max(train_epochs) + 1)) \n",
    "\n",
    "plt.tight_layout()\n",
    "plt.show()"
   ]
  },
  {
   "cell_type": "code",
   "execution_count": 54,
   "metadata": {},
   "outputs": [
    {
     "data": {
      "image/png": "[encoded data removed]",
      "text/plain": [
       "<Figure size 1000x600 with 1 Axes>"
      ]
     },
     "metadata": {},
     "output_type": "display_data"
    }
   ],
   "source": [
    "plt.figure(figsize=(10, 6))\n",
    "plt.plot(train_epochs, train_loss, marker='o', linestyle='-', color='b', label='Training Loss')\n",
    "plt.plot(val_epochs, val_loss, marker='s', linestyle='--', color='r', label='Validation Loss')\n",
    "\n",
    "plt.title('Training and Validation Loss over Epochs', fontsize=16)\n",
    "plt.xlabel('Epochs', fontsize=14)\n",
    "plt.ylabel('Loss', fontsize=14)\n",
    "plt.legend(fontsize=12)\n",
    "plt.grid(True)\n",
    "plt.xticks(range(1, max(train_epochs) + 1)) \n",
    "\n",
    "plt.tight_layout()\n",
    "plt.show()"
   ]
  },
  {
   "cell_type": "code",
   "execution_count": null,
   "metadata": {},
   "outputs": [],
   "source": []
  }
 ],
 "metadata": {
  "kernelspec": {
   "display_name": "handwriting-recognition-05HTZ8rb-py3.11",
   "language": "python",
   "name": "python3"
  },
  "language_info": {
   "codemirror_mode": {
    "name": "ipython",
    "version": 3
   },
   "file_extension": ".py",
   "mimetype": "text/x-python",
   "name": "python",
   "nbconvert_exporter": "python",
   "pygments_lexer": "ipython3",
   "version": "3.11.9"
  }
 },
 "nbformat": 4,
 "nbformat_minor": 2
}
