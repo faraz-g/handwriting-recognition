{
 "cells": [
  {
   "cell_type": "code",
   "execution_count": 1,
   "metadata": {},
   "outputs": [],
   "source": [
    "%load_ext autoreload\n",
    "%autoreload 2"
   ]
  },
  {
   "cell_type": "code",
   "execution_count": 2,
   "metadata": {},
   "outputs": [
    {
     "name": "stderr",
     "output_type": "stream",
     "text": [
      "/home/faraz/.cache/pypoetry/virtualenvs/handwriting-recognition-05HTZ8rb-py3.11/lib/python3.11/site-packages/pydantic/_internal/_fields.py:160: UserWarning: Field \"model_name\" has conflict with protected namespace \"model_\".\n",
      "\n",
      "You may be able to resolve this warning by setting `model_config['protected_namespaces'] = ()`.\n",
      "  warnings.warn(\n"
     ]
    }
   ],
   "source": [
    "import argparse\n",
    "import os\n",
    "\n",
    "import numpy as np\n",
    "import torch\n",
    "from torch.nn.modules.loss import CrossEntropyLoss\n",
    "from torch.utils.data.dataloader import DataLoader\n",
    "from tqdm import tqdm\n",
    "import random\n",
    "\n",
    "from handwriting_recognition.label_converter import LabelConverter\n",
    "from handwriting_recognition.model.model import HandwritingRecognitionModel\n",
    "from handwriting_recognition.modelling_utils import get_image_model\n",
    "from handwriting_recognition.utils import TrainingConfig, get_dataset_folder_path\n",
    "from handwriting_recognition.dataset import HandWritingDataset\n",
    "from pathlib import Path\n",
    "from handwriting_recognition.modelling_utils import get_device\n",
    "from handwriting_recognition.eval import cer, wer\n",
    "\n",
    "torch.backends.cudnn.benchmark = True"
   ]
  },
  {
   "cell_type": "code",
   "execution_count": 3,
   "metadata": {},
   "outputs": [],
   "source": [
    "CONFIG_NAME = \"resnet_config\"\n",
    "MODEL_DIR = Path(get_dataset_folder_path()).parent.joinpath(\"model_outputs\", CONFIG_NAME)\n",
    "config_path = Path(get_dataset_folder_path()).parent.joinpath(\"handwriting_recognition\", \"configs\", CONFIG_NAME).with_suffix(\".json\")\n",
    "config = TrainingConfig.from_path(config_path=config_path)"
   ]
  },
  {
   "cell_type": "code",
   "execution_count": 4,
   "metadata": {},
   "outputs": [],
   "source": [
    "all_epochs = [x for x in sorted(os.listdir(MODEL_DIR)) if x.isdigit()]"
   ]
  },
  {
   "cell_type": "code",
   "execution_count": 5,
   "metadata": {},
   "outputs": [
    {
     "data": {
      "text/plain": [
       "['1',\n",
       " '10',\n",
       " '11',\n",
       " '12',\n",
       " '13',\n",
       " '14',\n",
       " '15',\n",
       " '16',\n",
       " '17',\n",
       " '18',\n",
       " '19',\n",
       " '2',\n",
       " '20',\n",
       " '21',\n",
       " '22',\n",
       " '23',\n",
       " '24',\n",
       " '25',\n",
       " '26',\n",
       " '27',\n",
       " '28',\n",
       " '3',\n",
       " '4',\n",
       " '5',\n",
       " '6',\n",
       " '7',\n",
       " '8',\n",
       " '9']"
      ]
     },
     "execution_count": 5,
     "metadata": {},
     "output_type": "execute_result"
    }
   ],
   "source": [
    "all_epochs"
   ]
  },
  {
   "cell_type": "code",
   "execution_count": 6,
   "metadata": {},
   "outputs": [],
   "source": [
    "BATCH_SIZE = 192"
   ]
  },
  {
   "cell_type": "code",
   "execution_count": 7,
   "metadata": {},
   "outputs": [
    {
     "name": "stderr",
     "output_type": "stream",
     "text": [
      "Validating Epoch: 1: 100% 208/208 [00:43<00:00,  4.76it/s]\n"
     ]
    },
    {
     "name": "stdout",
     "output_type": "stream",
     "text": [
      "Outputting sample of validation outputs.\n",
      "['ALICE', 'BENTELLER', 'CARILLIER', 'LISA', 'BOURET', 'MATHIS', 'MATHIS', 'BENTE   BARIER', 'MATHIS', 'LUCA']\n",
      "['BILEL', 'LAUMIONIER', 'JEAN ROCH', 'RUPP', 'PICHON', 'DANIEL', 'JEREMY', 'JEAN MICHEL', 'JULIEN', 'NAEL']\n"
     ]
    },
    {
     "name": "stderr",
     "output_type": "stream",
     "text": [
      "Validating Epoch: 1:  15% 249/1661 [00:50<04:48,  4.89it/s]\n"
     ]
    },
    {
     "name": "stdout",
     "output_type": "stream",
     "text": [
      "Outputting sample of validation outputs.\n",
      "['BENTELLER', 'LOUIS', 'LOUIS', 'BERRET', 'MATHIS', 'ALICE', 'MATHIS', 'BERRAUDE', 'ANTOINE', 'ALICE']\n",
      "['BALTHAZAR', 'SIMON', 'BENES', 'LA LOVE', 'DAPHNE', 'LUCIE', 'NASSIM', 'ASSRAOUI', 'LAVIAN', 'MAEVA']\n",
      "Validation Loss at epoch 1: 3.1855, WER: 1.0079501867294312, CER: 0.8393059968948364. Best Loss so far:\n",
      "Training Loss at epoch 1: 3.1864, WER: 1.0059702396392822, CER: 0.8385910987854004. Best Loss so far:\n"
     ]
    },
    {
     "name": "stderr",
     "output_type": "stream",
     "text": [
      "Validating Epoch: 10: 100% 208/208 [00:41<00:00,  4.99it/s]\n"
     ]
    },
    {
     "name": "stdout",
     "output_type": "stream",
     "text": [
      "Outputting sample of validation outputs.\n",
      "['BILEL', 'LAUMOHIER', 'JEAN ROCH', 'RUPA', 'PICHON', 'DANZEL', 'JEREMY', 'JEAN MICHEL', 'JULIEN', 'NAEL']\n",
      "['BILEL', 'LAUMIONIER', 'JEAN ROCH', 'RUPP', 'PICHON', 'DANIEL', 'JEREMY', 'JEAN MICHEL', 'JULIEN', 'NAEL']\n"
     ]
    },
    {
     "name": "stderr",
     "output_type": "stream",
     "text": [
      "Validating Epoch: 10:  15% 249/1661 [00:50<04:46,  4.93it/s]\n"
     ]
    },
    {
     "name": "stdout",
     "output_type": "stream",
     "text": [
      "Outputting sample of validation outputs.\n",
      "['BALTHAIRR', 'SIMON', 'BENES', 'LALOUE', 'DAPHNE', 'LUCIE', 'NASSIM', 'ASSRAOUI', 'JLAVIAN', 'MAEVA']\n",
      "['BALTHAZAR', 'SIMON', 'BENES', 'LA LOVE', 'DAPHNE', 'LUCIE', 'NASSIM', 'ASSRAOUI', 'LAVIAN', 'MAEVA']\n",
      "Validation Loss at epoch 10: 0.3873, WER: 0.32397031784057617, CER: 0.08868791908025742. Best Loss so far:\n",
      "Training Loss at epoch 10: 0.3710, WER: 0.31469282507896423, CER: 0.085292287170887. Best Loss so far:\n"
     ]
    },
    {
     "name": "stderr",
     "output_type": "stream",
     "text": [
      "Validating Epoch: 11: 100% 208/208 [00:42<00:00,  4.93it/s]\n"
     ]
    },
    {
     "name": "stdout",
     "output_type": "stream",
     "text": [
      "Outputting sample of validation outputs.\n",
      "['BILEL', 'LAUMONIER', 'JEAN ROCH', 'RUPP', 'PICHON', 'DANIEL', 'JEREMY', 'JEHN MIENEL', 'JULIEN', 'NAEL']\n",
      "['BILEL', 'LAUMIONIER', 'JEAN ROCH', 'RUPP', 'PICHON', 'DANIEL', 'JEREMY', 'JEAN MICHEL', 'JULIEN', 'NAEL']\n"
     ]
    },
    {
     "name": "stderr",
     "output_type": "stream",
     "text": [
      "Validating Epoch: 11:  15% 249/1661 [00:50<04:49,  4.88it/s]\n"
     ]
    },
    {
     "name": "stdout",
     "output_type": "stream",
     "text": [
      "Outputting sample of validation outputs.\n",
      "['BALTHAIAR', 'SIMON', 'BENES', 'LALOUE', 'DAPANE', 'LUCIE', 'MASSIM', 'ASSRAQUI', 'TIAVIAN', 'MAEYA']\n",
      "['BALTHAZAR', 'SIMON', 'BENES', 'LA LOVE', 'DAPHNE', 'LUCIE', 'NASSIM', 'ASSRAOUI', 'LAVIAN', 'MAEVA']\n",
      "Validation Loss at epoch 11: 0.4366, WER: 0.3668103516101837, CER: 0.10340850055217743. Best Loss so far:\n",
      "Training Loss at epoch 11: 0.4170, WER: 0.359270840883255, CER: 0.099811851978302. Best Loss so far:\n"
     ]
    },
    {
     "name": "stderr",
     "output_type": "stream",
     "text": [
      "Validating Epoch: 12: 100% 208/208 [00:42<00:00,  4.93it/s]\n"
     ]
    },
    {
     "name": "stdout",
     "output_type": "stream",
     "text": [
      "Outputting sample of validation outputs.\n",
      "['BILEL', 'LAUMONIER', 'JEAN ROCH', 'RUFP', 'PICHON', 'BANIEL', 'JEREMY', 'TEHNEICHE', 'JULIEN', 'NAEL']\n",
      "['BILEL', 'LAUMIONIER', 'JEAN ROCH', 'RUPP', 'PICHON', 'DANIEL', 'JEREMY', 'JEAN MICHEL', 'JULIEN', 'NAEL']\n"
     ]
    },
    {
     "name": "stderr",
     "output_type": "stream",
     "text": [
      "Validating Epoch: 12:  15% 249/1661 [00:51<04:49,  4.87it/s]\n"
     ]
    },
    {
     "name": "stdout",
     "output_type": "stream",
     "text": [
      "Outputting sample of validation outputs.\n",
      "['BAITHAIAR', 'GIMON', 'BENES', 'LALOUE', 'DAPHAE', 'LUCIE', 'NASSIM', 'ASSRAOUI', 'YLAVIAN', 'MAEVA']\n",
      "['BALTHAZAR', 'SIMON', 'BENES', 'LA LOVE', 'DAPHNE', 'LUCIE', 'NASSIM', 'ASSRAOUI', 'LAVIAN', 'MAEVA']\n",
      "Validation Loss at epoch 12: 0.4857, WER: 0.3973419666290283, CER: 0.11707707494497299. Best Loss so far:\n",
      "Training Loss at epoch 12: 0.4710, WER: 0.3949730396270752, CER: 0.11340164393186569. Best Loss so far:\n"
     ]
    },
    {
     "name": "stderr",
     "output_type": "stream",
     "text": [
      "Validating Epoch: 13: 100% 208/208 [00:42<00:00,  4.88it/s]\n"
     ]
    },
    {
     "name": "stdout",
     "output_type": "stream",
     "text": [
      "Outputting sample of validation outputs.\n",
      "['BILEL', 'LAUMOHIER', 'JEAN ROCH', 'RUPP', 'PICHON', 'DANIEL', 'JEREMY', 'JEAN MIENEL', 'JULIEN', 'NAEL']\n",
      "['BILEL', 'LAUMIONIER', 'JEAN ROCH', 'RUPP', 'PICHON', 'DANIEL', 'JEREMY', 'JEAN MICHEL', 'JULIEN', 'NAEL']\n"
     ]
    },
    {
     "name": "stderr",
     "output_type": "stream",
     "text": [
      "Validating Epoch: 13:  15% 249/1661 [00:50<04:47,  4.90it/s]\n"
     ]
    },
    {
     "name": "stdout",
     "output_type": "stream",
     "text": [
      "Outputting sample of validation outputs.\n",
      "['BALTHAIRA', 'SIMON', 'BENES', 'LALOUE', 'DAPHNE', 'LUCIE', 'MASSIM', 'ASSRAOUI', 'YLAVIAN', 'MAEVA']\n",
      "['BALTHAZAR', 'SIMON', 'BENES', 'LA LOVE', 'DAPHNE', 'LUCIE', 'NASSIM', 'ASSRAOUI', 'LAVIAN', 'MAEVA']\n",
      "Validation Loss at epoch 13: 0.3587, WER: 0.304238498210907, CER: 0.08090683072805405. Best Loss so far:\n",
      "Training Loss at epoch 13: 0.3441, WER: 0.2942347228527069, CER: 0.07663626968860626. Best Loss so far:\n"
     ]
    },
    {
     "name": "stderr",
     "output_type": "stream",
     "text": [
      "Validating Epoch: 14: 100% 208/208 [00:42<00:00,  4.92it/s]\n"
     ]
    },
    {
     "name": "stdout",
     "output_type": "stream",
     "text": [
      "Outputting sample of validation outputs.\n",
      "['BILEL', 'LAUMONIER', 'JEAN ROCH', 'RUPA', 'PICHON', 'DANIEL', 'JEREMY', 'JEAN MIENEL', 'JULIEN', 'NAEL']\n",
      "['BILEL', 'LAUMIONIER', 'JEAN ROCH', 'RUPP', 'PICHON', 'DANIEL', 'JEREMY', 'JEAN MICHEL', 'JULIEN', 'NAEL']\n"
     ]
    },
    {
     "name": "stderr",
     "output_type": "stream",
     "text": [
      "Validating Epoch: 14:  15% 249/1661 [00:50<04:48,  4.89it/s]\n"
     ]
    },
    {
     "name": "stdout",
     "output_type": "stream",
     "text": [
      "Outputting sample of validation outputs.\n",
      "['BALTHAIAR', 'GIMON', 'BENES', 'LALOUE', 'DAPHUE', 'LUCIE', 'MASSIN', 'ASSRAOUI', 'JUAVIAN', 'MAEVA']\n",
      "['BALTHAZAR', 'SIMON', 'BENES', 'LA LOVE', 'DAPHNE', 'LUCIE', 'NASSIM', 'ASSRAOUI', 'LAVIAN', 'MAEVA']\n",
      "Validation Loss at epoch 14: 0.4366, WER: 0.35445401072502136, CER: 0.09980537742376328. Best Loss so far:\n",
      "Training Loss at epoch 14: 0.4136, WER: 0.34438496828079224, CER: 0.09444606304168701. Best Loss so far:\n"
     ]
    },
    {
     "name": "stderr",
     "output_type": "stream",
     "text": [
      "Validating Epoch: 15: 100% 208/208 [00:42<00:00,  4.90it/s]\n"
     ]
    },
    {
     "name": "stdout",
     "output_type": "stream",
     "text": [
      "Outputting sample of validation outputs.\n",
      "['BILEL', 'LAUMONIER', 'JEAN ROCH', 'RUPP', 'PICHON', 'DANIEL', 'JEREMY', 'JEAN MIENEL', 'JULIEN', 'NAEL']\n",
      "['BILEL', 'LAUMIONIER', 'JEAN ROCH', 'RUPP', 'PICHON', 'DANIEL', 'JEREMY', 'JEAN MICHEL', 'JULIEN', 'NAEL']\n"
     ]
    },
    {
     "name": "stderr",
     "output_type": "stream",
     "text": [
      "Validating Epoch: 15:  15% 249/1661 [00:51<04:49,  4.88it/s]\n"
     ]
    },
    {
     "name": "stdout",
     "output_type": "stream",
     "text": [
      "Outputting sample of validation outputs.\n",
      "['BALTHAIAR', 'GIMON', 'BENES', 'LALOUE', 'DAPHNE', 'LUCIE', 'MASSIM', 'ASSRAOUI', 'YLAVIAN', 'MAEVA']\n",
      "['BALTHAZAR', 'SIMON', 'BENES', 'LA LOVE', 'DAPHNE', 'LUCIE', 'NASSIM', 'ASSRAOUI', 'LAVIAN', 'MAEVA']\n",
      "Validation Loss at epoch 15: 0.4344, WER: 0.3695162832736969, CER: 0.1009325310587883. Best Loss so far:\n",
      "Training Loss at epoch 15: 0.4150, WER: 0.3575991690158844, CER: 0.09651849418878555. Best Loss so far:\n"
     ]
    },
    {
     "name": "stderr",
     "output_type": "stream",
     "text": [
      "Validating Epoch: 16: 100% 208/208 [00:42<00:00,  4.92it/s]\n"
     ]
    },
    {
     "name": "stdout",
     "output_type": "stream",
     "text": [
      "Outputting sample of validation outputs.\n",
      "['BILEL', 'LAUMONIER', 'JEAN ROCH', 'RUPP', 'PICHON', 'DANIEL', 'JEREMY', 'JEHN MICHEL', 'JULIEN', 'NAEL']\n",
      "['BILEL', 'LAUMIONIER', 'JEAN ROCH', 'RUPP', 'PICHON', 'DANIEL', 'JEREMY', 'JEAN MICHEL', 'JULIEN', 'NAEL']\n"
     ]
    },
    {
     "name": "stderr",
     "output_type": "stream",
     "text": [
      "Validating Epoch: 16:  15% 249/1661 [00:51<04:50,  4.87it/s]\n"
     ]
    },
    {
     "name": "stdout",
     "output_type": "stream",
     "text": [
      "Outputting sample of validation outputs.\n",
      "['BALTHAIAR', 'SIMON', 'BENES', 'LALOUE', 'DAPHNE', 'LUCIE', 'NASSIM', 'ASSRAOUI', 'YLAVIAN', 'MAEVA']\n",
      "['BALTHAZAR', 'SIMON', 'BENES', 'LA LOVE', 'DAPHNE', 'LUCIE', 'NASSIM', 'ASSRAOUI', 'LAVIAN', 'MAEVA']\n",
      "Validation Loss at epoch 16: 0.3599, WER: 0.2998563349246979, CER: 0.08049353957176208. Best Loss so far:\n",
      "Training Loss at epoch 16: 0.3471, WER: 0.2905729413032532, CER: 0.07703698426485062. Best Loss so far:\n"
     ]
    },
    {
     "name": "stderr",
     "output_type": "stream",
     "text": [
      "Validating Epoch: 17: 100% 208/208 [00:42<00:00,  4.89it/s]\n"
     ]
    },
    {
     "name": "stdout",
     "output_type": "stream",
     "text": [
      "Outputting sample of validation outputs.\n",
      "['BILEL', 'LAUMONIER', 'JEAN ROCH', 'RUPA', 'PICHON', 'BANIEL', 'JEREMY', 'JEPNIMICHEL', 'JULIEN', 'NAGL']\n",
      "['BILEL', 'LAUMIONIER', 'JEAN ROCH', 'RUPP', 'PICHON', 'DANIEL', 'JEREMY', 'JEAN MICHEL', 'JULIEN', 'NAEL']\n"
     ]
    },
    {
     "name": "stderr",
     "output_type": "stream",
     "text": [
      "Validating Epoch: 17:  15% 249/1661 [00:50<04:49,  4.88it/s]\n"
     ]
    },
    {
     "name": "stdout",
     "output_type": "stream",
     "text": [
      "Outputting sample of validation outputs.\n",
      "['BALTHAIAR', 'SIMON', 'BENES', 'LALOUE', 'DAPHNE', 'GUCIE', 'MASSIM', 'ASSRAOUI', 'YLAVIAN', 'MAEVA']\n",
      "['BALTHAZAR', 'SIMON', 'BENES', 'LA LOVE', 'DAPHNE', 'LUCIE', 'NASSIM', 'ASSRAOUI', 'LAVIAN', 'MAEVA']\n",
      "Validation Loss at epoch 17: 0.4781, WER: 0.38694924116134644, CER: 0.10961534082889557. Best Loss so far:\n",
      "Training Loss at epoch 17: 0.4603, WER: 0.3779577612876892, CER: 0.10603541880846024. Best Loss so far:\n"
     ]
    },
    {
     "name": "stderr",
     "output_type": "stream",
     "text": [
      "Validating Epoch: 18: 100% 208/208 [00:42<00:00,  4.89it/s]\n"
     ]
    },
    {
     "name": "stdout",
     "output_type": "stream",
     "text": [
      "Outputting sample of validation outputs.\n",
      "['BILEL', 'LAUMONIER', 'JEAN ROCH', 'RUPP', 'PICHON', 'DANIEL', 'JEREMY', 'TEHN MIENELE', 'JULIEN', 'NAEL']\n",
      "['BILEL', 'LAUMIONIER', 'JEAN ROCH', 'RUPP', 'PICHON', 'DANIEL', 'JEREMY', 'JEAN MICHEL', 'JULIEN', 'NAEL']\n"
     ]
    },
    {
     "name": "stderr",
     "output_type": "stream",
     "text": [
      "Validating Epoch: 18:  15% 249/1661 [00:51<04:49,  4.88it/s]\n"
     ]
    },
    {
     "name": "stdout",
     "output_type": "stream",
     "text": [
      "Outputting sample of validation outputs.\n",
      "['BALTHAITRA', 'SIMON', 'BENES', 'LALOUE', 'DAPHNE', 'JUCIE', 'NASSIN', 'ASSRAOUI', 'YLAVIAN', 'MAEYA']\n",
      "['BALTHAZAR', 'SIMON', 'BENES', 'LA LOVE', 'DAPHNE', 'LUCIE', 'NASSIM', 'ASSRAOUI', 'LAVIAN', 'MAEVA']\n",
      "Validation Loss at epoch 18: 0.4079, WER: 0.3424569070339203, CER: 0.09559734910726547. Best Loss so far:\n",
      "Training Loss at epoch 18: 0.3948, WER: 0.3366236090660095, CER: 0.09187586605548859. Best Loss so far:\n"
     ]
    },
    {
     "name": "stderr",
     "output_type": "stream",
     "text": [
      "Validating Epoch: 19: 100% 208/208 [00:42<00:00,  4.92it/s]\n"
     ]
    },
    {
     "name": "stdout",
     "output_type": "stream",
     "text": [
      "Outputting sample of validation outputs.\n",
      "['BILEL', 'LAUMONIER', 'JEAN ROCH', 'RUPP', 'PICHON', 'DANIEL', 'JEREMY', 'JEHN MICHEL', 'JULIEN', 'MAEL']\n",
      "['BILEL', 'LAUMIONIER', 'JEAN ROCH', 'RUPP', 'PICHON', 'DANIEL', 'JEREMY', 'JEAN MICHEL', 'JULIEN', 'NAEL']\n"
     ]
    },
    {
     "name": "stderr",
     "output_type": "stream",
     "text": [
      "Validating Epoch: 19:  15% 249/1661 [00:50<04:48,  4.90it/s]\n"
     ]
    },
    {
     "name": "stdout",
     "output_type": "stream",
     "text": [
      "Outputting sample of validation outputs.\n",
      "['BALTHAIAR', 'SIMON', 'BENES', 'LALOUE', 'DAPHNE', 'LUCIE', 'NASSIM', 'ASSRAOUI', 'YLAVIAN', 'MAEVA']\n",
      "['BALTHAZAR', 'SIMON', 'BENES', 'LA LOVE', 'DAPHNE', 'LUCIE', 'NASSIM', 'ASSRAOUI', 'LAVIAN', 'MAEVA']\n",
      "Validation Loss at epoch 19: 0.3408, WER: 0.28936782479286194, CER: 0.07641701400279999. Best Loss so far:\n",
      "Training Loss at epoch 19: 0.3245, WER: 0.27932894229888916, CER: 0.07188720256090164. Best Loss so far:\n"
     ]
    },
    {
     "name": "stderr",
     "output_type": "stream",
     "text": [
      "Validating Epoch: 2: 100% 208/208 [00:41<00:00,  4.96it/s]\n"
     ]
    },
    {
     "name": "stdout",
     "output_type": "stream",
     "text": [
      "Outputting sample of validation outputs.\n",
      "['BOLLE', 'LAURANDES', 'FERRANDER', 'RAUX', 'PICHOT', 'JADILE', 'JEANNE', 'FERNANDERE', 'JULIEN', 'MAEL']\n",
      "['BILEL', 'LAUMIONIER', 'JEAN ROCH', 'RUPP', 'PICHON', 'DANIEL', 'JEREMY', 'JEAN MICHEL', 'JULIEN', 'NAEL']\n"
     ]
    },
    {
     "name": "stderr",
     "output_type": "stream",
     "text": [
      "Validating Epoch: 2:  15% 249/1661 [00:50<04:45,  4.94it/s]\n"
     ]
    },
    {
     "name": "stdout",
     "output_type": "stream",
     "text": [
      "Outputting sample of validation outputs.\n",
      "['BASTARDAN', 'SORIA', 'DENIS', 'CASSIE', 'THOMAS', 'CULIE', 'MAELYS', 'MOURAULT', 'TIMOTHA', 'MAEVA']\n",
      "['BALTHAZAR', 'SIMON', 'BENES', 'LA LOVE', 'DAPHNE', 'LUCIE', 'NASSIM', 'ASSRAOUI', 'LAVIAN', 'MAEVA']\n",
      "Validation Loss at epoch 2: 2.0120, WER: 0.8631705045700073, CER: 0.5623652338981628. Best Loss so far:\n",
      "Training Loss at epoch 2: 2.0020, WER: 0.8599573969841003, CER: 0.5604778528213501. Best Loss so far:\n"
     ]
    },
    {
     "name": "stderr",
     "output_type": "stream",
     "text": [
      "Validating Epoch: 20: 100% 208/208 [00:42<00:00,  4.92it/s]\n"
     ]
    },
    {
     "name": "stdout",
     "output_type": "stream",
     "text": [
      "Outputting sample of validation outputs.\n",
      "['BILEL', 'LAUMONIER', 'JEAN ROCH', 'RUPP', 'PICHON', 'DANIEL', 'JEREMY', 'JEAN MICHEL', 'JULIEN', 'NAEL']\n",
      "['BILEL', 'LAUMIONIER', 'JEAN ROCH', 'RUPP', 'PICHON', 'DANIEL', 'JEREMY', 'JEAN MICHEL', 'JULIEN', 'NAEL']\n"
     ]
    },
    {
     "name": "stderr",
     "output_type": "stream",
     "text": [
      "Validating Epoch: 20:  15% 249/1661 [00:50<04:48,  4.90it/s]\n"
     ]
    },
    {
     "name": "stdout",
     "output_type": "stream",
     "text": [
      "Outputting sample of validation outputs.\n",
      "['BALTHAIRR', 'SIMON', 'BENES', 'LALOUE', 'DAPHNE', 'LUCIE', 'MASSIN', 'ASSRAUI', 'YLAVIAN', 'MACYA']\n",
      "['BALTHAZAR', 'SIMON', 'BENES', 'LA LOVE', 'DAPHNE', 'LUCIE', 'NASSIM', 'ASSRAOUI', 'LAVIAN', 'MAEVA']\n",
      "Validation Loss at epoch 20: 0.4706, WER: 0.362595796585083, CER: 0.10202210396528244. Best Loss so far:\n",
      "Training Loss at epoch 20: 0.4544, WER: 0.35552945733070374, CER: 0.09899477660655975. Best Loss so far:\n"
     ]
    },
    {
     "name": "stderr",
     "output_type": "stream",
     "text": [
      "Validating Epoch: 21: 100% 208/208 [00:41<00:00,  4.97it/s]\n"
     ]
    },
    {
     "name": "stdout",
     "output_type": "stream",
     "text": [
      "Outputting sample of validation outputs.\n",
      "['BILEL', 'LAUMONIER', 'JEAN ROCH', 'RUPP', 'PICHON', 'DANIEL', 'JEREMY', 'JEYN MIEMEL', 'JULIEN', 'NAELL']\n",
      "['BILEL', 'LAUMIONIER', 'JEAN ROCH', 'RUPP', 'PICHON', 'DANIEL', 'JEREMY', 'JEAN MICHEL', 'JULIEN', 'NAEL']\n"
     ]
    },
    {
     "name": "stderr",
     "output_type": "stream",
     "text": [
      "Validating Epoch: 21:  15% 249/1661 [00:50<04:45,  4.95it/s]\n"
     ]
    },
    {
     "name": "stdout",
     "output_type": "stream",
     "text": [
      "Outputting sample of validation outputs.\n",
      "['BALTHAIAR', 'SIMON', 'BENES', 'LALOUE', 'DAPHNE', 'LUCIE', 'NASSIN', 'ASSRAOUI', 'YLAVIAN', 'MAEVA']\n",
      "['BALTHAZAR', 'SIMON', 'BENES', 'LA LOVE', 'DAPHNE', 'LUCIE', 'NASSIM', 'ASSRAOUI', 'LAVIAN', 'MAEVA']\n",
      "Validation Loss at epoch 21: 0.3779, WER: 0.31314656138420105, CER: 0.08307095617055893. Best Loss so far:\n",
      "Training Loss at epoch 21: 0.3584, WER: 0.3040856420993805, CER: 0.07966039329767227. Best Loss so far:\n"
     ]
    },
    {
     "name": "stderr",
     "output_type": "stream",
     "text": [
      "Validating Epoch: 22: 100% 208/208 [00:42<00:00,  4.92it/s]\n"
     ]
    },
    {
     "name": "stdout",
     "output_type": "stream",
     "text": [
      "Outputting sample of validation outputs.\n",
      "['BILEL', 'LAUMONIER', 'JEAN ROCH', 'RUFP', 'PICHON', 'DANIEL', 'JEREMY', 'JEHN MIENEL', 'JULIEN', 'NAEL']\n",
      "['BILEL', 'LAUMIONIER', 'JEAN ROCH', 'RUPP', 'PICHON', 'DANIEL', 'JEREMY', 'JEAN MICHEL', 'JULIEN', 'NAEL']\n"
     ]
    },
    {
     "name": "stderr",
     "output_type": "stream",
     "text": [
      "Validating Epoch: 22:  15% 249/1661 [00:51<04:49,  4.88it/s]\n"
     ]
    },
    {
     "name": "stdout",
     "output_type": "stream",
     "text": [
      "Outputting sample of validation outputs.\n",
      "['BALTHAJAR', 'SIMON', 'BENES', 'LALOUE', 'DAPHNE', 'LUCIE', 'NASSIN', 'ASSRAOUI', 'TLAVIAN', 'MAEVA']\n",
      "['BALTHAZAR', 'SIMON', 'BENES', 'LA LOVE', 'DAPHNE', 'LUCIE', 'NASSIM', 'ASSRAOUI', 'LAVIAN', 'MAEVA']\n",
      "Validation Loss at epoch 22: 0.3829, WER: 0.31877395510673523, CER: 0.08539288491010666. Best Loss so far:\n",
      "Training Loss at epoch 22: 0.3695, WER: 0.3117474913597107, CER: 0.0820646733045578. Best Loss so far:\n"
     ]
    },
    {
     "name": "stderr",
     "output_type": "stream",
     "text": [
      "Validating Epoch: 23: 100% 208/208 [00:41<00:00,  4.98it/s]\n"
     ]
    },
    {
     "name": "stdout",
     "output_type": "stream",
     "text": [
      "Outputting sample of validation outputs.\n",
      "['BILEL', 'LAUMONIER', 'JEAN ROCH', 'RUPP', 'PICHON', 'DANIEL', 'JEREMY', 'JEHN MICHEL', 'JULIEN', 'NAEL']\n",
      "['BILEL', 'LAUMIONIER', 'JEAN ROCH', 'RUPP', 'PICHON', 'DANIEL', 'JEREMY', 'JEAN MICHEL', 'JULIEN', 'NAEL']\n"
     ]
    },
    {
     "name": "stderr",
     "output_type": "stream",
     "text": [
      "Validating Epoch: 23:  15% 249/1661 [00:50<04:47,  4.91it/s]\n"
     ]
    },
    {
     "name": "stdout",
     "output_type": "stream",
     "text": [
      "Outputting sample of validation outputs.\n",
      "['BALTHAIAR', 'SIMON', 'BENES', 'LALOUE', 'DAPHNE', 'LUCIE', 'MASSIN', 'ASSRAOUI', 'YLAVIAN', 'MACYA']\n",
      "['BALTHAZAR', 'SIMON', 'BENES', 'LA LOVE', 'DAPHNE', 'LUCIE', 'NASSIM', 'ASSRAOUI', 'LAVIAN', 'MAEVA']\n",
      "Validation Loss at epoch 23: 0.3867, WER: 0.3342432975769043, CER: 0.09056274592876434. Best Loss so far:\n",
      "Training Loss at epoch 23: 0.3671, WER: 0.32591694593429565, CER: 0.08639737218618393. Best Loss so far:\n"
     ]
    },
    {
     "name": "stderr",
     "output_type": "stream",
     "text": [
      "Validating Epoch: 24: 100% 208/208 [00:41<00:00,  4.96it/s]\n"
     ]
    },
    {
     "name": "stdout",
     "output_type": "stream",
     "text": [
      "Outputting sample of validation outputs.\n",
      "['BILEL', 'LAUMONIER', 'JEAN ROCH', 'RUPP', 'PICHON', 'DANIEL', 'JEREMY', 'JEYN MIENEL', 'JULIEN', 'NAEL']\n",
      "['BILEL', 'LAUMIONIER', 'JEAN ROCH', 'RUPP', 'PICHON', 'DANIEL', 'JEREMY', 'JEAN MICHEL', 'JULIEN', 'NAEL']\n"
     ]
    },
    {
     "name": "stderr",
     "output_type": "stream",
     "text": [
      "Validating Epoch: 24:  15% 249/1661 [00:50<04:45,  4.94it/s]\n"
     ]
    },
    {
     "name": "stdout",
     "output_type": "stream",
     "text": [
      "Outputting sample of validation outputs.\n",
      "['BALTHAIAR', 'SIMON', 'BENES', 'LALOUE', 'DAPHNE', 'LUCIE', 'MASSIN', 'ASSRAOUI', 'YLAVIAN', 'MAEVA']\n",
      "['BALTHAZAR', 'SIMON', 'BENES', 'LA LOVE', 'DAPHNE', 'LUCIE', 'NASSIM', 'ASSRAOUI', 'LAVIAN', 'MAEVA']\n",
      "Validation Loss at epoch 24: 0.3470, WER: 0.2860153317451477, CER: 0.0760713592171669. Best Loss so far:\n",
      "Training Loss at epoch 24: 0.3303, WER: 0.27731895446777344, CER: 0.0718715488910675. Best Loss so far:\n"
     ]
    },
    {
     "name": "stderr",
     "output_type": "stream",
     "text": [
      "Validating Epoch: 25: 100% 208/208 [00:41<00:00,  4.98it/s]\n"
     ]
    },
    {
     "name": "stdout",
     "output_type": "stream",
     "text": [
      "Outputting sample of validation outputs.\n",
      "['BILEL', 'LAUMONIER', 'JEAN ROCH', 'RUPP', 'PICHON', 'DANIEL', 'JEREMY', 'JEAN MIENEL', 'JULIEN', 'NAEL']\n",
      "['BILEL', 'LAUMIONIER', 'JEAN ROCH', 'RUPP', 'PICHON', 'DANIEL', 'JEREMY', 'JEAN MICHEL', 'JULIEN', 'NAEL']\n"
     ]
    },
    {
     "name": "stderr",
     "output_type": "stream",
     "text": [
      "Validating Epoch: 25:  15% 249/1661 [00:50<04:44,  4.96it/s]\n"
     ]
    },
    {
     "name": "stdout",
     "output_type": "stream",
     "text": [
      "Outputting sample of validation outputs.\n",
      "['BALTHAIAR', 'SIMON', 'BENES', 'LALOUE', 'DAPHNE', 'LUCIE', 'NASSIM', 'ASSRAOUI', 'YLAVIAN', 'MAEVA']\n",
      "['BALTHAZAR', 'SIMON', 'BENES', 'LA LOVE', 'DAPHNE', 'LUCIE', 'NASSIM', 'ASSRAOUI', 'LAVIAN', 'MAEVA']\n",
      "Validation Loss at epoch 25: 0.3623, WER: 0.3084530532360077, CER: 0.08176722377538681. Best Loss so far:\n",
      "Training Loss at epoch 25: 0.3463, WER: 0.3010607063770294, CER: 0.07830799371004105. Best Loss so far:\n"
     ]
    },
    {
     "name": "stderr",
     "output_type": "stream",
     "text": [
      "Validating Epoch: 26: 100% 208/208 [00:41<00:00,  4.95it/s]\n"
     ]
    },
    {
     "name": "stdout",
     "output_type": "stream",
     "text": [
      "Outputting sample of validation outputs.\n",
      "['BILEL', 'LAUMONIER', 'JEAN ROCH', 'RUPP', 'PICHON', 'DANIEL', 'JEREMY', 'JEAN MIENEL', 'JULIEN', 'NAEL']\n",
      "['BILEL', 'LAUMIONIER', 'JEAN ROCH', 'RUPP', 'PICHON', 'DANIEL', 'JEREMY', 'JEAN MICHEL', 'JULIEN', 'NAEL']\n"
     ]
    },
    {
     "name": "stderr",
     "output_type": "stream",
     "text": [
      "Validating Epoch: 26:  15% 249/1661 [00:50<04:46,  4.93it/s]\n"
     ]
    },
    {
     "name": "stdout",
     "output_type": "stream",
     "text": [
      "Outputting sample of validation outputs.\n",
      "['BALTHAIAR', 'SIMON', 'BENES', 'LALOUE', 'DAPHUE', 'LUCIE', 'MASSIN', 'ASSRADUI', 'YLAVIAN', 'NAGUA']\n",
      "['BALTHAZAR', 'SIMON', 'BENES', 'LA LOVE', 'DAPHNE', 'LUCIE', 'NASSIM', 'ASSRAOUI', 'LAVIAN', 'MAEVA']\n",
      "Validation Loss at epoch 26: 0.3888, WER: 0.33302202820777893, CER: 0.08984137326478958. Best Loss so far:\n",
      "Training Loss at epoch 26: 0.3722, WER: 0.3216382563114166, CER: 0.08624085038900375. Best Loss so far:\n"
     ]
    },
    {
     "name": "stderr",
     "output_type": "stream",
     "text": [
      "Validating Epoch: 27: 100% 208/208 [00:41<00:00,  4.96it/s]\n"
     ]
    },
    {
     "name": "stdout",
     "output_type": "stream",
     "text": [
      "Outputting sample of validation outputs.\n",
      "['BILEL', 'LAUMONIER', 'JEAN ROCH', 'RUPP', 'PICHON', 'DANIEL', 'JEREMY', 'JEHN MICHEL', 'JULIEN', 'NAEL']\n",
      "['BILEL', 'LAUMIONIER', 'JEAN ROCH', 'RUPP', 'PICHON', 'DANIEL', 'JEREMY', 'JEAN MICHEL', 'JULIEN', 'NAEL']\n"
     ]
    },
    {
     "name": "stderr",
     "output_type": "stream",
     "text": [
      "Validating Epoch: 27:  15% 249/1661 [00:50<04:44,  4.96it/s]\n"
     ]
    },
    {
     "name": "stdout",
     "output_type": "stream",
     "text": [
      "Outputting sample of validation outputs.\n",
      "['BALTHAIAR', 'SIMON', 'BENES', 'LALOUE', 'DAPHNE', 'LUCIE', 'NASSIN', 'ASSRAOUI', 'FLAVIAN', 'MAEVA']\n",
      "['BALTHAZAR', 'SIMON', 'BENES', 'LA LOVE', 'DAPHNE', 'LUCIE', 'NASSIM', 'ASSRAOUI', 'LAVIAN', 'MAEVA']\n",
      "Validation Loss at epoch 27: 0.3635, WER: 0.2954980731010437, CER: 0.07746151089668274. Best Loss so far:\n",
      "Training Loss at epoch 27: 0.3466, WER: 0.28569722175598145, CER: 0.07339300215244293. Best Loss so far:\n"
     ]
    },
    {
     "name": "stderr",
     "output_type": "stream",
     "text": [
      "Validating Epoch: 28: 100% 208/208 [00:41<00:00,  4.97it/s]\n"
     ]
    },
    {
     "name": "stdout",
     "output_type": "stream",
     "text": [
      "Outputting sample of validation outputs.\n",
      "['BILEL', 'LAUMONIER', 'JEAN ROCH', 'RUPP', 'PICHON', 'DANIEL', 'JEREMY', 'JEAN MICHEL', 'JULIEN', 'NALL']\n",
      "['BILEL', 'LAUMIONIER', 'JEAN ROCH', 'RUPP', 'PICHON', 'DANIEL', 'JEREMY', 'JEAN MICHEL', 'JULIEN', 'NAEL']\n"
     ]
    },
    {
     "name": "stderr",
     "output_type": "stream",
     "text": [
      "Validating Epoch: 28:  15% 249/1661 [00:50<04:44,  4.96it/s]\n"
     ]
    },
    {
     "name": "stdout",
     "output_type": "stream",
     "text": [
      "Outputting sample of validation outputs.\n",
      "['BALTHAZER', 'SIMON', 'BENES', 'LALOUE', 'DAPHNE', 'LUCIE', 'MASSIN', 'ASSRAOUI', 'YLAVIAN', 'MACYA']\n",
      "['BALTHAZAR', 'SIMON', 'BENES', 'LA LOVE', 'DAPHNE', 'LUCIE', 'NASSIM', 'ASSRAOUI', 'LAVIAN', 'MAEVA']\n",
      "Validation Loss at epoch 28: 0.3608, WER: 0.3088841140270233, CER: 0.08145161718130112. Best Loss so far:\n",
      "Training Loss at epoch 28: 0.3453, WER: 0.29885172843933105, CER: 0.07741577923297882. Best Loss so far:\n"
     ]
    },
    {
     "name": "stderr",
     "output_type": "stream",
     "text": [
      "Validating Epoch: 3: 100% 208/208 [00:41<00:00,  4.96it/s]\n"
     ]
    },
    {
     "name": "stdout",
     "output_type": "stream",
     "text": [
      "Outputting sample of validation outputs.\n",
      "['BILLE', 'LAUMENTER', 'JEAN ABER', 'RUBA', 'PICHON', 'BANIEL', 'LERENN', 'JEAN MATHEAU', 'JULIEN', 'MAEL']\n",
      "['BILEL', 'LAUMIONIER', 'JEAN ROCH', 'RUPP', 'PICHON', 'DANIEL', 'JEREMY', 'JEAN MICHEL', 'JULIEN', 'NAEL']\n"
     ]
    },
    {
     "name": "stderr",
     "output_type": "stream",
     "text": [
      "Validating Epoch: 3:  15% 249/1661 [00:50<04:45,  4.94it/s]\n"
     ]
    },
    {
     "name": "stdout",
     "output_type": "stream",
     "text": [
      "Outputting sample of validation outputs.\n",
      "['BALANNEAU', 'GINON', 'DENES', 'CALOSE', 'DAPHIE', 'LOCIE', 'MAEVON', 'ROGANDOT', 'DENTIAN', 'MAEVA']\n",
      "['BALTHAZAR', 'SIMON', 'BENES', 'LA LOVE', 'DAPHNE', 'LUCIE', 'NASSIM', 'ASSRAOUI', 'LAVIAN', 'MAEVA']\n",
      "Validation Loss at epoch 3: 1.2638, WER: 0.7295258641242981, CER: 0.36517030000686646. Best Loss so far:\n",
      "Training Loss at epoch 3: 1.2539, WER: 0.7241736054420471, CER: 0.3616962730884552. Best Loss so far:\n"
     ]
    },
    {
     "name": "stderr",
     "output_type": "stream",
     "text": [
      "Validating Epoch: 4: 100% 208/208 [00:41<00:00,  4.97it/s]\n"
     ]
    },
    {
     "name": "stdout",
     "output_type": "stream",
     "text": [
      "Outputting sample of validation outputs.\n",
      "['BILEL', 'LAUMONIER', 'JEAN ROCH', 'RUPA', 'PICHON', 'DAMIEL', 'JEREMY', 'JEAN MALUEL', 'JULIEN', 'NAEL']\n",
      "['BILEL', 'LAUMIONIER', 'JEAN ROCH', 'RUPP', 'PICHON', 'DANIEL', 'JEREMY', 'JEAN MICHEL', 'JULIEN', 'NAEL']\n"
     ]
    },
    {
     "name": "stderr",
     "output_type": "stream",
     "text": [
      "Validating Epoch: 4:  15% 249/1661 [00:50<04:45,  4.95it/s]\n"
     ]
    },
    {
     "name": "stdout",
     "output_type": "stream",
     "text": [
      "Outputting sample of validation outputs.\n",
      "['BALTHAIRA', 'SIMON', 'BENES', 'LALOUE', 'DAPHNE', 'LOCIE', 'MASSIM', 'ASSAROUI', 'FLAVIAN', 'MAEVA']\n",
      "['BALTHAZAR', 'SIMON', 'BENES', 'LA LOVE', 'DAPHNE', 'LUCIE', 'NASSIM', 'ASSRAOUI', 'LAVIAN', 'MAEVA']\n",
      "Validation Loss at epoch 4: 0.7097, WER: 0.5177682042121887, CER: 0.19888561964035034. Best Loss so far:\n",
      "Training Loss at epoch 4: 0.6918, WER: 0.5079504251480103, CER: 0.19343145191669464. Best Loss so far:\n"
     ]
    },
    {
     "name": "stderr",
     "output_type": "stream",
     "text": [
      "Validating Epoch: 5: 100% 208/208 [00:41<00:00,  4.96it/s]\n"
     ]
    },
    {
     "name": "stdout",
     "output_type": "stream",
     "text": [
      "Outputting sample of validation outputs.\n",
      "['BILEL', 'LAUMONIER', 'JEAN ROCH', 'RUPA', 'PICHON', 'DANIEL', 'JEREMY', 'SEAN   LIENEL', 'JULIEN', 'NAEL']\n",
      "['BILEL', 'LAUMIONIER', 'JEAN ROCH', 'RUPP', 'PICHON', 'DANIEL', 'JEREMY', 'JEAN MICHEL', 'JULIEN', 'NAEL']\n"
     ]
    },
    {
     "name": "stderr",
     "output_type": "stream",
     "text": [
      "Validating Epoch: 5:  15% 249/1661 [00:50<04:46,  4.93it/s]\n"
     ]
    },
    {
     "name": "stdout",
     "output_type": "stream",
     "text": [
      "Outputting sample of validation outputs.\n",
      "['BALTHASAR', 'GIMON', 'BENES', 'LACOUE', 'DAPHNE', 'LUCIE', 'MASSIM', 'ASSAROUI', 'PLAVIAN', 'MAEVA']\n",
      "['BALTHAZAR', 'SIMON', 'BENES', 'LA LOVE', 'DAPHNE', 'LUCIE', 'NASSIM', 'ASSRAOUI', 'LAVIAN', 'MAEVA']\n",
      "Validation Loss at epoch 5: 0.6375, WER: 0.48781129717826843, CER: 0.1762261539697647. Best Loss so far:\n",
      "Training Loss at epoch 5: 0.6179, WER: 0.4786961078643799, CER: 0.1711292862892151. Best Loss so far:\n"
     ]
    },
    {
     "name": "stderr",
     "output_type": "stream",
     "text": [
      "Validating Epoch: 6: 100% 208/208 [00:41<00:00,  4.97it/s]\n"
     ]
    },
    {
     "name": "stdout",
     "output_type": "stream",
     "text": [
      "Outputting sample of validation outputs.\n",
      "['BILEL', 'LAUMONIER', 'JEAN ROCCH', 'RUPA', 'PICHON', 'DANIEL', 'JERIAN', 'TEAN MIENEL', 'JULIEN', 'NAEL']\n",
      "['BILEL', 'LAUMIONIER', 'JEAN ROCH', 'RUPP', 'PICHON', 'DANIEL', 'JEREMY', 'JEAN MICHEL', 'JULIEN', 'NAEL']\n"
     ]
    },
    {
     "name": "stderr",
     "output_type": "stream",
     "text": [
      "Validating Epoch: 6:  15% 249/1661 [00:50<04:45,  4.94it/s]\n"
     ]
    },
    {
     "name": "stdout",
     "output_type": "stream",
     "text": [
      "Outputting sample of validation outputs.\n",
      "['BALTHAIRA', 'SIMON', 'BENOS', 'LALOUE', 'DAPHNE', 'LOCIE', 'MASSIM', 'ASSRAOUI', 'VIANIAN', 'MAENA']\n",
      "['BALTHAZAR', 'SIMON', 'BENES', 'LA LOVE', 'DAPHNE', 'LUCIE', 'NASSIM', 'ASSRAOUI', 'LAVIAN', 'MAEVA']\n",
      "Validation Loss at epoch 6: 0.6807, WER: 0.5284722447395325, CER: 0.18051308393478394. Best Loss so far:\n",
      "Training Loss at epoch 6: 0.6648, WER: 0.5256224274635315, CER: 0.17705857753753662. Best Loss so far:\n"
     ]
    },
    {
     "name": "stderr",
     "output_type": "stream",
     "text": [
      "Validating Epoch: 7: 100% 208/208 [00:41<00:00,  4.96it/s]\n"
     ]
    },
    {
     "name": "stdout",
     "output_type": "stream",
     "text": [
      "Outputting sample of validation outputs.\n",
      "['BILEL', 'LAUMONIER', 'JEAN ROCCH', 'RUPA', 'PICHON', 'DANIEL', 'JEREMY', 'JEAN    MILLEEL', 'JULIEN', 'NAEL']\n",
      "['BILEL', 'LAUMIONIER', 'JEAN ROCH', 'RUPP', 'PICHON', 'DANIEL', 'JEREMY', 'JEAN MICHEL', 'JULIEN', 'NAEL']\n"
     ]
    },
    {
     "name": "stderr",
     "output_type": "stream",
     "text": [
      "Validating Epoch: 7:  15% 249/1661 [00:50<04:45,  4.95it/s]\n"
     ]
    },
    {
     "name": "stdout",
     "output_type": "stream",
     "text": [
      "Outputting sample of validation outputs.\n",
      "['BALTHAIRR', 'SIMON', 'BENES', 'LALOUC', 'DAPHNE', 'JUCIE', 'MASSIN', 'ASSRAOUI', 'YLANIAN', 'MAEVA']\n",
      "['BALTHAZAR', 'SIMON', 'BENES', 'LA LOVE', 'DAPHNE', 'LUCIE', 'NASSIM', 'ASSRAOUI', 'LAVIAN', 'MAEVA']\n",
      "Validation Loss at epoch 7: 0.5251, WER: 0.3972940742969513, CER: 0.12508359551429749. Best Loss so far:\n",
      "Training Loss at epoch 7: 0.5008, WER: 0.38450515270233154, CER: 0.12027949839830399. Best Loss so far:\n"
     ]
    },
    {
     "name": "stderr",
     "output_type": "stream",
     "text": [
      "Validating Epoch: 8: 100% 208/208 [00:41<00:00,  4.98it/s]\n"
     ]
    },
    {
     "name": "stdout",
     "output_type": "stream",
     "text": [
      "Outputting sample of validation outputs.\n",
      "['BILEEL', 'LAUMONIER', 'JEAN ROCH', 'RUPA', 'PICHON', 'DANIEL', 'JEREMY', 'FERN MIENCE', 'JULIEN', 'NAEL']\n",
      "['BILEL', 'LAUMIONIER', 'JEAN ROCH', 'RUPP', 'PICHON', 'DANIEL', 'JEREMY', 'JEAN MICHEL', 'JULIEN', 'NAEL']\n"
     ]
    },
    {
     "name": "stderr",
     "output_type": "stream",
     "text": [
      "Validating Epoch: 8:  15% 249/1661 [00:50<04:45,  4.94it/s]\n"
     ]
    },
    {
     "name": "stdout",
     "output_type": "stream",
     "text": [
      "Outputting sample of validation outputs.\n",
      "['BALTHAIRR', 'GIMON', 'BENES', 'LALOUE', 'DAPHNE', 'LUCIE', 'MASSIN', 'ASSRAOUI', 'YLAVIAN', 'MAEVA']\n",
      "['BALTHAZAR', 'SIMON', 'BENES', 'LA LOVE', 'DAPHNE', 'LUCIE', 'NASSIM', 'ASSRAOUI', 'LAVIAN', 'MAEVA']\n",
      "Validation Loss at epoch 8: 0.5067, WER: 0.41580459475517273, CER: 0.12446366250514984. Best Loss so far:\n",
      "Training Loss at epoch 8: 0.4880, WER: 0.40436625480651855, CER: 0.11994139850139618. Best Loss so far:\n"
     ]
    },
    {
     "name": "stderr",
     "output_type": "stream",
     "text": [
      "Validating Epoch: 9: 100% 208/208 [00:42<00:00,  4.92it/s]\n"
     ]
    },
    {
     "name": "stdout",
     "output_type": "stream",
     "text": [
      "Outputting sample of validation outputs.\n",
      "['BILEL', 'LAUMONIER', 'JEAN ROCH', 'RUPP', 'PICHON', 'DANIEL', 'JEREMY', 'JEAN MICHEL', 'JULIEN', 'NAEL']\n",
      "['BILEL', 'LAUMIONIER', 'JEAN ROCH', 'RUPP', 'PICHON', 'DANIEL', 'JEREMY', 'JEAN MICHEL', 'JULIEN', 'NAEL']\n"
     ]
    },
    {
     "name": "stderr",
     "output_type": "stream",
     "text": [
      "Validating Epoch: 9:  15% 249/1661 [00:51<04:50,  4.86it/s]\n"
     ]
    },
    {
     "name": "stdout",
     "output_type": "stream",
     "text": [
      "Outputting sample of validation outputs.\n",
      "['BALTVAIRR', 'SIMON', 'BENES', 'LALOUE', 'DARANE', 'LUCIE', 'MASSIN', 'ASSRAOUI', 'VIANIAN', 'MAEWA']\n",
      "['BALTHAZAR', 'SIMON', 'BENES', 'LA LOVE', 'DAPHNE', 'LUCIE', 'NASSIM', 'ASSRAOUI', 'LAVIAN', 'MAEVA']\n",
      "Validation Loss at epoch 9: 0.5225, WER: 0.4346024990081787, CER: 0.1290699541568756. Best Loss so far:\n",
      "Training Loss at epoch 9: 0.5064, WER: 0.42737168073654175, CER: 0.12504108250141144. Best Loss so far:\n"
     ]
    }
   ],
   "source": [
    "from handwriting_recognition.train import _evaluate\n",
    "\n",
    "data_train = HandWritingDataset(\n",
    "data_path=get_dataset_folder_path() / \"pre_processed\" / \"train.csv\",\n",
    "img_size=config.feature_extractor_config.input_size,\n",
    ")\n",
    "\n",
    "data_val = HandWritingDataset(\n",
    "    data_path=get_dataset_folder_path() / \"pre_processed\" / \"validation.csv\",\n",
    "    img_size=config.feature_extractor_config.input_size,\n",
    ")\n",
    "\n",
    "train_loader = DataLoader(\n",
    "    data_train,\n",
    "    batch_size=BATCH_SIZE,\n",
    "    shuffle=False,\n",
    "    pin_memory=False,\n",
    "    drop_last=False,\n",
    ")\n",
    "\n",
    "val_loader = DataLoader(\n",
    "    data_val,\n",
    "    batch_size=BATCH_SIZE,\n",
    "    shuffle=False,\n",
    "    pin_memory=False,\n",
    "    drop_last=False,\n",
    ")\n",
    "loss_function = CrossEntropyLoss(ignore_index=0).to(get_device())\n",
    "\n",
    "val_metrics = []\n",
    "train_metrics = []\n",
    "\n",
    "for epoch in all_epochs:\n",
    "    model_file = os.path.join(MODEL_DIR, epoch)\n",
    "    saved_model = torch.load(model_file)\n",
    "    config = TrainingConfig(**saved_model['config'])\n",
    "\n",
    "    image_model = get_image_model(model_name=config.feature_extractor_config.model_name)\n",
    "    model = HandwritingRecognitionModel(image_feature_extractor=image_model, training_config=config)\n",
    "    model.load_state_dict(saved_model[\"state\"])\n",
    "    converter = LabelConverter(character_set=saved_model['character_set'], max_text_length=saved_model['max_text_length'])\n",
    "    \n",
    "    model = model.to(get_device())\n",
    "    model = model.eval()\n",
    "\n",
    "    validation_loss, val_character_error_rate, val_word_error_rate, all_val_preds, all_val_ground_truths = _evaluate(\n",
    "        epoch=saved_model['epoch'],\n",
    "        model=model,\n",
    "        data_loader=val_loader,\n",
    "        converter=converter,\n",
    "        loss_function=loss_function,\n",
    "        max_iter=250,\n",
    "    )\n",
    "    val_metrics.append({\n",
    "        \"loss\": validation_loss.item(),\n",
    "        \"epoch\": int(epoch),\n",
    "        \"cer\": val_character_error_rate.item(),\n",
    "        \"wer\": val_word_error_rate.item(),\n",
    "        \"preds\": all_val_preds,\n",
    "        \"ground_truths\": all_val_ground_truths\n",
    "    })\n",
    "    train_loss, train_character_error_rate, train_word_error_rate, all_train_preds, all_train_ground_truths = _evaluate(\n",
    "        epoch=saved_model['epoch'],\n",
    "        model=model,\n",
    "        data_loader=train_loader,\n",
    "        converter=converter,\n",
    "        loss_function=loss_function,\n",
    "        max_iter=250\n",
    "    )\n",
    "    train_metrics.append({\n",
    "        \"loss\": train_loss.item(),\n",
    "        \"epoch\": int(epoch),\n",
    "        \"cer\": train_character_error_rate.item(),\n",
    "        \"wer\": train_word_error_rate.item(),\n",
    "        \"preds\": all_train_preds,\n",
    "        \"ground_truths\": all_train_ground_truths\n",
    "    })\n",
    "    print(\n",
    "        f\"Validation Loss at epoch {epoch}: {validation_loss:.4f}, WER: {val_word_error_rate}, CER: {val_character_error_rate}. Best Loss so far:\"\n",
    "    )\n",
    "    \n",
    "    print(\n",
    "        f\"Training Loss at epoch {epoch}: {train_loss:.4f}, WER: {train_word_error_rate}, CER: {train_character_error_rate}. Best Loss so far:\"\n",
    "    )"
   ]
  },
  {
   "cell_type": "code",
   "execution_count": 8,
   "metadata": {},
   "outputs": [],
   "source": [
    "import pickle\n",
    "\n",
    "with open(\"train_metrics.pkl\", 'wb') as f:\n",
    "    pickle.dump(train_metrics, f)\n",
    "    \n",
    "with open(\"val_metrics.pkl\", 'wb') as f:\n",
    "    pickle.dump(val_metrics, f)"
   ]
  },
  {
   "cell_type": "code",
   "execution_count": 9,
   "metadata": {},
   "outputs": [],
   "source": [
    "all_val_losses = [(x['loss'], x['epoch']) for x in val_metrics]\n",
    "all_train_losses = [(x['loss'], x['epoch']) for x in train_metrics]\n",
    "\n",
    "all_val_losses.sort(key=lambda x: x[1])\n",
    "all_train_losses.sort(key=lambda x: x[1])"
   ]
  },
  {
   "cell_type": "code",
   "execution_count": 10,
   "metadata": {},
   "outputs": [],
   "source": [
    "val_loss, val_epochs = zip(*all_val_losses)\n",
    "train_loss, train_epochs = zip(*all_train_losses)"
   ]
  },
  {
   "cell_type": "code",
   "execution_count": 11,
   "metadata": {},
   "outputs": [
    {
     "data": {
      "text/plain": [
       "(3.1864354610443115,\n",
       " 2.001952648162842,\n",
       " 1.2538769245147705,\n",
       " 0.6917998790740967,\n",
       " 0.6179044246673584,\n",
       " 0.6647945046424866,\n",
       " 0.5008330941200256,\n",
       " 0.4879798889160156,\n",
       " 0.5064135193824768,\n",
       " 0.37103307247161865,\n",
       " 0.41696953773498535,\n",
       " 0.4710235297679901,\n",
       " 0.3440960943698883,\n",
       " 0.413607656955719,\n",
       " 0.4149801433086395,\n",
       " 0.34705957770347595,\n",
       " 0.4603434205055237,\n",
       " 0.39477068185806274,\n",
       " 0.32447174191474915,\n",
       " 0.45435890555381775,\n",
       " 0.3583988845348358,\n",
       " 0.36948925256729126,\n",
       " 0.3670949935913086,\n",
       " 0.3302939236164093,\n",
       " 0.3463255763053894,\n",
       " 0.37222743034362793,\n",
       " 0.3466140031814575,\n",
       " 0.34528201818466187)"
      ]
     },
     "execution_count": 11,
     "metadata": {},
     "output_type": "execute_result"
    }
   ],
   "source": [
    "train_loss"
   ]
  },
  {
   "cell_type": "code",
   "execution_count": 12,
   "metadata": {},
   "outputs": [],
   "source": [
    "all_val_cer = [(x['cer'], x['epoch']) for x in val_metrics]\n",
    "all_train_cer = [(x['cer'], x['epoch']) for x in train_metrics]\n",
    "\n",
    "all_val_cer.sort(key=lambda x: x[1])\n",
    "all_train_cer.sort(key=lambda x: x[1])"
   ]
  },
  {
   "cell_type": "code",
   "execution_count": 13,
   "metadata": {},
   "outputs": [],
   "source": [
    "val_cer, val_epochs = zip(*all_val_cer)\n",
    "train_cer, train_epochs = zip(*all_train_cer)"
   ]
  },
  {
   "cell_type": "code",
   "execution_count": 14,
   "metadata": {},
   "outputs": [],
   "source": [
    "import matplotlib.pyplot as plt"
   ]
  },
  {
   "cell_type": "code",
   "execution_count": 15,
   "metadata": {},
   "outputs": [
    {
     "data": {
      "image/png": "[encoded data removed]",
      "text/plain": [
       "<Figure size 1000x600 with 1 Axes>"
      ]
     },
     "metadata": {},
     "output_type": "display_data"
    }
   ],
   "source": [
    "plt.figure(figsize=(10, 6))\n",
    "plt.plot(train_epochs, train_cer, marker='o', linestyle='-', color='b', label='Training CER')\n",
    "plt.plot(val_epochs, val_cer, marker='s', linestyle='--', color='r', label='Validation CER')\n",
    "\n",
    "plt.title('Training and Validation CER over Epochs', fontsize=16)\n",
    "plt.xlabel('Epochs', fontsize=14)\n",
    "plt.ylabel('CER', fontsize=14)\n",
    "plt.legend(fontsize=12)\n",
    "plt.grid(True)\n",
    "plt.xticks(range(1, max(train_epochs) + 1)) \n",
    "\n",
    "plt.tight_layout()\n",
    "plt.show()"
   ]
  },
  {
   "cell_type": "code",
   "execution_count": 16,
   "metadata": {},
   "outputs": [
    {
     "data": {
      "image/png": "[encoded data removed]",
      "text/plain": [
       "<Figure size 1000x600 with 1 Axes>"
      ]
     },
     "metadata": {},
     "output_type": "display_data"
    }
   ],
   "source": [
    "plt.figure(figsize=(10, 6))\n",
    "plt.plot(train_epochs, train_loss, marker='o', linestyle='-', color='b', label='Training Loss')\n",
    "plt.plot(val_epochs, val_loss, marker='s', linestyle='--', color='r', label='Validation Loss')\n",
    "\n",
    "plt.title('Training and Validation Loss over Epochs', fontsize=16)\n",
    "plt.xlabel('Epochs', fontsize=14)\n",
    "plt.ylabel('Loss', fontsize=14)\n",
    "plt.legend(fontsize=12)\n",
    "plt.grid(True)\n",
    "plt.xticks(range(1, max(train_epochs) + 1)) \n",
    "\n",
    "plt.tight_layout()\n",
    "plt.show()"
   ]
  }
 ],
 "metadata": {
  "kernelspec": {
   "display_name": "handwriting-recognition-05HTZ8rb-py3.11",
   "language": "python",
   "name": "python3"
  },
  "language_info": {
   "codemirror_mode": {
    "name": "ipython",
    "version": 3
   },
   "file_extension": ".py",
   "mimetype": "text/x-python",
   "name": "python",
   "nbconvert_exporter": "python",
   "pygments_lexer": "ipython3",
   "version": "3.11.9"
  }
 },
 "nbformat": 4,
 "nbformat_minor": 2
}
