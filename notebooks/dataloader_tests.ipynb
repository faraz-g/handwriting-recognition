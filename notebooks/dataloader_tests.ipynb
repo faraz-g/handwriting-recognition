{
 "cells": [
  {
   "cell_type": "code",
   "execution_count": 1,
   "metadata": {},
   "outputs": [],
   "source": [
    "from handwriting_recognition.utils import *\n",
    "import pandas as pd\n",
    "import os"
   ]
  },
  {
   "cell_type": "code",
   "execution_count": 2,
   "metadata": {},
   "outputs": [
    {
     "name": "stdout",
     "output_type": "stream",
     "text": [
      "C:\\Users\\Harrison\\Projects\\STAT3007\\handwriting-recognition\\dataset\n",
      "C:\\Users\\Harrison\\Projects\\STAT3007\\handwriting-recognition\\dataset\\pre_processed/test.csv\n"
     ]
    }
   ],
   "source": [
    "path_to_data = get_dataset_folder_path()\n",
    "print(path_to_data)\n",
    "path_to_test = os.path.join(path_to_data, 'pre_processed/test.csv')\n",
    "print(path_to_test)"
   ]
  },
  {
   "cell_type": "code",
   "execution_count": 3,
   "metadata": {},
   "outputs": [
    {
     "data": {
      "text/html": [
       "<div>\n",
       "<style scoped>\n",
       "    .dataframe tbody tr th:only-of-type {\n",
       "        vertical-align: middle;\n",
       "    }\n",
       "\n",
       "    .dataframe tbody tr th {\n",
       "        vertical-align: top;\n",
       "    }\n",
       "\n",
       "    .dataframe thead th {\n",
       "        text-align: right;\n",
       "    }\n",
       "</style>\n",
       "<table border=\"1\" class=\"dataframe\">\n",
       "  <thead>\n",
       "    <tr style=\"text-align: right;\">\n",
       "      <th></th>\n",
       "      <th>file_name</th>\n",
       "      <th>label</th>\n",
       "      <th>file_path</th>\n",
       "    </tr>\n",
       "  </thead>\n",
       "  <tbody>\n",
       "    <tr>\n",
       "      <th>0</th>\n",
       "      <td>TEST_0001.tiff</td>\n",
       "      <td>kevin</td>\n",
       "      <td>C:\\Users\\Harrison\\Projects\\STAT3007\\handwritin...</td>\n",
       "    </tr>\n",
       "    <tr>\n",
       "      <th>1</th>\n",
       "      <td>TEST_0002.tiff</td>\n",
       "      <td>clotaire</td>\n",
       "      <td>C:\\Users\\Harrison\\Projects\\STAT3007\\handwritin...</td>\n",
       "    </tr>\n",
       "    <tr>\n",
       "      <th>2</th>\n",
       "      <td>TEST_0003.tiff</td>\n",
       "      <td>lena</td>\n",
       "      <td>C:\\Users\\Harrison\\Projects\\STAT3007\\handwritin...</td>\n",
       "    </tr>\n",
       "    <tr>\n",
       "      <th>3</th>\n",
       "      <td>TEST_0004.tiff</td>\n",
       "      <td>jules</td>\n",
       "      <td>C:\\Users\\Harrison\\Projects\\STAT3007\\handwritin...</td>\n",
       "    </tr>\n",
       "    <tr>\n",
       "      <th>4</th>\n",
       "      <td>TEST_0005.tiff</td>\n",
       "      <td>cherpin</td>\n",
       "      <td>C:\\Users\\Harrison\\Projects\\STAT3007\\handwritin...</td>\n",
       "    </tr>\n",
       "    <tr>\n",
       "      <th>...</th>\n",
       "      <td>...</td>\n",
       "      <td>...</td>\n",
       "      <td>...</td>\n",
       "    </tr>\n",
       "    <tr>\n",
       "      <th>41060</th>\n",
       "      <td>TEST_41366.tiff</td>\n",
       "      <td>alexane</td>\n",
       "      <td>C:\\Users\\Harrison\\Projects\\STAT3007\\handwritin...</td>\n",
       "    </tr>\n",
       "    <tr>\n",
       "      <th>41061</th>\n",
       "      <td>TEST_41367.tiff</td>\n",
       "      <td>pereira-silva</td>\n",
       "      <td>C:\\Users\\Harrison\\Projects\\STAT3007\\handwritin...</td>\n",
       "    </tr>\n",
       "    <tr>\n",
       "      <th>41062</th>\n",
       "      <td>TEST_41368.tiff</td>\n",
       "      <td>laurent</td>\n",
       "      <td>C:\\Users\\Harrison\\Projects\\STAT3007\\handwritin...</td>\n",
       "    </tr>\n",
       "    <tr>\n",
       "      <th>41063</th>\n",
       "      <td>TEST_41369.tiff</td>\n",
       "      <td>deffense</td>\n",
       "      <td>C:\\Users\\Harrison\\Projects\\STAT3007\\handwritin...</td>\n",
       "    </tr>\n",
       "    <tr>\n",
       "      <th>41064</th>\n",
       "      <td>TEST_41370.tiff</td>\n",
       "      <td>melab</td>\n",
       "      <td>C:\\Users\\Harrison\\Projects\\STAT3007\\handwritin...</td>\n",
       "    </tr>\n",
       "  </tbody>\n",
       "</table>\n",
       "<p>41065 rows × 3 columns</p>\n",
       "</div>"
      ],
      "text/plain": [
       "             file_name          label  \\\n",
       "0       TEST_0001.tiff          kevin   \n",
       "1       TEST_0002.tiff       clotaire   \n",
       "2       TEST_0003.tiff           lena   \n",
       "3       TEST_0004.tiff          jules   \n",
       "4       TEST_0005.tiff        cherpin   \n",
       "...                ...            ...   \n",
       "41060  TEST_41366.tiff        alexane   \n",
       "41061  TEST_41367.tiff  pereira-silva   \n",
       "41062  TEST_41368.tiff        laurent   \n",
       "41063  TEST_41369.tiff       deffense   \n",
       "41064  TEST_41370.tiff          melab   \n",
       "\n",
       "                                               file_path  \n",
       "0      C:\\Users\\Harrison\\Projects\\STAT3007\\handwritin...  \n",
       "1      C:\\Users\\Harrison\\Projects\\STAT3007\\handwritin...  \n",
       "2      C:\\Users\\Harrison\\Projects\\STAT3007\\handwritin...  \n",
       "3      C:\\Users\\Harrison\\Projects\\STAT3007\\handwritin...  \n",
       "4      C:\\Users\\Harrison\\Projects\\STAT3007\\handwritin...  \n",
       "...                                                  ...  \n",
       "41060  C:\\Users\\Harrison\\Projects\\STAT3007\\handwritin...  \n",
       "41061  C:\\Users\\Harrison\\Projects\\STAT3007\\handwritin...  \n",
       "41062  C:\\Users\\Harrison\\Projects\\STAT3007\\handwritin...  \n",
       "41063  C:\\Users\\Harrison\\Projects\\STAT3007\\handwritin...  \n",
       "41064  C:\\Users\\Harrison\\Projects\\STAT3007\\handwritin...  \n",
       "\n",
       "[41065 rows x 3 columns]"
      ]
     },
     "execution_count": 3,
     "metadata": {},
     "output_type": "execute_result"
    }
   ],
   "source": [
    "test_data = pd.read_csv(path_to_test)\n",
    "test_data"
   ]
  },
  {
   "cell_type": "code",
   "execution_count": 4,
   "metadata": {},
   "outputs": [],
   "source": [
    "from handwriting_recognition.data_loader import HandWritingDataset"
   ]
  },
  {
   "cell_type": "code",
   "execution_count": 8,
   "metadata": {},
   "outputs": [
    {
     "name": "stdout",
     "output_type": "stream",
     "text": [
      "5 5\n"
     ]
    }
   ],
   "source": [
    "dataloader = DataLoader(HandWritingDataset(path_to_test, None), batch_size=5, shuffle=True)\n",
    "\n",
    "for x_batch, y_batch in dataloader:\n",
    "    print(len(x_batch), len(y_batch))\n",
    "    break\n",
    "\n"
   ]
  }
 ],
 "metadata": {
  "kernelspec": {
   "display_name": "STAT3007",
   "language": "python",
   "name": "python3"
  },
  "language_info": {
   "codemirror_mode": {
    "name": "ipython",
    "version": 3
   },
   "file_extension": ".py",
   "mimetype": "text/x-python",
   "name": "python",
   "nbconvert_exporter": "python",
   "pygments_lexer": "ipython3",
   "version": "3.12.3"
  }
 },
 "nbformat": 4,
 "nbformat_minor": 2
}
