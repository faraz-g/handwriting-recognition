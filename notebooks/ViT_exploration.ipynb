{
 "cells": [
  {
   "attachments": {},
   "cell_type": "markdown",
   "metadata": {},
   "source": [
    "# ViT Pilot Run\n",
    "\n",
    "**Goal:** to demonstrate running the model with ViT and outputting the hidden space from input "
   ]
  },
  {
   "cell_type": "code",
   "execution_count": 2,
   "metadata": {},
   "outputs": [
    {
     "name": "stdout",
     "output_type": "stream",
     "text": [
      "C:\\Users\\User\\Desktop\\handwriting-recognition\\dataset\n",
      "C:\\Users\\User\\Desktop\\handwriting-recognition\\dataset\\pre_processed/test.csv\n"
     ]
    },
    {
     "data": {
      "text/html": [
       "<div>\n",
       "<style scoped>\n",
       "    .dataframe tbody tr th:only-of-type {\n",
       "        vertical-align: middle;\n",
       "    }\n",
       "\n",
       "    .dataframe tbody tr th {\n",
       "        vertical-align: top;\n",
       "    }\n",
       "\n",
       "    .dataframe thead th {\n",
       "        text-align: right;\n",
       "    }\n",
       "</style>\n",
       "<table border=\"1\" class=\"dataframe\">\n",
       "  <thead>\n",
       "    <tr style=\"text-align: right;\">\n",
       "      <th></th>\n",
       "      <th>file_name</th>\n",
       "      <th>label</th>\n",
       "      <th>file_path</th>\n",
       "    </tr>\n",
       "  </thead>\n",
       "  <tbody>\n",
       "    <tr>\n",
       "      <th>0</th>\n",
       "      <td>TEST_0001.tiff</td>\n",
       "      <td>kevin</td>\n",
       "      <td>D:\\Google Drive\\Lifestyle\\Interests\\Coding\\Pro...</td>\n",
       "    </tr>\n",
       "    <tr>\n",
       "      <th>1</th>\n",
       "      <td>TEST_0002.tiff</td>\n",
       "      <td>clotaire</td>\n",
       "      <td>D:\\Google Drive\\Lifestyle\\Interests\\Coding\\Pro...</td>\n",
       "    </tr>\n",
       "    <tr>\n",
       "      <th>2</th>\n",
       "      <td>TEST_0003.tiff</td>\n",
       "      <td>lena</td>\n",
       "      <td>D:\\Google Drive\\Lifestyle\\Interests\\Coding\\Pro...</td>\n",
       "    </tr>\n",
       "    <tr>\n",
       "      <th>3</th>\n",
       "      <td>TEST_0004.tiff</td>\n",
       "      <td>jules</td>\n",
       "      <td>D:\\Google Drive\\Lifestyle\\Interests\\Coding\\Pro...</td>\n",
       "    </tr>\n",
       "    <tr>\n",
       "      <th>4</th>\n",
       "      <td>TEST_0005.tiff</td>\n",
       "      <td>cherpin</td>\n",
       "      <td>D:\\Google Drive\\Lifestyle\\Interests\\Coding\\Pro...</td>\n",
       "    </tr>\n",
       "    <tr>\n",
       "      <th>...</th>\n",
       "      <td>...</td>\n",
       "      <td>...</td>\n",
       "      <td>...</td>\n",
       "    </tr>\n",
       "    <tr>\n",
       "      <th>41060</th>\n",
       "      <td>TEST_41366.tiff</td>\n",
       "      <td>alexane</td>\n",
       "      <td>D:\\Google Drive\\Lifestyle\\Interests\\Coding\\Pro...</td>\n",
       "    </tr>\n",
       "    <tr>\n",
       "      <th>41061</th>\n",
       "      <td>TEST_41367.tiff</td>\n",
       "      <td>pereira-silva</td>\n",
       "      <td>D:\\Google Drive\\Lifestyle\\Interests\\Coding\\Pro...</td>\n",
       "    </tr>\n",
       "    <tr>\n",
       "      <th>41062</th>\n",
       "      <td>TEST_41368.tiff</td>\n",
       "      <td>laurent</td>\n",
       "      <td>D:\\Google Drive\\Lifestyle\\Interests\\Coding\\Pro...</td>\n",
       "    </tr>\n",
       "    <tr>\n",
       "      <th>41063</th>\n",
       "      <td>TEST_41369.tiff</td>\n",
       "      <td>deffense</td>\n",
       "      <td>D:\\Google Drive\\Lifestyle\\Interests\\Coding\\Pro...</td>\n",
       "    </tr>\n",
       "    <tr>\n",
       "      <th>41064</th>\n",
       "      <td>TEST_41370.tiff</td>\n",
       "      <td>melab</td>\n",
       "      <td>D:\\Google Drive\\Lifestyle\\Interests\\Coding\\Pro...</td>\n",
       "    </tr>\n",
       "  </tbody>\n",
       "</table>\n",
       "<p>41065 rows × 3 columns</p>\n",
       "</div>"
      ],
      "text/plain": [
       "             file_name          label  \\\n",
       "0       TEST_0001.tiff          kevin   \n",
       "1       TEST_0002.tiff       clotaire   \n",
       "2       TEST_0003.tiff           lena   \n",
       "3       TEST_0004.tiff          jules   \n",
       "4       TEST_0005.tiff        cherpin   \n",
       "...                ...            ...   \n",
       "41060  TEST_41366.tiff        alexane   \n",
       "41061  TEST_41367.tiff  pereira-silva   \n",
       "41062  TEST_41368.tiff        laurent   \n",
       "41063  TEST_41369.tiff       deffense   \n",
       "41064  TEST_41370.tiff          melab   \n",
       "\n",
       "                                               file_path  \n",
       "0      D:\\Google Drive\\Lifestyle\\Interests\\Coding\\Pro...  \n",
       "1      D:\\Google Drive\\Lifestyle\\Interests\\Coding\\Pro...  \n",
       "2      D:\\Google Drive\\Lifestyle\\Interests\\Coding\\Pro...  \n",
       "3      D:\\Google Drive\\Lifestyle\\Interests\\Coding\\Pro...  \n",
       "4      D:\\Google Drive\\Lifestyle\\Interests\\Coding\\Pro...  \n",
       "...                                                  ...  \n",
       "41060  D:\\Google Drive\\Lifestyle\\Interests\\Coding\\Pro...  \n",
       "41061  D:\\Google Drive\\Lifestyle\\Interests\\Coding\\Pro...  \n",
       "41062  D:\\Google Drive\\Lifestyle\\Interests\\Coding\\Pro...  \n",
       "41063  D:\\Google Drive\\Lifestyle\\Interests\\Coding\\Pro...  \n",
       "41064  D:\\Google Drive\\Lifestyle\\Interests\\Coding\\Pro...  \n",
       "\n",
       "[41065 rows x 3 columns]"
      ]
     },
     "execution_count": 2,
     "metadata": {},
     "output_type": "execute_result"
    }
   ],
   "source": [
    "from handwriting_recognition.utils import *\n",
    "import pandas as pd\n",
    "import os\n",
    "# ingest the data\n",
    "path_to_data = get_dataset_folder_path()\n",
    "print(path_to_data)\n",
    "path_to_test = os.path.join(path_to_data, 'pre_processed/test.csv')\n",
    "print(path_to_test)\n",
    "test_data = pd.read_csv(path_to_test)\n",
    "test_data"
   ]
  },
  {
   "cell_type": "code",
   "execution_count": 16,
   "metadata": {},
   "outputs": [
    {
     "data": {
      "text/plain": [
       "torch.utils.data.dataloader.DataLoader"
      ]
     },
     "execution_count": 16,
     "metadata": {},
     "output_type": "execute_result"
    }
   ],
   "source": [
    "from handwriting_recognition.data_loader import HandWritingDataset\n",
    "from torch.utils.data import DataLoader\n",
    "dataloader = DataLoader(HandWritingDataset(path_to_test, None), batch_size=5, shuffle=False)\n",
    "\n",
    "type(dataloader)"
   ]
  },
  {
   "cell_type": "code",
   "execution_count": 17,
   "metadata": {},
   "outputs": [
    {
     "name": "stdout",
     "output_type": "stream",
     "text": [
      "tensor([[0.7781, 0.8475, 0.4430],\n",
      "        [0.7756, 0.4193, 0.0328],\n",
      "        [0.2976, 0.0858, 0.6128],\n",
      "        [0.8024, 0.1707, 0.4132],\n",
      "        [0.0119, 0.2573, 0.9690]])\n"
     ]
    }
   ],
   "source": [
    "import torch\n",
    "x = torch.rand(5, 3)\n",
    "print(x)"
   ]
  },
  {
   "cell_type": "code",
   "execution_count": 18,
   "metadata": {},
   "outputs": [
    {
     "data": {
      "text/plain": [
       "[tensor([[[[1., 1., 1.,  ..., 1., 1., 1.],\n",
       "           [1., 1., 1.,  ..., 1., 1., 1.],\n",
       "           [1., 1., 1.,  ..., 1., 1., 1.],\n",
       "           ...,\n",
       "           [1., 1., 1.,  ..., 1., 1., 1.],\n",
       "           [1., 1., 1.,  ..., 1., 1., 1.],\n",
       "           [1., 1., 1.,  ..., 1., 1., 1.]],\n",
       " \n",
       "          [[1., 1., 1.,  ..., 1., 1., 1.],\n",
       "           [1., 1., 1.,  ..., 1., 1., 1.],\n",
       "           [1., 1., 1.,  ..., 1., 1., 1.],\n",
       "           ...,\n",
       "           [1., 1., 1.,  ..., 1., 1., 1.],\n",
       "           [1., 1., 1.,  ..., 1., 1., 1.],\n",
       "           [1., 1., 1.,  ..., 1., 1., 1.]],\n",
       " \n",
       "          [[1., 1., 1.,  ..., 1., 1., 1.],\n",
       "           [1., 1., 1.,  ..., 1., 1., 1.],\n",
       "           [1., 1., 1.,  ..., 1., 1., 1.],\n",
       "           ...,\n",
       "           [1., 1., 1.,  ..., 1., 1., 1.],\n",
       "           [1., 1., 1.,  ..., 1., 1., 1.],\n",
       "           [1., 1., 1.,  ..., 1., 1., 1.]]],\n",
       " \n",
       " \n",
       "         [[[1., 1., 1.,  ..., 1., 1., 1.],\n",
       "           [1., 1., 1.,  ..., 1., 1., 1.],\n",
       "           [1., 1., 1.,  ..., 1., 1., 1.],\n",
       "           ...,\n",
       "           [1., 1., 1.,  ..., 1., 1., 1.],\n",
       "           [1., 1., 1.,  ..., 1., 1., 1.],\n",
       "           [1., 1., 1.,  ..., 1., 1., 1.]],\n",
       " \n",
       "          [[1., 1., 1.,  ..., 1., 1., 1.],\n",
       "           [1., 1., 1.,  ..., 1., 1., 1.],\n",
       "           [1., 1., 1.,  ..., 1., 1., 1.],\n",
       "           ...,\n",
       "           [1., 1., 1.,  ..., 1., 1., 1.],\n",
       "           [1., 1., 1.,  ..., 1., 1., 1.],\n",
       "           [1., 1., 1.,  ..., 1., 1., 1.]],\n",
       " \n",
       "          [[1., 1., 1.,  ..., 1., 1., 1.],\n",
       "           [1., 1., 1.,  ..., 1., 1., 1.],\n",
       "           [1., 1., 1.,  ..., 1., 1., 1.],\n",
       "           ...,\n",
       "           [1., 1., 1.,  ..., 1., 1., 1.],\n",
       "           [1., 1., 1.,  ..., 1., 1., 1.],\n",
       "           [1., 1., 1.,  ..., 1., 1., 1.]]],\n",
       " \n",
       " \n",
       "         [[[1., 1., 1.,  ..., 1., 1., 1.],\n",
       "           [1., 1., 1.,  ..., 1., 1., 1.],\n",
       "           [1., 1., 1.,  ..., 1., 1., 1.],\n",
       "           ...,\n",
       "           [1., 1., 1.,  ..., 1., 1., 1.],\n",
       "           [1., 1., 1.,  ..., 1., 1., 1.],\n",
       "           [1., 1., 1.,  ..., 1., 1., 1.]],\n",
       " \n",
       "          [[1., 1., 1.,  ..., 1., 1., 1.],\n",
       "           [1., 1., 1.,  ..., 1., 1., 1.],\n",
       "           [1., 1., 1.,  ..., 1., 1., 1.],\n",
       "           ...,\n",
       "           [1., 1., 1.,  ..., 1., 1., 1.],\n",
       "           [1., 1., 1.,  ..., 1., 1., 1.],\n",
       "           [1., 1., 1.,  ..., 1., 1., 1.]],\n",
       " \n",
       "          [[1., 1., 1.,  ..., 1., 1., 1.],\n",
       "           [1., 1., 1.,  ..., 1., 1., 1.],\n",
       "           [1., 1., 1.,  ..., 1., 1., 1.],\n",
       "           ...,\n",
       "           [1., 1., 1.,  ..., 1., 1., 1.],\n",
       "           [1., 1., 1.,  ..., 1., 1., 1.],\n",
       "           [1., 1., 1.,  ..., 1., 1., 1.]]],\n",
       " \n",
       " \n",
       "         [[[1., 1., 1.,  ..., 1., 1., 1.],\n",
       "           [1., 1., 1.,  ..., 1., 1., 1.],\n",
       "           [1., 1., 1.,  ..., 1., 1., 1.],\n",
       "           ...,\n",
       "           [1., 1., 1.,  ..., 1., 1., 1.],\n",
       "           [1., 1., 1.,  ..., 1., 1., 1.],\n",
       "           [1., 1., 1.,  ..., 1., 1., 1.]],\n",
       " \n",
       "          [[1., 1., 1.,  ..., 1., 1., 1.],\n",
       "           [1., 1., 1.,  ..., 1., 1., 1.],\n",
       "           [1., 1., 1.,  ..., 1., 1., 1.],\n",
       "           ...,\n",
       "           [1., 1., 1.,  ..., 1., 1., 1.],\n",
       "           [1., 1., 1.,  ..., 1., 1., 1.],\n",
       "           [1., 1., 1.,  ..., 1., 1., 1.]],\n",
       " \n",
       "          [[1., 1., 1.,  ..., 1., 1., 1.],\n",
       "           [1., 1., 1.,  ..., 1., 1., 1.],\n",
       "           [1., 1., 1.,  ..., 1., 1., 1.],\n",
       "           ...,\n",
       "           [1., 1., 1.,  ..., 1., 1., 1.],\n",
       "           [1., 1., 1.,  ..., 1., 1., 1.],\n",
       "           [1., 1., 1.,  ..., 1., 1., 1.]]],\n",
       " \n",
       " \n",
       "         [[[1., 1., 1.,  ..., 1., 1., 1.],\n",
       "           [1., 1., 1.,  ..., 1., 1., 1.],\n",
       "           [1., 1., 1.,  ..., 1., 1., 1.],\n",
       "           ...,\n",
       "           [1., 1., 1.,  ..., 1., 1., 1.],\n",
       "           [1., 1., 1.,  ..., 1., 1., 1.],\n",
       "           [1., 1., 1.,  ..., 1., 1., 1.]],\n",
       " \n",
       "          [[1., 1., 1.,  ..., 1., 1., 1.],\n",
       "           [1., 1., 1.,  ..., 1., 1., 1.],\n",
       "           [1., 1., 1.,  ..., 1., 1., 1.],\n",
       "           ...,\n",
       "           [1., 1., 1.,  ..., 1., 1., 1.],\n",
       "           [1., 1., 1.,  ..., 1., 1., 1.],\n",
       "           [1., 1., 1.,  ..., 1., 1., 1.]],\n",
       " \n",
       "          [[1., 1., 1.,  ..., 1., 1., 1.],\n",
       "           [1., 1., 1.,  ..., 1., 1., 1.],\n",
       "           [1., 1., 1.,  ..., 1., 1., 1.],\n",
       "           ...,\n",
       "           [1., 1., 1.,  ..., 1., 1., 1.],\n",
       "           [1., 1., 1.,  ..., 1., 1., 1.],\n",
       "           [1., 1., 1.,  ..., 1., 1., 1.]]]]),\n",
       " ('kevin', 'clotaire', 'lena', 'jules', 'cherpin')]"
      ]
     },
     "execution_count": 18,
     "metadata": {},
     "output_type": "execute_result"
    }
   ],
   "source": [
    "for batch in dataloader:\n",
    "    single_record = batch\n",
    "    break  # Exit after the first iteration to get just one record\n",
    "\n",
    "single_record"
   ]
  },
  {
   "cell_type": "code",
   "execution_count": 19,
   "metadata": {},
   "outputs": [
    {
     "data": {
      "text/plain": [
       "list"
      ]
     },
     "execution_count": 19,
     "metadata": {},
     "output_type": "execute_result"
    }
   ],
   "source": [
    "type(single_record)"
   ]
  },
  {
   "cell_type": "code",
   "execution_count": 20,
   "metadata": {},
   "outputs": [],
   "source": [
    "from transformers import AutoImageProcessor, ViTModel\n",
    "import torch"
   ]
  },
  {
   "cell_type": "code",
   "execution_count": 21,
   "metadata": {},
   "outputs": [
    {
     "data": {
      "image/png": "[encoded data removed]",
      "text/plain": [
       "<Figure size 640x480 with 1 Axes>"
      ]
     },
     "metadata": {},
     "output_type": "display_data"
    }
   ],
   "source": [
    "import matplotlib.pyplot as plt\n",
    "plt.imshow(single_record[0][0][0])\n",
    "plt.show()"
   ]
  },
  {
   "cell_type": "code",
   "execution_count": 22,
   "metadata": {},
   "outputs": [
    {
     "name": "stderr",
     "output_type": "stream",
     "text": [
      "c:\\Users\\User\\AppData\\Local\\pypoetry\\Cache\\virtualenvs\\handwriting-recognition-mEqlV94N-py3.12\\Lib\\site-packages\\huggingface_hub\\file_download.py:1132: FutureWarning: `resume_download` is deprecated and will be removed in version 1.0.0. Downloads always resume when possible. If you want to force a new download, use `force_download=True`.\n",
      "  warnings.warn(\n"
     ]
    },
    {
     "data": {
      "text/plain": [
       "\"\\nreturn_tensors (str or TensorType, optional) — The type of tensors to return. Can be one of:\\nUnset: Return a list of np.ndarray.\\nTensorType.TENSORFLOW or 'tf': Return a batch of type tf.Tensor.\\nTensorType.PYTORCH or 'pt': Return a batch of type torch.Tensor.\\nTensorType.NUMPY or 'np': Return a batch of type np.ndarray.\\nTensorType.JAX or 'jax': Return a batch of type jax.numpy.ndarray.\\n\""
      ]
     },
     "execution_count": 22,
     "metadata": {},
     "output_type": "execute_result"
    }
   ],
   "source": [
    "image_processor = AutoImageProcessor.from_pretrained(\"google/vit-base-patch16-224-in21k\")\n",
    "model = ViTModel.from_pretrained(\"google/vit-base-patch16-224-in21k\")\n",
    "\n",
    "inputs = image_processor(single_record[0], return_tensors='pt', do_rescale=False)\n",
    "'''\n",
    "return_tensors (str or TensorType, optional) — The type of tensors to return. Can be one of:\n",
    "Unset: Return a list of np.ndarray.\n",
    "TensorType.TENSORFLOW or 'tf': Return a batch of type tf.Tensor.\n",
    "TensorType.PYTORCH or 'pt': Return a batch of type torch.Tensor.\n",
    "TensorType.NUMPY or 'np': Return a batch of type np.ndarray.\n",
    "TensorType.JAX or 'jax': Return a batch of type jax.numpy.ndarray.\n",
    "'''"
   ]
  },
  {
   "cell_type": "code",
   "execution_count": 23,
   "metadata": {},
   "outputs": [
    {
     "data": {
      "text/plain": [
       "ViTConfig {\n",
       "  \"_name_or_path\": \"google/vit-base-patch16-224-in21k\",\n",
       "  \"architectures\": [\n",
       "    \"ViTModel\"\n",
       "  ],\n",
       "  \"attention_probs_dropout_prob\": 0.0,\n",
       "  \"encoder_stride\": 16,\n",
       "  \"hidden_act\": \"gelu\",\n",
       "  \"hidden_dropout_prob\": 0.0,\n",
       "  \"hidden_size\": 768,\n",
       "  \"image_size\": 224,\n",
       "  \"initializer_range\": 0.02,\n",
       "  \"intermediate_size\": 3072,\n",
       "  \"layer_norm_eps\": 1e-12,\n",
       "  \"model_type\": \"vit\",\n",
       "  \"num_attention_heads\": 12,\n",
       "  \"num_channels\": 3,\n",
       "  \"num_hidden_layers\": 12,\n",
       "  \"patch_size\": 16,\n",
       "  \"qkv_bias\": true,\n",
       "  \"transformers_version\": \"4.40.2\"\n",
       "}"
      ]
     },
     "execution_count": 23,
     "metadata": {},
     "output_type": "execute_result"
    }
   ],
   "source": [
    "# Here is how you get your model configuration\n",
    "configuration = model.config\n",
    "configuration"
   ]
  },
  {
   "cell_type": "code",
   "execution_count": 24,
   "metadata": {},
   "outputs": [
    {
     "data": {
      "image/png": "[encoded data removed]",
      "text/plain": [
       "<Figure size 640x480 with 1 Axes>"
      ]
     },
     "metadata": {},
     "output_type": "display_data"
    }
   ],
   "source": [
    "import matplotlib.pyplot as plt\n",
    "plt.imshow(inputs.pixel_values[0][0])\n",
    "plt.show()"
   ]
  },
  {
   "attachments": {},
   "cell_type": "markdown",
   "metadata": {},
   "source": [
    "You need to have the image to be in the format the model was trained on. In this example, it was 224. This is why the above image looks streached. "
   ]
  },
  {
   "cell_type": "code",
   "execution_count": 25,
   "metadata": {},
   "outputs": [
    {
     "data": {
      "text/plain": [
       "[5, 197, 768]"
      ]
     },
     "execution_count": 25,
     "metadata": {},
     "output_type": "execute_result"
    }
   ],
   "source": [
    "with torch.no_grad():\n",
    "    outputs = model(**inputs)\n",
    "    # outputs = model(single_record[0]) # <-- example of a failed record.\n",
    "\n",
    "last_hidden_states = outputs.last_hidden_state\n",
    "list(last_hidden_states.shape)"
   ]
  },
  {
   "cell_type": "code",
   "execution_count": 26,
   "metadata": {},
   "outputs": [
    {
     "data": {
      "text/plain": [
       "{'pixel_values': tensor([[[[1., 1., 1.,  ..., 1., 1., 1.],\n",
       "          [1., 1., 1.,  ..., 1., 1., 1.],\n",
       "          [1., 1., 1.,  ..., 1., 1., 1.],\n",
       "          ...,\n",
       "          [1., 1., 1.,  ..., 1., 1., 1.],\n",
       "          [1., 1., 1.,  ..., 1., 1., 1.],\n",
       "          [1., 1., 1.,  ..., 1., 1., 1.]],\n",
       "\n",
       "         [[1., 1., 1.,  ..., 1., 1., 1.],\n",
       "          [1., 1., 1.,  ..., 1., 1., 1.],\n",
       "          [1., 1., 1.,  ..., 1., 1., 1.],\n",
       "          ...,\n",
       "          [1., 1., 1.,  ..., 1., 1., 1.],\n",
       "          [1., 1., 1.,  ..., 1., 1., 1.],\n",
       "          [1., 1., 1.,  ..., 1., 1., 1.]],\n",
       "\n",
       "         [[1., 1., 1.,  ..., 1., 1., 1.],\n",
       "          [1., 1., 1.,  ..., 1., 1., 1.],\n",
       "          [1., 1., 1.,  ..., 1., 1., 1.],\n",
       "          ...,\n",
       "          [1., 1., 1.,  ..., 1., 1., 1.],\n",
       "          [1., 1., 1.,  ..., 1., 1., 1.],\n",
       "          [1., 1., 1.,  ..., 1., 1., 1.]]],\n",
       "\n",
       "\n",
       "        [[[1., 1., 1.,  ..., 1., 1., 1.],\n",
       "          [1., 1., 1.,  ..., 1., 1., 1.],\n",
       "          [1., 1., 1.,  ..., 1., 1., 1.],\n",
       "          ...,\n",
       "          [1., 1., 1.,  ..., 1., 1., 1.],\n",
       "          [1., 1., 1.,  ..., 1., 1., 1.],\n",
       "          [1., 1., 1.,  ..., 1., 1., 1.]],\n",
       "\n",
       "         [[1., 1., 1.,  ..., 1., 1., 1.],\n",
       "          [1., 1., 1.,  ..., 1., 1., 1.],\n",
       "          [1., 1., 1.,  ..., 1., 1., 1.],\n",
       "          ...,\n",
       "          [1., 1., 1.,  ..., 1., 1., 1.],\n",
       "          [1., 1., 1.,  ..., 1., 1., 1.],\n",
       "          [1., 1., 1.,  ..., 1., 1., 1.]],\n",
       "\n",
       "         [[1., 1., 1.,  ..., 1., 1., 1.],\n",
       "          [1., 1., 1.,  ..., 1., 1., 1.],\n",
       "          [1., 1., 1.,  ..., 1., 1., 1.],\n",
       "          ...,\n",
       "          [1., 1., 1.,  ..., 1., 1., 1.],\n",
       "          [1., 1., 1.,  ..., 1., 1., 1.],\n",
       "          [1., 1., 1.,  ..., 1., 1., 1.]]],\n",
       "\n",
       "\n",
       "        [[[1., 1., 1.,  ..., 1., 1., 1.],\n",
       "          [1., 1., 1.,  ..., 1., 1., 1.],\n",
       "          [1., 1., 1.,  ..., 1., 1., 1.],\n",
       "          ...,\n",
       "          [1., 1., 1.,  ..., 1., 1., 1.],\n",
       "          [1., 1., 1.,  ..., 1., 1., 1.],\n",
       "          [1., 1., 1.,  ..., 1., 1., 1.]],\n",
       "\n",
       "         [[1., 1., 1.,  ..., 1., 1., 1.],\n",
       "          [1., 1., 1.,  ..., 1., 1., 1.],\n",
       "          [1., 1., 1.,  ..., 1., 1., 1.],\n",
       "          ...,\n",
       "          [1., 1., 1.,  ..., 1., 1., 1.],\n",
       "          [1., 1., 1.,  ..., 1., 1., 1.],\n",
       "          [1., 1., 1.,  ..., 1., 1., 1.]],\n",
       "\n",
       "         [[1., 1., 1.,  ..., 1., 1., 1.],\n",
       "          [1., 1., 1.,  ..., 1., 1., 1.],\n",
       "          [1., 1., 1.,  ..., 1., 1., 1.],\n",
       "          ...,\n",
       "          [1., 1., 1.,  ..., 1., 1., 1.],\n",
       "          [1., 1., 1.,  ..., 1., 1., 1.],\n",
       "          [1., 1., 1.,  ..., 1., 1., 1.]]],\n",
       "\n",
       "\n",
       "        [[[1., 1., 1.,  ..., 1., 1., 1.],\n",
       "          [1., 1., 1.,  ..., 1., 1., 1.],\n",
       "          [1., 1., 1.,  ..., 1., 1., 1.],\n",
       "          ...,\n",
       "          [1., 1., 1.,  ..., 1., 1., 1.],\n",
       "          [1., 1., 1.,  ..., 1., 1., 1.],\n",
       "          [1., 1., 1.,  ..., 1., 1., 1.]],\n",
       "\n",
       "         [[1., 1., 1.,  ..., 1., 1., 1.],\n",
       "          [1., 1., 1.,  ..., 1., 1., 1.],\n",
       "          [1., 1., 1.,  ..., 1., 1., 1.],\n",
       "          ...,\n",
       "          [1., 1., 1.,  ..., 1., 1., 1.],\n",
       "          [1., 1., 1.,  ..., 1., 1., 1.],\n",
       "          [1., 1., 1.,  ..., 1., 1., 1.]],\n",
       "\n",
       "         [[1., 1., 1.,  ..., 1., 1., 1.],\n",
       "          [1., 1., 1.,  ..., 1., 1., 1.],\n",
       "          [1., 1., 1.,  ..., 1., 1., 1.],\n",
       "          ...,\n",
       "          [1., 1., 1.,  ..., 1., 1., 1.],\n",
       "          [1., 1., 1.,  ..., 1., 1., 1.],\n",
       "          [1., 1., 1.,  ..., 1., 1., 1.]]],\n",
       "\n",
       "\n",
       "        [[[1., 1., 1.,  ..., 1., 1., 1.],\n",
       "          [1., 1., 1.,  ..., 1., 1., 1.],\n",
       "          [1., 1., 1.,  ..., 1., 1., 1.],\n",
       "          ...,\n",
       "          [1., 1., 1.,  ..., 1., 1., 1.],\n",
       "          [1., 1., 1.,  ..., 1., 1., 1.],\n",
       "          [1., 1., 1.,  ..., 1., 1., 1.]],\n",
       "\n",
       "         [[1., 1., 1.,  ..., 1., 1., 1.],\n",
       "          [1., 1., 1.,  ..., 1., 1., 1.],\n",
       "          [1., 1., 1.,  ..., 1., 1., 1.],\n",
       "          ...,\n",
       "          [1., 1., 1.,  ..., 1., 1., 1.],\n",
       "          [1., 1., 1.,  ..., 1., 1., 1.],\n",
       "          [1., 1., 1.,  ..., 1., 1., 1.]],\n",
       "\n",
       "         [[1., 1., 1.,  ..., 1., 1., 1.],\n",
       "          [1., 1., 1.,  ..., 1., 1., 1.],\n",
       "          [1., 1., 1.,  ..., 1., 1., 1.],\n",
       "          ...,\n",
       "          [1., 1., 1.,  ..., 1., 1., 1.],\n",
       "          [1., 1., 1.,  ..., 1., 1., 1.],\n",
       "          [1., 1., 1.,  ..., 1., 1., 1.]]]])}"
      ]
     },
     "execution_count": 26,
     "metadata": {},
     "output_type": "execute_result"
    }
   ],
   "source": [
    "inputs"
   ]
  },
  {
   "cell_type": "code",
   "execution_count": 27,
   "metadata": {},
   "outputs": [
    {
     "data": {
      "text/plain": [
       "tensor([[[ 9.7942e-02, -9.9572e-02, -2.1298e-02,  ...,  1.4069e-01,\n",
       "          -2.0565e-02,  1.2761e-01],\n",
       "         [-6.0684e-02,  2.0462e-02,  1.0203e-01,  ...,  2.9720e-01,\n",
       "           1.1994e-02,  2.2446e-01],\n",
       "         [-1.1405e-01, -9.0036e-02,  1.2728e-01,  ...,  4.1217e-02,\n",
       "           1.2911e-02,  1.3943e-01],\n",
       "         ...,\n",
       "         [-8.8272e-02,  1.8731e-01, -2.9675e-02,  ...,  2.6130e-02,\n",
       "           6.7744e-02,  1.1876e-01],\n",
       "         [-1.1568e-01,  1.6134e-01, -3.4536e-03,  ..., -1.9196e-02,\n",
       "           9.8755e-02,  1.7646e-01],\n",
       "         [ 4.6801e-02,  1.2641e-01, -5.2413e-04,  ...,  1.2035e-01,\n",
       "           3.3002e-01,  7.4152e-02]],\n",
       "\n",
       "        [[ 2.4413e-01, -3.8869e-01, -4.7495e-02,  ...,  2.0549e-01,\n",
       "           6.7591e-02,  1.9125e-01],\n",
       "         [ 2.7561e-01, -2.2100e-01, -2.4632e-01,  ...,  1.7990e-01,\n",
       "           2.1090e-01,  6.8660e-02],\n",
       "         [-2.8852e-02,  5.9459e-02, -1.9090e-01,  ...,  1.2141e-02,\n",
       "           2.4954e-01,  3.9832e-03],\n",
       "         ...,\n",
       "         [-5.1501e-03, -3.1641e-02, -1.8739e-02,  ..., -1.0933e-02,\n",
       "          -1.9887e-03, -1.6042e-02],\n",
       "         [-7.7718e-03, -1.1005e-02, -2.9685e-02,  ..., -1.1990e-02,\n",
       "           1.6343e-02, -1.8542e-02],\n",
       "         [ 3.3849e-03, -2.6780e-01, -1.4647e-01,  ...,  2.1476e-03,\n",
       "          -1.0097e-01,  1.4867e-01]],\n",
       "\n",
       "        [[ 2.4761e-01, -3.2216e-01, -1.0717e-01,  ...,  3.0180e-01,\n",
       "           1.1335e-01,  1.1546e-01],\n",
       "         [-2.3154e-02,  6.2427e-02, -3.0672e-02,  ...,  1.7107e-01,\n",
       "           5.2127e-02,  7.1883e-02],\n",
       "         [-8.1239e-02,  1.3546e-01, -3.9120e-02,  ...,  2.1564e-01,\n",
       "           1.8082e-02,  8.5712e-02],\n",
       "         ...,\n",
       "         [ 1.5753e-01, -3.2589e-01,  5.8936e-02,  ...,  1.2086e-01,\n",
       "           2.5719e-01,  1.4240e-01],\n",
       "         [ 2.1955e-01, -8.6533e-04,  4.7484e-02,  ...,  2.0527e-01,\n",
       "          -5.0737e-02,  2.3259e-01],\n",
       "         [-7.8445e-03, -6.1460e-03, -1.9728e-04,  ...,  4.6004e-03,\n",
       "          -1.2156e-02, -1.5452e-02]],\n",
       "\n",
       "        [[ 2.0100e-01, -3.6200e-01, -8.5186e-02,  ...,  2.7606e-01,\n",
       "          -2.5647e-02,  1.2829e-01],\n",
       "         [ 8.4020e-02, -6.3085e-02, -1.4725e-01,  ...,  7.4170e-02,\n",
       "           9.6262e-03,  1.5618e-01],\n",
       "         [ 2.3628e-02, -2.2408e-02, -4.0748e-02,  ...,  6.6043e-02,\n",
       "           1.4039e-02,  1.8219e-01],\n",
       "         ...,\n",
       "         [ 3.4874e-01, -6.9031e-02, -6.4866e-02,  ...,  1.1656e-01,\n",
       "           8.1724e-02,  3.7194e-01],\n",
       "         [ 1.6619e-01, -2.1113e-01, -5.4759e-02,  ..., -6.9642e-02,\n",
       "           3.1062e-01,  1.4842e-01],\n",
       "         [ 2.5274e-01, -2.5070e-01, -1.2803e-01,  ...,  9.1217e-02,\n",
       "          -7.7537e-02,  2.5047e-01]],\n",
       "\n",
       "        [[ 3.5540e-01, -5.2245e-01,  3.1014e-03,  ...,  2.1081e-01,\n",
       "          -3.8717e-02,  1.0122e-01],\n",
       "         [ 1.4526e-02, -7.4939e-02, -7.9738e-02,  ...,  1.0837e-01,\n",
       "          -4.5775e-02,  3.9060e-02],\n",
       "         [-7.9097e-03,  1.4762e-02, -2.0321e-02,  ...,  4.4952e-03,\n",
       "           1.6021e-03, -8.7766e-03],\n",
       "         ...,\n",
       "         [ 2.7632e-01, -3.8143e-01, -4.4731e-02,  ...,  1.4689e-01,\n",
       "          -8.5030e-02,  1.1740e-01],\n",
       "         [ 3.1610e-01, -4.9091e-01,  7.4294e-02,  ..., -1.1843e-01,\n",
       "          -7.5015e-02,  3.4382e-01],\n",
       "         [ 2.0367e-01, -2.2178e-01, -3.5805e-02,  ...,  3.7287e-03,\n",
       "           1.1098e-01,  3.0079e-01]]])"
      ]
     },
     "execution_count": 27,
     "metadata": {},
     "output_type": "execute_result"
    }
   ],
   "source": [
    "last_hidden_states"
   ]
  },
  {
   "cell_type": "code",
   "execution_count": 15,
   "metadata": {},
   "outputs": [],
   "source": [
    "# from handwriting_recognition.model import HandwritingRecognitionModel\n",
    "# from transformers import ViTConfig, ViTModel, ViTFeatureExtractor, AutoImageProcessor\n",
    "\n",
    "# preprocess_imgs = ViTFeatureExtractor(imgs) # https://huggingface.co/docs/transformers/en/model_doc/vit#transformers.ViTFeatureExtractor\n",
    "\n",
    "# # Code from: https://huggingface.co/docs/transformers/en/model_doc/vit\n",
    "# # Initializing a ViT vit-base-patch16-224 style configuration\n",
    "# config = ViTConfig()\n",
    "\n",
    "# # Initializing a model (with random weights) from the vit-base-patch16-224 style configuration\n",
    "# model = HandwritingRecognitionModel(config)\n",
    "\n",
    "# # Accessing the model configuration\n",
    "# configuration = model.config"
   ]
  }
 ],
 "metadata": {
  "kernelspec": {
   "display_name": "handwriting-recognition-xmPqwRom-py3.12",
   "language": "python",
   "name": "python3"
  },
  "language_info": {
   "codemirror_mode": {
    "name": "ipython",
    "version": 3
   },
   "file_extension": ".py",
   "mimetype": "text/x-python",
   "name": "python",
   "nbconvert_exporter": "python",
   "pygments_lexer": "ipython3",
   "version": "3.12.3"
  },
  "orig_nbformat": 4
 },
 "nbformat": 4,
 "nbformat_minor": 2
}
