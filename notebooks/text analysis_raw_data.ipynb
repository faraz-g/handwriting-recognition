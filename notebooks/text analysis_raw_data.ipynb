{
 "cells": [
  {
   "attachments": {},
   "cell_type": "markdown",
   "metadata": {},
   "source": [
    "# Dataset Analysis"
   ]
  },
  {
   "cell_type": "code",
   "execution_count": 1,
   "metadata": {},
   "outputs": [
    {
     "name": "stdout",
     "output_type": "stream",
     "text": [
      "C:\\Users\\User\\Desktop\\handwriting-recognition\\dataset\\raw/train.csv\n",
      "C:\\Users\\User\\Desktop\\handwriting-recognition\\dataset\\raw/test.csv\n",
      "C:\\Users\\User\\Desktop\\handwriting-recognition\\dataset\\raw/validation.csv\n"
     ]
    },
    {
     "name": "stderr",
     "output_type": "stream",
     "text": [
      "c:\\Users\\User\\AppData\\Local\\pypoetry\\Cache\\virtualenvs\\handwriting-recognition-mEqlV94N-py3.12\\Lib\\site-packages\\pydantic\\_internal\\_fields.py:160: UserWarning: Field \"model_name\" has conflict with protected namespace \"model_\".\n",
      "\n",
      "You may be able to resolve this warning by setting `model_config['protected_namespaces'] = ()`.\n",
      "  warnings.warn(\n"
     ]
    }
   ],
   "source": [
    "import pandas as pd\n",
    "import os\n",
    "from handwriting_recognition.utils import get_dataset_folder_path\n",
    "\n",
    "path_to_data = get_dataset_folder_path()\n",
    "path_to_tr = os.path.join(path_to_data, 'raw/train.csv')\n",
    "path_to_ts = os.path.join(path_to_data, 'raw/test.csv')\n",
    "path_to_val = os.path.join(path_to_data, 'raw/validation.csv')\n",
    "print(path_to_tr)\n",
    "print(path_to_ts)\n",
    "print(path_to_val)"
   ]
  },
  {
   "cell_type": "code",
   "execution_count": 2,
   "metadata": {},
   "outputs": [
    {
     "name": "stdout",
     "output_type": "stream",
     "text": [
      "(330961, 2)\n",
      "(41370, 2)\n",
      "(41370, 2)\n"
     ]
    }
   ],
   "source": [
    "tr = pd.read_csv(path_to_tr)\n",
    "ts = pd.read_csv(path_to_ts)\n",
    "val = pd.read_csv(path_to_val)\n",
    "print(tr.shape)\n",
    "print(ts.shape)\n",
    "print(val.shape)"
   ]
  },
  {
   "cell_type": "code",
   "execution_count": 3,
   "metadata": {},
   "outputs": [
    {
     "data": {
      "text/html": [
       "<div>\n",
       "<style scoped>\n",
       "    .dataframe tbody tr th:only-of-type {\n",
       "        vertical-align: middle;\n",
       "    }\n",
       "\n",
       "    .dataframe tbody tr th {\n",
       "        vertical-align: top;\n",
       "    }\n",
       "\n",
       "    .dataframe thead th {\n",
       "        text-align: right;\n",
       "    }\n",
       "</style>\n",
       "<table border=\"1\" class=\"dataframe\">\n",
       "  <thead>\n",
       "    <tr style=\"text-align: right;\">\n",
       "      <th></th>\n",
       "      <th>FILENAME</th>\n",
       "      <th>IDENTITY</th>\n",
       "    </tr>\n",
       "  </thead>\n",
       "  <tbody>\n",
       "    <tr>\n",
       "      <th>0</th>\n",
       "      <td>TRAIN_00001.jpg</td>\n",
       "      <td>BALTHAZAR</td>\n",
       "    </tr>\n",
       "    <tr>\n",
       "      <th>1</th>\n",
       "      <td>TRAIN_00002.jpg</td>\n",
       "      <td>SIMON</td>\n",
       "    </tr>\n",
       "    <tr>\n",
       "      <th>2</th>\n",
       "      <td>TRAIN_00003.jpg</td>\n",
       "      <td>BENES</td>\n",
       "    </tr>\n",
       "    <tr>\n",
       "      <th>3</th>\n",
       "      <td>TRAIN_00004.jpg</td>\n",
       "      <td>LA LOVE</td>\n",
       "    </tr>\n",
       "    <tr>\n",
       "      <th>4</th>\n",
       "      <td>TRAIN_00005.jpg</td>\n",
       "      <td>DAPHNE</td>\n",
       "    </tr>\n",
       "  </tbody>\n",
       "</table>\n",
       "</div>"
      ],
      "text/plain": [
       "          FILENAME   IDENTITY\n",
       "0  TRAIN_00001.jpg  BALTHAZAR\n",
       "1  TRAIN_00002.jpg      SIMON\n",
       "2  TRAIN_00003.jpg      BENES\n",
       "3  TRAIN_00004.jpg    LA LOVE\n",
       "4  TRAIN_00005.jpg     DAPHNE"
      ]
     },
     "execution_count": 3,
     "metadata": {},
     "output_type": "execute_result"
    }
   ],
   "source": [
    "df = pd.concat([tr,val,ts])\n",
    "df.head()"
   ]
  },
  {
   "cell_type": "code",
   "execution_count": 4,
   "metadata": {},
   "outputs": [
    {
     "data": {
      "text/html": [
       "<div>\n",
       "<style scoped>\n",
       "    .dataframe tbody tr th:only-of-type {\n",
       "        vertical-align: middle;\n",
       "    }\n",
       "\n",
       "    .dataframe tbody tr th {\n",
       "        vertical-align: top;\n",
       "    }\n",
       "\n",
       "    .dataframe thead th {\n",
       "        text-align: right;\n",
       "    }\n",
       "</style>\n",
       "<table border=\"1\" class=\"dataframe\">\n",
       "  <thead>\n",
       "    <tr style=\"text-align: right;\">\n",
       "      <th></th>\n",
       "      <th>FILENAME</th>\n",
       "      <th>IDENTITY</th>\n",
       "    </tr>\n",
       "  </thead>\n",
       "  <tbody>\n",
       "    <tr>\n",
       "      <th>count</th>\n",
       "      <td>413701</td>\n",
       "      <td>412988</td>\n",
       "    </tr>\n",
       "    <tr>\n",
       "      <th>unique</th>\n",
       "      <td>413701</td>\n",
       "      <td>117797</td>\n",
       "    </tr>\n",
       "    <tr>\n",
       "      <th>top</th>\n",
       "      <td>TRAIN_00001.jpg</td>\n",
       "      <td>THOMAS</td>\n",
       "    </tr>\n",
       "    <tr>\n",
       "      <th>freq</th>\n",
       "      <td>1</td>\n",
       "      <td>2271</td>\n",
       "    </tr>\n",
       "  </tbody>\n",
       "</table>\n",
       "</div>"
      ],
      "text/plain": [
       "               FILENAME IDENTITY\n",
       "count            413701   412988\n",
       "unique           413701   117797\n",
       "top     TRAIN_00001.jpg   THOMAS\n",
       "freq                  1     2271"
      ]
     },
     "execution_count": 4,
     "metadata": {},
     "output_type": "execute_result"
    }
   ],
   "source": [
    "df.describe()"
   ]
  },
  {
   "cell_type": "code",
   "execution_count": 5,
   "metadata": {},
   "outputs": [],
   "source": [
    "df = df.rename({'IDENTITY':'label'},axis=1) # This is to make data processing easier."
   ]
  },
  {
   "cell_type": "code",
   "execution_count": 6,
   "metadata": {},
   "outputs": [],
   "source": [
    "df['label'] = df['label'].astype(str)"
   ]
  },
  {
   "cell_type": "code",
   "execution_count": 7,
   "metadata": {},
   "outputs": [
    {
     "data": {
      "text/plain": [
       "'BALTHAZARSIMONBENESLA LOVEDAPHNELUCIENASSIMASSRAOUILAVIANMAEVAEMMAMOULINIERELISEHONNERTMATHEOPETITDI'"
      ]
     },
     "execution_count": 7,
     "metadata": {},
     "output_type": "execute_result"
    }
   ],
   "source": [
    "all_names = ''.join(df['label']) # put all names into single string\n",
    "all_names[0:100]"
   ]
  },
  {
   "cell_type": "code",
   "execution_count": 8,
   "metadata": {},
   "outputs": [
    {
     "data": {
      "text/plain": [
       "Counter({'E': 338714,\n",
       "         'A': 336880,\n",
       "         'I': 217550,\n",
       "         'N': 209089,\n",
       "         'L': 201565,\n",
       "         'R': 185529,\n",
       "         'O': 170651,\n",
       "         'T': 126755,\n",
       "         'U': 120542,\n",
       "         'S': 114000,\n",
       "         'M': 104656,\n",
       "         'C': 85177,\n",
       "         'H': 77092,\n",
       "         'D': 75675,\n",
       "         'B': 57451,\n",
       "         'G': 48968,\n",
       "         'Y': 38521,\n",
       "         'P': 36906,\n",
       "         'V': 31400,\n",
       "         'F': 22855,\n",
       "         'J': 19839,\n",
       "         'Z': 17734,\n",
       "         'K': 17658,\n",
       "         'X': 14194,\n",
       "         ' ': 12991,\n",
       "         '-': 8283,\n",
       "         'W': 6902,\n",
       "         'Q': 6448,\n",
       "         'n': 1429,\n",
       "         'a': 727,\n",
       "         \"'\": 302,\n",
       "         'e': 14,\n",
       "         'o': 13,\n",
       "         'r': 13,\n",
       "         'l': 12,\n",
       "         't': 9,\n",
       "         'i': 9,\n",
       "         's': 7,\n",
       "         'u': 6,\n",
       "         'c': 6,\n",
       "         'p': 5,\n",
       "         'b': 4,\n",
       "         'f': 4,\n",
       "         'y': 2,\n",
       "         'z': 2,\n",
       "         'h': 2,\n",
       "         'm': 2,\n",
       "         'g': 2,\n",
       "         'v': 1,\n",
       "         '`': 1,\n",
       "         'd': 1})"
      ]
     },
     "execution_count": 8,
     "metadata": {},
     "output_type": "execute_result"
    }
   ],
   "source": [
    "from collections import Counter\n",
    "char_freq = Counter(all_names)\n",
    "char_freq"
   ]
  },
  {
   "cell_type": "code",
   "execution_count": 9,
   "metadata": {},
   "outputs": [
    {
     "data": {
      "text/plain": [
       "[('v', 1), ('`', 1), ('d', 1), ('y', 2), ('z', 2)]"
      ]
     },
     "execution_count": 9,
     "metadata": {},
     "output_type": "execute_result"
    }
   ],
   "source": [
    "sorted_char_freq = sorted(char_freq.items(), key=lambda item_tuple: item_tuple[1], reverse=False) # parse tuples and sort via the key, which is the count.\n",
    "sorted_char_freq[0:5]"
   ]
  },
  {
   "cell_type": "code",
   "execution_count": 10,
   "metadata": {},
   "outputs": [
    {
     "data": {
      "image/png": "[encoded data removed]",
      "text/plain": [
       "<Figure size 1000x600 with 1 Axes>"
      ]
     },
     "metadata": {},
     "output_type": "display_data"
    }
   ],
   "source": [
    "import matplotlib.pyplot as plt\n",
    "\n",
    "sorted_char_freq = dict(sorted_char_freq) # formatted for plotting\n",
    "characters = list(sorted_char_freq.keys())\n",
    "character_counts = list(sorted_char_freq.values())\n",
    "\n",
    "colours = ['C7'] * len(characters)\n",
    "\n",
    "for vowel in '':    \n",
    "  highlighted_bar_index = characters.index(vowel) # The bar's index that we want to change colour.\n",
    "  colours[highlighted_bar_index] = 'C0'\n",
    "\n",
    "plt.figure(figsize=(10, 6))\n",
    "# plt.barh(characters, character_counts, color='C0', alpha=0.8)\n",
    "plt.barh(characters, character_counts, color=colours, alpha=0.8, )\n",
    "plt.xlabel('Counts')\n",
    "plt.ylabel('Characters')\n",
    "plt.title('Character Frequency in Names')\n",
    "plt.show()\n"
   ]
  },
  {
   "cell_type": "code",
   "execution_count": 11,
   "metadata": {},
   "outputs": [
    {
     "data": {
      "image/png": "[encoded data removed]",
      "text/plain": [
       "<Figure size 1000x600 with 1 Axes>"
      ]
     },
     "metadata": {},
     "output_type": "display_data"
    }
   ],
   "source": [
    "import matplotlib.pyplot as plt\n",
    "\n",
    "sorted_char_freq = dict(sorted_char_freq) # formatted for plotting\n",
    "characters = list(sorted_char_freq.keys())\n",
    "character_counts = list(sorted_char_freq.values())\n",
    "\n",
    "colours = ['C7'] * len(characters)\n",
    "\n",
    "for vowel in 'aeiou':    \n",
    "  highlighted_bar_index = characters.index(vowel) # The bar's index that we want to change colour.\n",
    "  colours[highlighted_bar_index] = 'C0'\n",
    "\n",
    "plt.figure(figsize=(10, 6))\n",
    "# plt.barh(characters, character_counts, color='C0', alpha=0.8)\n",
    "plt.barh(characters[-10:], character_counts[-10:], color=colours[-10:], alpha=0.8, )\n",
    "plt.xlabel('Counts')\n",
    "plt.ylabel('Characters')\n",
    "plt.title('Top 5 Most Frequent Characters in Names')\n",
    "plt.show()\n"
   ]
  },
  {
   "attachments": {},
   "cell_type": "markdown",
   "metadata": {},
   "source": [
    "# Find if there is a missing characters in the dataset"
   ]
  },
  {
   "cell_type": "code",
   "execution_count": 12,
   "metadata": {},
   "outputs": [
    {
     "name": "stdout",
     "output_type": "stream",
     "text": [
      "{'e', 'z', 'd', 'x', 'h', 'y', 'o', 'r', 'k', 'j', 'l', 'v', 'g', 's', 'm', 't', 'u', 'p', 'i', 'b', 'c', 'f', 'n', 'w', 'a', 'q'}\n",
      "{'e', 'z', 'd', 'W', 'h', 'y', 'o', 'r', 'I', \"'\", 'D', 'l', 'X', 'v', ' ', 'V', 'g', 'O', 'Q', 'K', 's', 'B', 'F', 'E', 'Y', 'J', 'm', 'N', '-', 't', 'G', 'L', 'T', 'u', 'p', 'Z', 'i', 'P', '`', 'U', 'b', 'c', 'R', 'H', 'f', 'n', 'C', 'A', 'M', 'a', 'S'}\n"
     ]
    }
   ],
   "source": [
    "import string\n",
    "\n",
    "all_possible_char = set(string.ascii_lowercase) # Note: punctuation could be added... or special accent characters.\n",
    "uniq_char_in_all_names = set(all_names)\n",
    "print(all_possible_char)\n",
    "print(uniq_char_in_all_names)"
   ]
  },
  {
   "cell_type": "code",
   "execution_count": 13,
   "metadata": {},
   "outputs": [
    {
     "name": "stdout",
     "output_type": "stream",
     "text": [
      "Here is all the characters not represented in the dataset: {'j', 'x', 'w', 'q', 'k'}\n"
     ]
    }
   ],
   "source": [
    "# Do the difference between two sets\n",
    "char_unrepresented = all_possible_char - uniq_char_in_all_names\n",
    "print('Here is all the characters not represented in the dataset:', char_unrepresented)"
   ]
  },
  {
   "attachments": {},
   "cell_type": "markdown",
   "metadata": {},
   "source": [
    "# Find what is the character length distribution of dataset"
   ]
  },
  {
   "cell_type": "code",
   "execution_count": 14,
   "metadata": {},
   "outputs": [
    {
     "data": {
      "text/html": [
       "<div>\n",
       "<style scoped>\n",
       "    .dataframe tbody tr th:only-of-type {\n",
       "        vertical-align: middle;\n",
       "    }\n",
       "\n",
       "    .dataframe tbody tr th {\n",
       "        vertical-align: top;\n",
       "    }\n",
       "\n",
       "    .dataframe thead th {\n",
       "        text-align: right;\n",
       "    }\n",
       "</style>\n",
       "<table border=\"1\" class=\"dataframe\">\n",
       "  <thead>\n",
       "    <tr style=\"text-align: right;\">\n",
       "      <th></th>\n",
       "      <th>label</th>\n",
       "      <th>lengths</th>\n",
       "    </tr>\n",
       "  </thead>\n",
       "  <tbody>\n",
       "    <tr>\n",
       "      <th>0</th>\n",
       "      <td>BALTHAZAR</td>\n",
       "      <td>9</td>\n",
       "    </tr>\n",
       "    <tr>\n",
       "      <th>1</th>\n",
       "      <td>SIMON</td>\n",
       "      <td>5</td>\n",
       "    </tr>\n",
       "    <tr>\n",
       "      <th>2</th>\n",
       "      <td>BENES</td>\n",
       "      <td>5</td>\n",
       "    </tr>\n",
       "    <tr>\n",
       "      <th>3</th>\n",
       "      <td>LA LOVE</td>\n",
       "      <td>7</td>\n",
       "    </tr>\n",
       "    <tr>\n",
       "      <th>4</th>\n",
       "      <td>DAPHNE</td>\n",
       "      <td>6</td>\n",
       "    </tr>\n",
       "  </tbody>\n",
       "</table>\n",
       "</div>"
      ],
      "text/plain": [
       "       label  lengths\n",
       "0  BALTHAZAR        9\n",
       "1      SIMON        5\n",
       "2      BENES        5\n",
       "3    LA LOVE        7\n",
       "4     DAPHNE        6"
      ]
     },
     "execution_count": 14,
     "metadata": {},
     "output_type": "execute_result"
    }
   ],
   "source": [
    "df['lengths'] = df['label'].apply(len)\n",
    "sdf = df[['label','lengths']]\n",
    "sdf.head()"
   ]
  },
  {
   "cell_type": "code",
   "execution_count": 15,
   "metadata": {},
   "outputs": [
    {
     "data": {
      "text/html": [
       "<div>\n",
       "<style scoped>\n",
       "    .dataframe tbody tr th:only-of-type {\n",
       "        vertical-align: middle;\n",
       "    }\n",
       "\n",
       "    .dataframe tbody tr th {\n",
       "        vertical-align: top;\n",
       "    }\n",
       "\n",
       "    .dataframe thead th {\n",
       "        text-align: right;\n",
       "    }\n",
       "</style>\n",
       "<table border=\"1\" class=\"dataframe\">\n",
       "  <thead>\n",
       "    <tr style=\"text-align: right;\">\n",
       "      <th></th>\n",
       "      <th>label</th>\n",
       "      <th>lengths</th>\n",
       "    </tr>\n",
       "  </thead>\n",
       "  <tbody>\n",
       "    <tr>\n",
       "      <th>39214</th>\n",
       "      <td>CAPUCINE CAPUCINE MARIE PHILIPPINE</td>\n",
       "      <td>34</td>\n",
       "    </tr>\n",
       "    <tr>\n",
       "      <th>5221</th>\n",
       "      <td>DATE DE NAISSANCE CLASSE</td>\n",
       "      <td>24</td>\n",
       "    </tr>\n",
       "    <tr>\n",
       "      <th>37189</th>\n",
       "      <td>DATE OF NAISSANCE CLASSE</td>\n",
       "      <td>24</td>\n",
       "    </tr>\n",
       "    <tr>\n",
       "      <th>9502</th>\n",
       "      <td>DARE DE NAISSANCE CLASSE</td>\n",
       "      <td>24</td>\n",
       "    </tr>\n",
       "    <tr>\n",
       "      <th>80310</th>\n",
       "      <td>ANGEL MICHELL OU INDICI</td>\n",
       "      <td>23</td>\n",
       "    </tr>\n",
       "  </tbody>\n",
       "</table>\n",
       "</div>"
      ],
      "text/plain": [
       "                                    label  lengths\n",
       "39214  CAPUCINE CAPUCINE MARIE PHILIPPINE       34\n",
       "5221             DATE DE NAISSANCE CLASSE       24\n",
       "37189            DATE OF NAISSANCE CLASSE       24\n",
       "9502             DARE DE NAISSANCE CLASSE       24\n",
       "80310             ANGEL MICHELL OU INDICI       23"
      ]
     },
     "execution_count": 15,
     "metadata": {},
     "output_type": "execute_result"
    }
   ],
   "source": [
    "# longest names\n",
    "sdf.sort_values(['lengths'],ascending=False)[0:5]"
   ]
  },
  {
   "attachments": {},
   "cell_type": "markdown",
   "metadata": {},
   "source": [
    "date of naissance classe is French for date of birth class"
   ]
  },
  {
   "cell_type": "code",
   "execution_count": 16,
   "metadata": {},
   "outputs": [
    {
     "data": {
      "text/html": [
       "<div>\n",
       "<style scoped>\n",
       "    .dataframe tbody tr th:only-of-type {\n",
       "        vertical-align: middle;\n",
       "    }\n",
       "\n",
       "    .dataframe tbody tr th {\n",
       "        vertical-align: top;\n",
       "    }\n",
       "\n",
       "    .dataframe thead th {\n",
       "        text-align: right;\n",
       "    }\n",
       "</style>\n",
       "<table border=\"1\" class=\"dataframe\">\n",
       "  <thead>\n",
       "    <tr style=\"text-align: right;\">\n",
       "      <th></th>\n",
       "      <th>FILENAME</th>\n",
       "      <th>label</th>\n",
       "      <th>lengths</th>\n",
       "    </tr>\n",
       "  </thead>\n",
       "  <tbody>\n",
       "    <tr>\n",
       "      <th>39214</th>\n",
       "      <td>TRAIN_39215.jpg</td>\n",
       "      <td>CAPUCINE CAPUCINE MARIE PHILIPPINE</td>\n",
       "      <td>34</td>\n",
       "    </tr>\n",
       "    <tr>\n",
       "      <th>5221</th>\n",
       "      <td>TEST_5222.jpg</td>\n",
       "      <td>DATE DE NAISSANCE CLASSE</td>\n",
       "      <td>24</td>\n",
       "    </tr>\n",
       "    <tr>\n",
       "      <th>37189</th>\n",
       "      <td>TEST_37190.jpg</td>\n",
       "      <td>DATE OF NAISSANCE CLASSE</td>\n",
       "      <td>24</td>\n",
       "    </tr>\n",
       "    <tr>\n",
       "      <th>9502</th>\n",
       "      <td>TRAIN_09503.jpg</td>\n",
       "      <td>DARE DE NAISSANCE CLASSE</td>\n",
       "      <td>24</td>\n",
       "    </tr>\n",
       "    <tr>\n",
       "      <th>80310</th>\n",
       "      <td>TRAIN_80311.jpg</td>\n",
       "      <td>ANGEL MICHELL OU INDICI</td>\n",
       "      <td>23</td>\n",
       "    </tr>\n",
       "  </tbody>\n",
       "</table>\n",
       "</div>"
      ],
      "text/plain": [
       "              FILENAME                               label  lengths\n",
       "39214  TRAIN_39215.jpg  CAPUCINE CAPUCINE MARIE PHILIPPINE       34\n",
       "5221     TEST_5222.jpg            DATE DE NAISSANCE CLASSE       24\n",
       "37189   TEST_37190.jpg            DATE OF NAISSANCE CLASSE       24\n",
       "9502   TRAIN_09503.jpg            DARE DE NAISSANCE CLASSE       24\n",
       "80310  TRAIN_80311.jpg             ANGEL MICHELL OU INDICI       23"
      ]
     },
     "execution_count": 16,
     "metadata": {},
     "output_type": "execute_result"
    }
   ],
   "source": [
    "from IPython.display import Image as show_im\n",
    "df.sort_values(['lengths'],ascending=False)[0:5]"
   ]
  },
  {
   "cell_type": "code",
   "execution_count": 17,
   "metadata": {},
   "outputs": [
    {
     "data": {
      "image/jpeg": "[encoded data removed]",
      "text/plain": [
       "<IPython.core.display.Image object>"
      ]
     },
     "execution_count": 17,
     "metadata": {},
     "output_type": "execute_result"
    }
   ],
   "source": [
    "show_im(get_dataset_folder_path() / \"raw\" / \"test\" / \"TEST_5222.jpg\")"
   ]
  },
  {
   "cell_type": "code",
   "execution_count": 18,
   "metadata": {},
   "outputs": [
    {
     "data": {
      "text/html": [
       "<div>\n",
       "<style scoped>\n",
       "    .dataframe tbody tr th:only-of-type {\n",
       "        vertical-align: middle;\n",
       "    }\n",
       "\n",
       "    .dataframe tbody tr th {\n",
       "        vertical-align: top;\n",
       "    }\n",
       "\n",
       "    .dataframe thead th {\n",
       "        text-align: right;\n",
       "    }\n",
       "</style>\n",
       "<table border=\"1\" class=\"dataframe\">\n",
       "  <thead>\n",
       "    <tr style=\"text-align: right;\">\n",
       "      <th></th>\n",
       "      <th>label</th>\n",
       "      <th>lengths</th>\n",
       "    </tr>\n",
       "  </thead>\n",
       "  <tbody>\n",
       "    <tr>\n",
       "      <th>253792</th>\n",
       "      <td>T</td>\n",
       "      <td>1</td>\n",
       "    </tr>\n",
       "    <tr>\n",
       "      <th>115700</th>\n",
       "      <td>G</td>\n",
       "      <td>1</td>\n",
       "    </tr>\n",
       "    <tr>\n",
       "      <th>119377</th>\n",
       "      <td>O</td>\n",
       "      <td>1</td>\n",
       "    </tr>\n",
       "    <tr>\n",
       "      <th>105071</th>\n",
       "      <td>A</td>\n",
       "      <td>1</td>\n",
       "    </tr>\n",
       "    <tr>\n",
       "      <th>1638</th>\n",
       "      <td>X</td>\n",
       "      <td>1</td>\n",
       "    </tr>\n",
       "  </tbody>\n",
       "</table>\n",
       "</div>"
      ],
      "text/plain": [
       "       label  lengths\n",
       "253792     T        1\n",
       "115700     G        1\n",
       "119377     O        1\n",
       "105071     A        1\n",
       "1638       X        1"
      ]
     },
     "execution_count": 18,
     "metadata": {},
     "output_type": "execute_result"
    }
   ],
   "source": [
    "# shortist names\n",
    "sdf.sort_values(['lengths'],ascending=False)[-6:-1]"
   ]
  },
  {
   "cell_type": "code",
   "execution_count": 19,
   "metadata": {},
   "outputs": [
    {
     "data": {
      "text/html": [
       "<div>\n",
       "<style scoped>\n",
       "    .dataframe tbody tr th:only-of-type {\n",
       "        vertical-align: middle;\n",
       "    }\n",
       "\n",
       "    .dataframe tbody tr th {\n",
       "        vertical-align: top;\n",
       "    }\n",
       "\n",
       "    .dataframe thead th {\n",
       "        text-align: right;\n",
       "    }\n",
       "</style>\n",
       "<table border=\"1\" class=\"dataframe\">\n",
       "  <thead>\n",
       "    <tr style=\"text-align: right;\">\n",
       "      <th></th>\n",
       "      <th>FILENAME</th>\n",
       "      <th>label</th>\n",
       "      <th>lengths</th>\n",
       "    </tr>\n",
       "  </thead>\n",
       "  <tbody>\n",
       "    <tr>\n",
       "      <th>253792</th>\n",
       "      <td>TRAIN_253793.jpg</td>\n",
       "      <td>T</td>\n",
       "      <td>1</td>\n",
       "    </tr>\n",
       "    <tr>\n",
       "      <th>115700</th>\n",
       "      <td>TRAIN_115701.jpg</td>\n",
       "      <td>G</td>\n",
       "      <td>1</td>\n",
       "    </tr>\n",
       "    <tr>\n",
       "      <th>119377</th>\n",
       "      <td>TRAIN_119378.jpg</td>\n",
       "      <td>O</td>\n",
       "      <td>1</td>\n",
       "    </tr>\n",
       "    <tr>\n",
       "      <th>105071</th>\n",
       "      <td>TRAIN_105072.jpg</td>\n",
       "      <td>A</td>\n",
       "      <td>1</td>\n",
       "    </tr>\n",
       "    <tr>\n",
       "      <th>1638</th>\n",
       "      <td>TEST_1639.jpg</td>\n",
       "      <td>X</td>\n",
       "      <td>1</td>\n",
       "    </tr>\n",
       "  </tbody>\n",
       "</table>\n",
       "</div>"
      ],
      "text/plain": [
       "                FILENAME label  lengths\n",
       "253792  TRAIN_253793.jpg     T        1\n",
       "115700  TRAIN_115701.jpg     G        1\n",
       "119377  TRAIN_119378.jpg     O        1\n",
       "105071  TRAIN_105072.jpg     A        1\n",
       "1638       TEST_1639.jpg     X        1"
      ]
     },
     "execution_count": 19,
     "metadata": {},
     "output_type": "execute_result"
    }
   ],
   "source": [
    "df.sort_values(['lengths'],ascending=False)[-6:-1]"
   ]
  },
  {
   "cell_type": "code",
   "execution_count": 20,
   "metadata": {},
   "outputs": [
    {
     "data": {
      "image/jpeg": "[encoded data removed]",
      "text/plain": [
       "<IPython.core.display.Image object>"
      ]
     },
     "execution_count": 20,
     "metadata": {},
     "output_type": "execute_result"
    }
   ],
   "source": [
    "from IPython.display import Image as show_im\n",
    "show_im(get_dataset_folder_path() / \"raw\" / \"test\" / \"TEST_8807.jpg\")"
   ]
  },
  {
   "cell_type": "code",
   "execution_count": 21,
   "metadata": {},
   "outputs": [
    {
     "data": {
      "text/plain": [
       "count    413701.000000\n",
       "mean          6.542401\n",
       "std           2.128886\n",
       "min           1.000000\n",
       "25%           5.000000\n",
       "50%           6.000000\n",
       "75%           7.000000\n",
       "max          34.000000\n",
       "Name: lengths, dtype: float64"
      ]
     },
     "execution_count": 21,
     "metadata": {},
     "output_type": "execute_result"
    }
   ],
   "source": [
    "sdf['lengths'].describe()"
   ]
  },
  {
   "cell_type": "code",
   "execution_count": 22,
   "metadata": {},
   "outputs": [
    {
     "data": {
      "image/png": "[encoded data removed]",
      "text/plain": [
       "<Figure size 800x600 with 1 Axes>"
      ]
     },
     "metadata": {},
     "output_type": "display_data"
    }
   ],
   "source": [
    "plt.figure(figsize=(8, 6))\n",
    "plt.hist(sdf['lengths'], bins=range(0, max(sdf['lengths']) + 1), color='C0', edgecolor='black', alpha=0.8)\n",
    "plt.xlabel('Name Length')\n",
    "plt.xticks([x + 0.5 for x in range(max(sdf['lengths']) + 1) if x % 2 == 0], [x for x in range(max(sdf['lengths']) + 1) if x % 2 == 0])\n",
    "plt.ylabel('Frequency')\n",
    "plt.title('Histogram of Name Lengths')\n",
    "# plt.grid(True)\n",
    "plt.show()"
   ]
  },
  {
   "attachments": {},
   "cell_type": "markdown",
   "metadata": {},
   "source": [
    "# Find the most frequent names in the list"
   ]
  },
  {
   "cell_type": "code",
   "execution_count": 23,
   "metadata": {},
   "outputs": [
    {
     "name": "stdout",
     "output_type": "stream",
     "text": [
      "label\n",
      "THOMAS    2271\n",
      "EMPTY     2204\n",
      "LEA       1986\n",
      "EMMA      1870\n",
      "LUCAS     1850\n",
      "Name: count, dtype: int64\n",
      "label\n",
      "CAIVEAU     1\n",
      "DEBOCQ      1\n",
      "TREAN       1\n",
      "BORNACIR    1\n",
      "DOUKSAS     1\n",
      "Name: count, dtype: int64\n"
     ]
    }
   ],
   "source": [
    "name_freq = sdf['label'].value_counts()\n",
    "print(name_freq[0:5])\n",
    "print(name_freq[-6:-1])"
   ]
  },
  {
   "cell_type": "code",
   "execution_count": 24,
   "metadata": {},
   "outputs": [
    {
     "data": {
      "image/png": "[encoded data removed]",
      "text/plain": [
       "<Figure size 1000x600 with 1 Axes>"
      ]
     },
     "metadata": {},
     "output_type": "display_data"
    }
   ],
   "source": [
    "all_names = ''.join(df['label'].map(lambda x: x[0])) # put all names into single string\n",
    "char_freq = Counter(all_names)\n",
    "sorted_char_freq = sorted(char_freq.items(), key=lambda item_tuple: item_tuple[1], reverse=False) # parse tuples and sort via the key, which is the count.\n",
    "\n",
    "import matplotlib.pyplot as plt\n",
    "\n",
    "sorted_char_freq = dict(sorted_char_freq) # formatted for plotting\n",
    "characters = list(sorted_char_freq.keys())\n",
    "character_counts = list(sorted_char_freq.values())\n",
    "\n",
    "colours = ['C7'] * len(characters)\n",
    "\n",
    "for vowel in 'm':    \n",
    "  highlighted_bar_index = characters.index(vowel) # The bar's index that we want to change colour.\n",
    "  colours[highlighted_bar_index] = 'C0'\n",
    "\n",
    "plt.figure(figsize=(10, 6))\n",
    "# plt.barh(characters, character_counts, color='C0', alpha=0.8)\n",
    "plt.barh(characters[-5:], character_counts[-5:], color=colours[-5:], alpha=0.8, )\n",
    "plt.xlabel('Counts')\n",
    "plt.ylabel('Characters')\n",
    "plt.title('Top 5 Most Frequent First Letter in Names')\n",
    "plt.show()"
   ]
  }
 ],
 "metadata": {
  "kernelspec": {
   "display_name": "handwriting-recognition-mEqlV94N-py3.12",
   "language": "python",
   "name": "python3"
  },
  "language_info": {
   "codemirror_mode": {
    "name": "ipython",
    "version": 3
   },
   "file_extension": ".py",
   "mimetype": "text/x-python",
   "name": "python",
   "nbconvert_exporter": "python",
   "pygments_lexer": "ipython3",
   "version": "3.12.3"
  },
  "orig_nbformat": 4
 },
 "nbformat": 4,
 "nbformat_minor": 2
}
