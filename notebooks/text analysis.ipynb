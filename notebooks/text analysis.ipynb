{
 "cells": [
  {
   "attachments": {},
   "cell_type": "markdown",
   "metadata": {},
   "source": [
    "# Dataset Analysis"
   ]
  },
  {
   "cell_type": "code",
   "execution_count": 2,
   "metadata": {},
   "outputs": [
    {
     "name": "stdout",
     "output_type": "stream",
     "text": [
      "C:\\Users\\User\\Desktop\\handwriting-recognition\\dataset\\pre_processed/train.csv\n",
      "C:\\Users\\User\\Desktop\\handwriting-recognition\\dataset\\pre_processed/test.csv\n",
      "C:\\Users\\User\\Desktop\\handwriting-recognition\\dataset\\pre_processed/validation.csv\n"
     ]
    }
   ],
   "source": [
    "import pandas as pd\n",
    "import os\n",
    "from handwriting_recognition.utils import get_dataset_folder_path\n",
    "\n",
    "path_to_data = get_dataset_folder_path()\n",
    "path_to_tr = os.path.join(path_to_data, 'pre_processed/train.csv')\n",
    "path_to_ts = os.path.join(path_to_data, 'pre_processed/test.csv')\n",
    "path_to_val = os.path.join(path_to_data, 'pre_processed/validation.csv')\n",
    "print(path_to_tr)\n",
    "print(path_to_ts)\n",
    "print(path_to_val)"
   ]
  },
  {
   "cell_type": "code",
   "execution_count": 8,
   "metadata": {},
   "outputs": [
    {
     "data": {
      "text/html": [
       "<div>\n",
       "<style scoped>\n",
       "    .dataframe tbody tr th:only-of-type {\n",
       "        vertical-align: middle;\n",
       "    }\n",
       "\n",
       "    .dataframe tbody tr th {\n",
       "        vertical-align: top;\n",
       "    }\n",
       "\n",
       "    .dataframe thead th {\n",
       "        text-align: right;\n",
       "    }\n",
       "</style>\n",
       "<table border=\"1\" class=\"dataframe\">\n",
       "  <thead>\n",
       "    <tr style=\"text-align: right;\">\n",
       "      <th></th>\n",
       "      <th>file_name</th>\n",
       "      <th>label</th>\n",
       "      <th>file_path</th>\n",
       "    </tr>\n",
       "  </thead>\n",
       "  <tbody>\n",
       "    <tr>\n",
       "      <th>0</th>\n",
       "      <td>TRAIN_00001.tiff</td>\n",
       "      <td>balthazar</td>\n",
       "      <td>D:\\Google Drive\\Lifestyle\\Interests\\Coding\\Pro...</td>\n",
       "    </tr>\n",
       "    <tr>\n",
       "      <th>1</th>\n",
       "      <td>TRAIN_00002.tiff</td>\n",
       "      <td>simon</td>\n",
       "      <td>D:\\Google Drive\\Lifestyle\\Interests\\Coding\\Pro...</td>\n",
       "    </tr>\n",
       "    <tr>\n",
       "      <th>2</th>\n",
       "      <td>TRAIN_00003.tiff</td>\n",
       "      <td>benes</td>\n",
       "      <td>D:\\Google Drive\\Lifestyle\\Interests\\Coding\\Pro...</td>\n",
       "    </tr>\n",
       "    <tr>\n",
       "      <th>3</th>\n",
       "      <td>TRAIN_00004.tiff</td>\n",
       "      <td>la love</td>\n",
       "      <td>D:\\Google Drive\\Lifestyle\\Interests\\Coding\\Pro...</td>\n",
       "    </tr>\n",
       "    <tr>\n",
       "      <th>4</th>\n",
       "      <td>TRAIN_00005.tiff</td>\n",
       "      <td>daphne</td>\n",
       "      <td>D:\\Google Drive\\Lifestyle\\Interests\\Coding\\Pro...</td>\n",
       "    </tr>\n",
       "  </tbody>\n",
       "</table>\n",
       "</div>"
      ],
      "text/plain": [
       "          file_name      label  \\\n",
       "0  TRAIN_00001.tiff  balthazar   \n",
       "1  TRAIN_00002.tiff      simon   \n",
       "2  TRAIN_00003.tiff      benes   \n",
       "3  TRAIN_00004.tiff    la love   \n",
       "4  TRAIN_00005.tiff     daphne   \n",
       "\n",
       "                                           file_path  \n",
       "0  D:\\Google Drive\\Lifestyle\\Interests\\Coding\\Pro...  \n",
       "1  D:\\Google Drive\\Lifestyle\\Interests\\Coding\\Pro...  \n",
       "2  D:\\Google Drive\\Lifestyle\\Interests\\Coding\\Pro...  \n",
       "3  D:\\Google Drive\\Lifestyle\\Interests\\Coding\\Pro...  \n",
       "4  D:\\Google Drive\\Lifestyle\\Interests\\Coding\\Pro...  "
      ]
     },
     "execution_count": 8,
     "metadata": {},
     "output_type": "execute_result"
    }
   ],
   "source": [
    "tr = pd.read_csv(path_to_tr)\n",
    "ts = pd.read_csv(path_to_ts)\n",
    "val = pd.read_csv(path_to_val)\n",
    "df = pd.concat([tr,val,ts])\n",
    "df.head()"
   ]
  },
  {
   "cell_type": "code",
   "execution_count": 11,
   "metadata": {},
   "outputs": [
    {
     "data": {
      "text/plain": [
       "'balthazarsimonbenesla lovedaphnelucienassimassraouilavianmaevaemmamoulinierelisehonnertmatheopetitdi'"
      ]
     },
     "execution_count": 11,
     "metadata": {},
     "output_type": "execute_result"
    }
   ],
   "source": [
    "all_names = ''.join(df['label']) # put all names into single string\n",
    "all_names[0:100]"
   ]
  },
  {
   "cell_type": "code",
   "execution_count": 13,
   "metadata": {},
   "outputs": [
    {
     "data": {
      "text/plain": [
       "Counter({'a': 336644,\n",
       "         'e': 336253,\n",
       "         'i': 217538,\n",
       "         'n': 208946,\n",
       "         'l': 201452,\n",
       "         'r': 185396,\n",
       "         'o': 170643,\n",
       "         't': 124539,\n",
       "         'u': 120402,\n",
       "         's': 113986,\n",
       "         'm': 102433,\n",
       "         'c': 85183,\n",
       "         'h': 77094,\n",
       "         'd': 75551,\n",
       "         'b': 57330,\n",
       "         'g': 48970,\n",
       "         'y': 36319,\n",
       "         'p': 34707,\n",
       "         'v': 31401,\n",
       "         'f': 22859,\n",
       "         'j': 19839,\n",
       "         'z': 17736,\n",
       "         'k': 17658,\n",
       "         'x': 14194,\n",
       "         ' ': 12949,\n",
       "         '-': 8283,\n",
       "         'w': 6902,\n",
       "         'q': 6448,\n",
       "         \"'\": 281,\n",
       "         '`': 1})"
      ]
     },
     "execution_count": 13,
     "metadata": {},
     "output_type": "execute_result"
    }
   ],
   "source": [
    "from collections import Counter\n",
    "char_freq = Counter(all_names)\n",
    "char_freq"
   ]
  },
  {
   "cell_type": "code",
   "execution_count": 22,
   "metadata": {},
   "outputs": [
    {
     "data": {
      "text/plain": [
       "[('`', 1), (\"'\", 281), ('q', 6448), ('w', 6902), ('-', 8283)]"
      ]
     },
     "execution_count": 22,
     "metadata": {},
     "output_type": "execute_result"
    }
   ],
   "source": [
    "sorted_char_freq = sorted(char_freq.items(), key=lambda item_tuple: item_tuple[1], reverse=False) # parse tuples and sort via the key, which is the count.\n",
    "sorted_char_freq[0:5]"
   ]
  },
  {
   "cell_type": "code",
   "execution_count": 72,
   "metadata": {},
   "outputs": [
    {
     "data": {
      "image/png": "[encoded data removed]",
      "text/plain": [
       "<Figure size 1000x600 with 1 Axes>"
      ]
     },
     "metadata": {},
     "output_type": "display_data"
    }
   ],
   "source": [
    "import matplotlib.pyplot as plt\n",
    "\n",
    "sorted_char_freq = dict(sorted_char_freq) # formatted for plotting\n",
    "characters = list(sorted_char_freq.keys())\n",
    "character_counts = list(sorted_char_freq.values())\n",
    "\n",
    "colours = ['C7'] * len(characters)\n",
    "\n",
    "for vowel in 'aeiou':    \n",
    "  highlighted_bar_index = characters.index(vowel) # The bar's index that we want to change colour.\n",
    "  colours[highlighted_bar_index] = 'C0'\n",
    "\n",
    "plt.figure(figsize=(10, 6))\n",
    "# plt.barh(characters, character_counts, color='C0', alpha=0.8)\n",
    "plt.barh(characters, character_counts, color=colours, alpha=0.8, )\n",
    "plt.xlabel('Counts')\n",
    "plt.ylabel('Characters')\n",
    "plt.title('Character Frequency in Names')\n",
    "plt.show()\n"
   ]
  },
  {
   "attachments": {},
   "cell_type": "markdown",
   "metadata": {},
   "source": [
    "# Find if there is a missing characters in the dataset"
   ]
  },
  {
   "cell_type": "code",
   "execution_count": 33,
   "metadata": {},
   "outputs": [
    {
     "name": "stdout",
     "output_type": "stream",
     "text": [
      "{'b', 'c', 'j', 'x', 'p', 'h', 's', 'm', 'k', 'u', 'w', 'f', 'z', 'e', 'v', 'n', 'y', 'g', 'a', 'l', 'i', 'o', 't', 'q', 'r', 'd'}\n",
      "{'`', 'b', 'c', 'j', ' ', 'x', 'p', 'h', '-', 's', 'm', 'k', 'u', 'w', 'f', 'z', 'e', 'v', 'n', 'y', \"'\", 'g', 't', 'l', 'a', 'i', 'o', 'q', 'r', 'd'}\n"
     ]
    }
   ],
   "source": [
    "import string\n",
    "\n",
    "all_possible_char = set(string.ascii_lowercase) # Note: punctuation could be added... or special accent characters.\n",
    "uniq_char_in_all_names = set(all_names)\n",
    "print(all_possible_char)\n",
    "print(uniq_char_in_all_names)"
   ]
  },
  {
   "cell_type": "code",
   "execution_count": 35,
   "metadata": {},
   "outputs": [
    {
     "name": "stdout",
     "output_type": "stream",
     "text": [
      "Here is all the characters not represented in the dataset: set()\n"
     ]
    }
   ],
   "source": [
    "# Do the difference between two sets\n",
    "char_unrepresented = all_possible_char - uniq_char_in_all_names\n",
    "print('Here is all the characters not represented in the dataset:', char_unrepresented)"
   ]
  },
  {
   "attachments": {},
   "cell_type": "markdown",
   "metadata": {},
   "source": [
    "# Find what is the character length distribution of dataset"
   ]
  },
  {
   "cell_type": "code",
   "execution_count": 76,
   "metadata": {},
   "outputs": [
    {
     "data": {
      "text/html": [
       "<div>\n",
       "<style scoped>\n",
       "    .dataframe tbody tr th:only-of-type {\n",
       "        vertical-align: middle;\n",
       "    }\n",
       "\n",
       "    .dataframe tbody tr th {\n",
       "        vertical-align: top;\n",
       "    }\n",
       "\n",
       "    .dataframe thead th {\n",
       "        text-align: right;\n",
       "    }\n",
       "</style>\n",
       "<table border=\"1\" class=\"dataframe\">\n",
       "  <thead>\n",
       "    <tr style=\"text-align: right;\">\n",
       "      <th></th>\n",
       "      <th>label</th>\n",
       "      <th>lengths</th>\n",
       "    </tr>\n",
       "  </thead>\n",
       "  <tbody>\n",
       "    <tr>\n",
       "      <th>0</th>\n",
       "      <td>balthazar</td>\n",
       "      <td>9</td>\n",
       "    </tr>\n",
       "    <tr>\n",
       "      <th>1</th>\n",
       "      <td>simon</td>\n",
       "      <td>5</td>\n",
       "    </tr>\n",
       "    <tr>\n",
       "      <th>2</th>\n",
       "      <td>benes</td>\n",
       "      <td>5</td>\n",
       "    </tr>\n",
       "    <tr>\n",
       "      <th>3</th>\n",
       "      <td>la love</td>\n",
       "      <td>7</td>\n",
       "    </tr>\n",
       "    <tr>\n",
       "      <th>4</th>\n",
       "      <td>daphne</td>\n",
       "      <td>6</td>\n",
       "    </tr>\n",
       "  </tbody>\n",
       "</table>\n",
       "</div>"
      ],
      "text/plain": [
       "       label  lengths\n",
       "0  balthazar        9\n",
       "1      simon        5\n",
       "2      benes        5\n",
       "3    la love        7\n",
       "4     daphne        6"
      ]
     },
     "execution_count": 76,
     "metadata": {},
     "output_type": "execute_result"
    }
   ],
   "source": [
    "df['lengths'] = df['label'].apply(len)\n",
    "sdf = df[['label','lengths']]\n",
    "sdf.head()"
   ]
  },
  {
   "cell_type": "code",
   "execution_count": 127,
   "metadata": {},
   "outputs": [
    {
     "data": {
      "text/html": [
       "<div>\n",
       "<style scoped>\n",
       "    .dataframe tbody tr th:only-of-type {\n",
       "        vertical-align: middle;\n",
       "    }\n",
       "\n",
       "    .dataframe tbody tr th {\n",
       "        vertical-align: top;\n",
       "    }\n",
       "\n",
       "    .dataframe thead th {\n",
       "        text-align: right;\n",
       "    }\n",
       "</style>\n",
       "<table border=\"1\" class=\"dataframe\">\n",
       "  <thead>\n",
       "    <tr style=\"text-align: right;\">\n",
       "      <th></th>\n",
       "      <th>label</th>\n",
       "      <th>lengths</th>\n",
       "    </tr>\n",
       "  </thead>\n",
       "  <tbody>\n",
       "    <tr>\n",
       "      <th>38895</th>\n",
       "      <td>capucine capucine marie philippine</td>\n",
       "      <td>34</td>\n",
       "    </tr>\n",
       "    <tr>\n",
       "      <th>9431</th>\n",
       "      <td>dare de naissance classe</td>\n",
       "      <td>24</td>\n",
       "    </tr>\n",
       "    <tr>\n",
       "      <th>5187</th>\n",
       "      <td>date de naissance classe</td>\n",
       "      <td>24</td>\n",
       "    </tr>\n",
       "    <tr>\n",
       "      <th>36919</th>\n",
       "      <td>date of naissance classe</td>\n",
       "      <td>24</td>\n",
       "    </tr>\n",
       "    <tr>\n",
       "      <th>79681</th>\n",
       "      <td>angel michell ou indici</td>\n",
       "      <td>23</td>\n",
       "    </tr>\n",
       "  </tbody>\n",
       "</table>\n",
       "</div>"
      ],
      "text/plain": [
       "                                    label  lengths\n",
       "38895  capucine capucine marie philippine       34\n",
       "9431             dare de naissance classe       24\n",
       "5187             date de naissance classe       24\n",
       "36919            date of naissance classe       24\n",
       "79681             angel michell ou indici       23"
      ]
     },
     "execution_count": 127,
     "metadata": {},
     "output_type": "execute_result"
    }
   ],
   "source": [
    "# longest names\n",
    "sdf.sort_values(['lengths'],ascending=False)[0:5]"
   ]
  },
  {
   "attachments": {},
   "cell_type": "markdown",
   "metadata": {},
   "source": [
    "date of naissance classe is French for date of birth class"
   ]
  },
  {
   "cell_type": "code",
   "execution_count": 126,
   "metadata": {},
   "outputs": [
    {
     "data": {
      "text/html": [
       "<div>\n",
       "<style scoped>\n",
       "    .dataframe tbody tr th:only-of-type {\n",
       "        vertical-align: middle;\n",
       "    }\n",
       "\n",
       "    .dataframe tbody tr th {\n",
       "        vertical-align: top;\n",
       "    }\n",
       "\n",
       "    .dataframe thead th {\n",
       "        text-align: right;\n",
       "    }\n",
       "</style>\n",
       "<table border=\"1\" class=\"dataframe\">\n",
       "  <thead>\n",
       "    <tr style=\"text-align: right;\">\n",
       "      <th></th>\n",
       "      <th>label</th>\n",
       "      <th>lengths</th>\n",
       "    </tr>\n",
       "  </thead>\n",
       "  <tbody>\n",
       "    <tr>\n",
       "      <th>75675</th>\n",
       "      <td>a</td>\n",
       "      <td>1</td>\n",
       "    </tr>\n",
       "    <tr>\n",
       "      <th>8741</th>\n",
       "      <td>j</td>\n",
       "      <td>1</td>\n",
       "    </tr>\n",
       "    <tr>\n",
       "      <th>27825</th>\n",
       "      <td>h</td>\n",
       "      <td>1</td>\n",
       "    </tr>\n",
       "    <tr>\n",
       "      <th>210049</th>\n",
       "      <td>a</td>\n",
       "      <td>1</td>\n",
       "    </tr>\n",
       "    <tr>\n",
       "      <th>251860</th>\n",
       "      <td>t</td>\n",
       "      <td>1</td>\n",
       "    </tr>\n",
       "  </tbody>\n",
       "</table>\n",
       "</div>"
      ],
      "text/plain": [
       "       label  lengths\n",
       "75675      a        1\n",
       "8741       j        1\n",
       "27825      h        1\n",
       "210049     a        1\n",
       "251860     t        1"
      ]
     },
     "execution_count": 126,
     "metadata": {},
     "output_type": "execute_result"
    }
   ],
   "source": [
    "# shortist names\n",
    "sdf.sort_values(['lengths'],ascending=False)[-6:-1]"
   ]
  },
  {
   "cell_type": "code",
   "execution_count": 85,
   "metadata": {},
   "outputs": [
    {
     "data": {
      "text/plain": [
       "count    410638.000000\n",
       "mean          6.555499\n",
       "std           2.127457\n",
       "min           1.000000\n",
       "25%           5.000000\n",
       "50%           6.000000\n",
       "75%           7.000000\n",
       "max          34.000000\n",
       "Name: lengths, dtype: float64"
      ]
     },
     "execution_count": 85,
     "metadata": {},
     "output_type": "execute_result"
    }
   ],
   "source": [
    "sdf['lengths'].describe()"
   ]
  },
  {
   "cell_type": "code",
   "execution_count": 116,
   "metadata": {},
   "outputs": [
    {
     "data": {
      "image/png": "[encoded data removed]",
      "text/plain": [
       "<Figure size 800x600 with 1 Axes>"
      ]
     },
     "metadata": {},
     "output_type": "display_data"
    }
   ],
   "source": [
    "plt.figure(figsize=(8, 6))\n",
    "plt.hist(sdf['lengths'], bins=range(0, max(sdf['lengths']) + 1), color='C0', edgecolor='black', alpha=0.8)\n",
    "plt.xlabel('Name Length')\n",
    "plt.xticks([x + 0.5 for x in range(max(sdf['lengths']) + 1) if x % 2 == 0], [x for x in range(max(sdf['lengths']) + 1) if x % 2 == 0])\n",
    "plt.ylabel('Frequency')\n",
    "plt.title('Histogram of Name Lengths')\n",
    "# plt.grid(True)\n",
    "plt.show()"
   ]
  },
  {
   "attachments": {},
   "cell_type": "markdown",
   "metadata": {},
   "source": [
    "# Find the most frequent names in the list"
   ]
  },
  {
   "cell_type": "code",
   "execution_count": 95,
   "metadata": {},
   "outputs": [
    {
     "name": "stdout",
     "output_type": "stream",
     "text": [
      "label\n",
      "thomas     2271\n",
      "lea        1986\n",
      "emma       1870\n",
      "lucas      1851\n",
      "camille    1722\n",
      "Name: count, dtype: int64\n",
      "label\n",
      "gaesaoui       1\n",
      "att-meddour    1\n",
      "kaisha         1\n",
      "caiveau        1\n",
      "debocq         1\n",
      "Name: count, dtype: int64\n"
     ]
    }
   ],
   "source": [
    "name_freq = sdf['label'].value_counts()\n",
    "print(name_freq[0:5])\n",
    "print(name_freq[-6:-1])"
   ]
  }
 ],
 "metadata": {
  "kernelspec": {
   "display_name": "handwriting-recognition-mEqlV94N-py3.12",
   "language": "python",
   "name": "python3"
  },
  "language_info": {
   "codemirror_mode": {
    "name": "ipython",
    "version": 3
   },
   "file_extension": ".py",
   "mimetype": "text/x-python",
   "name": "python",
   "nbconvert_exporter": "python",
   "pygments_lexer": "ipython3",
   "version": "3.12.3"
  },
  "orig_nbformat": 4
 },
 "nbformat": 4,
 "nbformat_minor": 2
}
