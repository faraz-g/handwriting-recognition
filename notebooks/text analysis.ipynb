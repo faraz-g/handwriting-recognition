{
 "cells": [
  {
   "attachments": {},
   "cell_type": "markdown",
   "metadata": {},
   "source": [
    "# Dataset Analysis"
   ]
  },
  {
   "cell_type": "code",
   "execution_count": 65,
   "metadata": {},
   "outputs": [
    {
     "name": "stdout",
     "output_type": "stream",
     "text": [
      "C:\\Users\\User\\Desktop\\handwriting-recognition\\dataset\\pre_processed/train.csv\n",
      "C:\\Users\\User\\Desktop\\handwriting-recognition\\dataset\\pre_processed/test.csv\n",
      "C:\\Users\\User\\Desktop\\handwriting-recognition\\dataset\\pre_processed/validation.csv\n"
     ]
    }
   ],
   "source": [
    "import pandas as pd\n",
    "import os\n",
    "from handwriting_recognition.utils import get_dataset_folder_path\n",
    "\n",
    "path_to_data = get_dataset_folder_path()\n",
    "path_to_tr = os.path.join(path_to_data, 'pre_processed/train.csv')\n",
    "path_to_ts = os.path.join(path_to_data, 'pre_processed/test.csv')\n",
    "path_to_val = os.path.join(path_to_data, 'pre_processed/validation.csv')\n",
    "print(path_to_tr)\n",
    "print(path_to_ts)\n",
    "print(path_to_val)"
   ]
  },
  {
   "cell_type": "code",
   "execution_count": 66,
   "metadata": {},
   "outputs": [
    {
     "name": "stdout",
     "output_type": "stream",
     "text": [
      "(318788, 3)\n",
      "(39854, 3)\n",
      "(39886, 3)\n"
     ]
    }
   ],
   "source": [
    "tr = pd.read_csv(path_to_tr)\n",
    "ts = pd.read_csv(path_to_ts)\n",
    "val = pd.read_csv(path_to_val)\n",
    "print(tr.shape)\n",
    "print(ts.shape)\n",
    "print(val.shape)"
   ]
  },
  {
   "cell_type": "code",
   "execution_count": 67,
   "metadata": {},
   "outputs": [
    {
     "data": {
      "text/html": [
       "<div>\n",
       "<style scoped>\n",
       "    .dataframe tbody tr th:only-of-type {\n",
       "        vertical-align: middle;\n",
       "    }\n",
       "\n",
       "    .dataframe tbody tr th {\n",
       "        vertical-align: top;\n",
       "    }\n",
       "\n",
       "    .dataframe thead th {\n",
       "        text-align: right;\n",
       "    }\n",
       "</style>\n",
       "<table border=\"1\" class=\"dataframe\">\n",
       "  <thead>\n",
       "    <tr style=\"text-align: right;\">\n",
       "      <th></th>\n",
       "      <th>file_name</th>\n",
       "      <th>label</th>\n",
       "      <th>file_path</th>\n",
       "    </tr>\n",
       "  </thead>\n",
       "  <tbody>\n",
       "    <tr>\n",
       "      <th>0</th>\n",
       "      <td>TRAIN_00001.tiff</td>\n",
       "      <td>BALTHAZAR</td>\n",
       "      <td>C:\\Users\\User\\Desktop\\handwriting-recognition\\...</td>\n",
       "    </tr>\n",
       "    <tr>\n",
       "      <th>1</th>\n",
       "      <td>TRAIN_00002.tiff</td>\n",
       "      <td>SIMON</td>\n",
       "      <td>C:\\Users\\User\\Desktop\\handwriting-recognition\\...</td>\n",
       "    </tr>\n",
       "    <tr>\n",
       "      <th>2</th>\n",
       "      <td>TRAIN_00003.tiff</td>\n",
       "      <td>BENES</td>\n",
       "      <td>C:\\Users\\User\\Desktop\\handwriting-recognition\\...</td>\n",
       "    </tr>\n",
       "    <tr>\n",
       "      <th>3</th>\n",
       "      <td>TRAIN_00004.tiff</td>\n",
       "      <td>LA LOVE</td>\n",
       "      <td>C:\\Users\\User\\Desktop\\handwriting-recognition\\...</td>\n",
       "    </tr>\n",
       "    <tr>\n",
       "      <th>4</th>\n",
       "      <td>TRAIN_00005.tiff</td>\n",
       "      <td>DAPHNE</td>\n",
       "      <td>C:\\Users\\User\\Desktop\\handwriting-recognition\\...</td>\n",
       "    </tr>\n",
       "  </tbody>\n",
       "</table>\n",
       "</div>"
      ],
      "text/plain": [
       "          file_name      label  \\\n",
       "0  TRAIN_00001.tiff  BALTHAZAR   \n",
       "1  TRAIN_00002.tiff      SIMON   \n",
       "2  TRAIN_00003.tiff      BENES   \n",
       "3  TRAIN_00004.tiff    LA LOVE   \n",
       "4  TRAIN_00005.tiff     DAPHNE   \n",
       "\n",
       "                                           file_path  \n",
       "0  C:\\Users\\User\\Desktop\\handwriting-recognition\\...  \n",
       "1  C:\\Users\\User\\Desktop\\handwriting-recognition\\...  \n",
       "2  C:\\Users\\User\\Desktop\\handwriting-recognition\\...  \n",
       "3  C:\\Users\\User\\Desktop\\handwriting-recognition\\...  \n",
       "4  C:\\Users\\User\\Desktop\\handwriting-recognition\\...  "
      ]
     },
     "execution_count": 67,
     "metadata": {},
     "output_type": "execute_result"
    }
   ],
   "source": [
    "df = pd.concat([tr,val,ts])\n",
    "df.head()"
   ]
  },
  {
   "cell_type": "code",
   "execution_count": 68,
   "metadata": {},
   "outputs": [
    {
     "data": {
      "text/html": [
       "<div>\n",
       "<style scoped>\n",
       "    .dataframe tbody tr th:only-of-type {\n",
       "        vertical-align: middle;\n",
       "    }\n",
       "\n",
       "    .dataframe tbody tr th {\n",
       "        vertical-align: top;\n",
       "    }\n",
       "\n",
       "    .dataframe thead th {\n",
       "        text-align: right;\n",
       "    }\n",
       "</style>\n",
       "<table border=\"1\" class=\"dataframe\">\n",
       "  <thead>\n",
       "    <tr style=\"text-align: right;\">\n",
       "      <th></th>\n",
       "      <th>file_name</th>\n",
       "      <th>label</th>\n",
       "      <th>file_path</th>\n",
       "    </tr>\n",
       "  </thead>\n",
       "  <tbody>\n",
       "    <tr>\n",
       "      <th>count</th>\n",
       "      <td>398528</td>\n",
       "      <td>398528</td>\n",
       "      <td>398528</td>\n",
       "    </tr>\n",
       "    <tr>\n",
       "      <th>unique</th>\n",
       "      <td>398528</td>\n",
       "      <td>116142</td>\n",
       "      <td>398528</td>\n",
       "    </tr>\n",
       "    <tr>\n",
       "      <th>top</th>\n",
       "      <td>TRAIN_00001.tiff</td>\n",
       "      <td>THOMAS</td>\n",
       "      <td>C:\\Users\\User\\Desktop\\handwriting-recognition\\...</td>\n",
       "    </tr>\n",
       "    <tr>\n",
       "      <th>freq</th>\n",
       "      <td>1</td>\n",
       "      <td>2271</td>\n",
       "      <td>1</td>\n",
       "    </tr>\n",
       "  </tbody>\n",
       "</table>\n",
       "</div>"
      ],
      "text/plain": [
       "               file_name   label  \\\n",
       "count             398528  398528   \n",
       "unique            398528  116142   \n",
       "top     TRAIN_00001.tiff  THOMAS   \n",
       "freq                   1    2271   \n",
       "\n",
       "                                                file_path  \n",
       "count                                              398528  \n",
       "unique                                             398528  \n",
       "top     C:\\Users\\User\\Desktop\\handwriting-recognition\\...  \n",
       "freq                                                    1  "
      ]
     },
     "execution_count": 68,
     "metadata": {},
     "output_type": "execute_result"
    }
   ],
   "source": [
    "df.describe()"
   ]
  },
  {
   "cell_type": "code",
   "execution_count": 69,
   "metadata": {},
   "outputs": [
    {
     "data": {
      "text/plain": [
       "'BALTHAZARSIMONBENESLA LOVEDAPHNELUCIENASSIMASSRAOUILAVIANMAEVAEMMAMOULINIERELISEHONNERTMATHEOPETITDI'"
      ]
     },
     "execution_count": 69,
     "metadata": {},
     "output_type": "execute_result"
    }
   ],
   "source": [
    "all_names = ''.join(df['label']) # put all names into single string\n",
    "all_names[0:100]"
   ]
  },
  {
   "cell_type": "code",
   "execution_count": 70,
   "metadata": {},
   "outputs": [
    {
     "data": {
      "text/plain": [
       "Counter({'A': 331273,\n",
       "         'E': 329779,\n",
       "         'I': 216626,\n",
       "         'N': 207405,\n",
       "         'L': 196844,\n",
       "         'R': 184735,\n",
       "         'O': 165105,\n",
       "         'T': 123080,\n",
       "         'U': 118868,\n",
       "         'S': 113436,\n",
       "         'M': 100674,\n",
       "         'C': 84836,\n",
       "         'H': 76789,\n",
       "         'D': 75214,\n",
       "         'B': 57008,\n",
       "         'G': 48506,\n",
       "         'Y': 35300,\n",
       "         'P': 34498,\n",
       "         'V': 30293,\n",
       "         'F': 22752,\n",
       "         ' ': 21393,\n",
       "         'J': 19658,\n",
       "         'K': 17497,\n",
       "         'Z': 16934,\n",
       "         'X': 14009,\n",
       "         'W': 6814,\n",
       "         'Q': 6430})"
      ]
     },
     "execution_count": 70,
     "metadata": {},
     "output_type": "execute_result"
    }
   ],
   "source": [
    "from collections import Counter\n",
    "char_freq = Counter(all_names)\n",
    "char_freq"
   ]
  },
  {
   "cell_type": "code",
   "execution_count": 71,
   "metadata": {},
   "outputs": [
    {
     "data": {
      "text/plain": [
       "[('Q', 6430), ('W', 6814), ('X', 14009), ('Z', 16934), ('K', 17497)]"
      ]
     },
     "execution_count": 71,
     "metadata": {},
     "output_type": "execute_result"
    }
   ],
   "source": [
    "sorted_char_freq = sorted(char_freq.items(), key=lambda item_tuple: item_tuple[1], reverse=False) # parse tuples and sort via the key, which is the count.\n",
    "sorted_char_freq[0:5]"
   ]
  },
  {
   "cell_type": "code",
   "execution_count": 72,
   "metadata": {},
   "outputs": [
    {
     "data": {
      "image/png": "[encoded data removed]",
      "text/plain": [
       "<Figure size 1000x600 with 1 Axes>"
      ]
     },
     "metadata": {},
     "output_type": "display_data"
    }
   ],
   "source": [
    "import matplotlib.pyplot as plt\n",
    "\n",
    "sorted_char_freq = dict(sorted_char_freq) # formatted for plotting\n",
    "characters = list(sorted_char_freq.keys())\n",
    "character_counts = list(sorted_char_freq.values())\n",
    "\n",
    "colours = ['C7'] * len(characters)\n",
    "\n",
    "for vowel in 'AEIOU':    \n",
    "  highlighted_bar_index = characters.index(vowel) # The bar's index that we want to change colour.\n",
    "  colours[highlighted_bar_index] = 'C0'\n",
    "\n",
    "plt.figure(figsize=(10, 6))\n",
    "# plt.barh(characters, character_counts, color='C0', alpha=0.8)\n",
    "plt.barh(characters, character_counts, color=colours, alpha=0.8, )\n",
    "plt.xlabel('Counts')\n",
    "plt.ylabel('Characters')\n",
    "plt.title('Character Frequency in Names')\n",
    "plt.show()\n"
   ]
  },
  {
   "cell_type": "code",
   "execution_count": 73,
   "metadata": {},
   "outputs": [
    {
     "data": {
      "image/png": "[encoded data removed]",
      "text/plain": [
       "<Figure size 1000x600 with 1 Axes>"
      ]
     },
     "metadata": {},
     "output_type": "display_data"
    }
   ],
   "source": [
    "import matplotlib.pyplot as plt\n",
    "\n",
    "sorted_char_freq = dict(sorted_char_freq) # formatted for plotting\n",
    "characters = list(sorted_char_freq.keys())\n",
    "character_counts = list(sorted_char_freq.values())\n",
    "\n",
    "colours = ['C7'] * len(characters)\n",
    "\n",
    "for vowel in 'AEIOU':    \n",
    "  highlighted_bar_index = characters.index(vowel) # The bar's index that we want to change colour.\n",
    "  colours[highlighted_bar_index] = 'C0'\n",
    "\n",
    "plt.figure(figsize=(10, 6))\n",
    "# plt.barh(characters, character_counts, color='C0', alpha=0.8)\n",
    "plt.barh(characters[-10:], character_counts[-10:], color=colours[-10:], alpha=0.8, )\n",
    "plt.xlabel('Counts')\n",
    "plt.ylabel('Characters')\n",
    "plt.title('Top 10 Most Frequent Characters in Names')\n",
    "plt.show()\n"
   ]
  },
  {
   "cell_type": "code",
   "execution_count": 74,
   "metadata": {},
   "outputs": [
    {
     "data": {
      "image/png": "[encoded data removed]",
      "text/plain": [
       "<Figure size 1000x600 with 1 Axes>"
      ]
     },
     "metadata": {},
     "output_type": "display_data"
    }
   ],
   "source": [
    "import matplotlib.pyplot as plt\n",
    "\n",
    "sorted_char_freq = dict(sorted_char_freq) # formatted for plotting\n",
    "characters = list(sorted_char_freq.keys())\n",
    "character_counts = list(sorted_char_freq.values())\n",
    "\n",
    "colours = ['C7'] * len(characters)\n",
    "\n",
    "for vowel in 'EA':    \n",
    "  highlighted_bar_index = characters.index(vowel) # The bar's index that we want to change colour.\n",
    "  colours[highlighted_bar_index] = 'C0'\n",
    "\n",
    "plt.figure(figsize=(10, 6))\n",
    "# plt.barh(characters, character_counts, color='C0', alpha=0.8)\n",
    "plt.barh(characters[-5:], character_counts[-5:], color=colours[-5:], alpha=0.8, )\n",
    "plt.xlabel('Counts')\n",
    "plt.ylabel('Characters')\n",
    "plt.title('Top 5 Most Frequent Characters in Names')\n",
    "plt.show()\n"
   ]
  },
  {
   "cell_type": "code",
   "execution_count": 75,
   "metadata": {},
   "outputs": [
    {
     "data": {
      "image/png": "[encoded data removed]",
      "text/plain": [
       "<Figure size 1000x600 with 1 Axes>"
      ]
     },
     "metadata": {},
     "output_type": "display_data"
    }
   ],
   "source": [
    "import matplotlib.pyplot as plt\n",
    "\n",
    "sorted_char_freq = sorted(char_freq.items(), key=lambda item_tuple: item_tuple[1], reverse=True) # parse tuples and sort via the key, which is the count.\n",
    "sorted_char_freq = dict(sorted_char_freq) # formatted for plotting\n",
    "characters = list(sorted_char_freq.keys())\n",
    "character_counts = list(sorted_char_freq.values())\n",
    "\n",
    "colours = ['C7'] * len(characters)\n",
    "\n",
    "for vowel in 'QWK':    \n",
    "  highlighted_bar_index = characters.index(vowel) # The bar's index that we want to change colour.\n",
    "  colours[highlighted_bar_index] = 'C0'\n",
    "\n",
    "plt.figure(figsize=(10, 6))\n",
    "# plt.barh(characters, character_counts, color='C0', alpha=0.8)\n",
    "plt.barh(characters[-5:], character_counts[-5:], color=colours[-5:], alpha=0.8, )\n",
    "plt.xlabel('Counts')\n",
    "plt.ylabel('Characters')\n",
    "plt.title('Top 5 Least Frequent Characters in Names')\n",
    "plt.show()\n"
   ]
  },
  {
   "attachments": {},
   "cell_type": "markdown",
   "metadata": {},
   "source": [
    "# Find if there is a missing characters in the dataset"
   ]
  },
  {
   "cell_type": "code",
   "execution_count": 76,
   "metadata": {},
   "outputs": [
    {
     "name": "stdout",
     "output_type": "stream",
     "text": [
      "{'w', 'r', 'x', 't', 'y', 'p', 'j', 'd', 's', 'g', 'e', 'k', 'u', 'i', 'q', 'c', 'z', 'f', 'h', 'o', 'l', 'n', 'b', 'a', 'v', 'm'}\n",
      "{'U', 'T', 'S', 'G', 'A', 'D', 'J', 'R', 'K', 'Y', 'I', ' ', 'P', 'W', 'B', 'H', 'E', 'Z', 'X', 'F', 'N', 'L', 'O', 'Q', 'C', 'V', 'M'}\n"
     ]
    }
   ],
   "source": [
    "import string\n",
    "\n",
    "all_possible_char = set(string.ascii_lowercase) # Note: punctuation could be added... or special accent characters.\n",
    "uniq_char_in_all_names = set(all_names)\n",
    "print(all_possible_char)\n",
    "print(uniq_char_in_all_names)"
   ]
  },
  {
   "cell_type": "code",
   "execution_count": 77,
   "metadata": {},
   "outputs": [
    {
     "name": "stdout",
     "output_type": "stream",
     "text": [
      "Here is all the characters not represented in the dataset: {'w', 'r', 'x', 't', 'y', 'p', 'j', 'd', 's', 'g', 'e', 'k', 'u', 'i', 'c', 'q', 'z', 'f', 'h', 'o', 'l', 'n', 'b', 'a', 'v', 'm'}\n"
     ]
    }
   ],
   "source": [
    "# Do the difference between two sets\n",
    "char_unrepresented = all_possible_char - uniq_char_in_all_names\n",
    "print('Here is all the characters not represented in the dataset:', char_unrepresented)"
   ]
  },
  {
   "attachments": {},
   "cell_type": "markdown",
   "metadata": {},
   "source": [
    "# Find what is the character length distribution of dataset"
   ]
  },
  {
   "cell_type": "code",
   "execution_count": 78,
   "metadata": {},
   "outputs": [
    {
     "data": {
      "text/html": [
       "<div>\n",
       "<style scoped>\n",
       "    .dataframe tbody tr th:only-of-type {\n",
       "        vertical-align: middle;\n",
       "    }\n",
       "\n",
       "    .dataframe tbody tr th {\n",
       "        vertical-align: top;\n",
       "    }\n",
       "\n",
       "    .dataframe thead th {\n",
       "        text-align: right;\n",
       "    }\n",
       "</style>\n",
       "<table border=\"1\" class=\"dataframe\">\n",
       "  <thead>\n",
       "    <tr style=\"text-align: right;\">\n",
       "      <th></th>\n",
       "      <th>label</th>\n",
       "      <th>lengths</th>\n",
       "    </tr>\n",
       "  </thead>\n",
       "  <tbody>\n",
       "    <tr>\n",
       "      <th>0</th>\n",
       "      <td>BALTHAZAR</td>\n",
       "      <td>9</td>\n",
       "    </tr>\n",
       "    <tr>\n",
       "      <th>1</th>\n",
       "      <td>SIMON</td>\n",
       "      <td>5</td>\n",
       "    </tr>\n",
       "    <tr>\n",
       "      <th>2</th>\n",
       "      <td>BENES</td>\n",
       "      <td>5</td>\n",
       "    </tr>\n",
       "    <tr>\n",
       "      <th>3</th>\n",
       "      <td>LA LOVE</td>\n",
       "      <td>7</td>\n",
       "    </tr>\n",
       "    <tr>\n",
       "      <th>4</th>\n",
       "      <td>DAPHNE</td>\n",
       "      <td>6</td>\n",
       "    </tr>\n",
       "  </tbody>\n",
       "</table>\n",
       "</div>"
      ],
      "text/plain": [
       "       label  lengths\n",
       "0  BALTHAZAR        9\n",
       "1      SIMON        5\n",
       "2      BENES        5\n",
       "3    LA LOVE        7\n",
       "4     DAPHNE        6"
      ]
     },
     "execution_count": 78,
     "metadata": {},
     "output_type": "execute_result"
    }
   ],
   "source": [
    "df['lengths'] = df['label'].apply(len)\n",
    "sdf = df[['label','lengths']]\n",
    "sdf.head()"
   ]
  },
  {
   "cell_type": "code",
   "execution_count": 79,
   "metadata": {},
   "outputs": [
    {
     "data": {
      "text/html": [
       "<div>\n",
       "<style scoped>\n",
       "    .dataframe tbody tr th:only-of-type {\n",
       "        vertical-align: middle;\n",
       "    }\n",
       "\n",
       "    .dataframe tbody tr th {\n",
       "        vertical-align: top;\n",
       "    }\n",
       "\n",
       "    .dataframe thead th {\n",
       "        text-align: right;\n",
       "    }\n",
       "</style>\n",
       "<table border=\"1\" class=\"dataframe\">\n",
       "  <thead>\n",
       "    <tr style=\"text-align: right;\">\n",
       "      <th></th>\n",
       "      <th>label</th>\n",
       "      <th>lengths</th>\n",
       "    </tr>\n",
       "  </thead>\n",
       "  <tbody>\n",
       "    <tr>\n",
       "      <th>24593</th>\n",
       "      <td>CHASSIGNEUX CHAMPON</td>\n",
       "      <td>19</td>\n",
       "    </tr>\n",
       "    <tr>\n",
       "      <th>256664</th>\n",
       "      <td>NARBAI IS   SAUREGU</td>\n",
       "      <td>19</td>\n",
       "    </tr>\n",
       "    <tr>\n",
       "      <th>138545</th>\n",
       "      <td>CAPSALAS   PLANCHER</td>\n",
       "      <td>19</td>\n",
       "    </tr>\n",
       "    <tr>\n",
       "      <th>264295</th>\n",
       "      <td>PINARD   BERTELETTC</td>\n",
       "      <td>19</td>\n",
       "    </tr>\n",
       "    <tr>\n",
       "      <th>173475</th>\n",
       "      <td>ALVAREZ DE SOTOMAYC</td>\n",
       "      <td>19</td>\n",
       "    </tr>\n",
       "  </tbody>\n",
       "</table>\n",
       "</div>"
      ],
      "text/plain": [
       "                      label  lengths\n",
       "24593   CHASSIGNEUX CHAMPON       19\n",
       "256664  NARBAI IS   SAUREGU       19\n",
       "138545  CAPSALAS   PLANCHER       19\n",
       "264295  PINARD   BERTELETTC       19\n",
       "173475  ALVAREZ DE SOTOMAYC       19"
      ]
     },
     "execution_count": 79,
     "metadata": {},
     "output_type": "execute_result"
    }
   ],
   "source": [
    "# longest names\n",
    "sdf.sort_values(['lengths'],ascending=False)[0:5]"
   ]
  },
  {
   "attachments": {},
   "cell_type": "markdown",
   "metadata": {},
   "source": [
    "date of naissance classe is French for date of birth class"
   ]
  },
  {
   "cell_type": "code",
   "execution_count": 80,
   "metadata": {},
   "outputs": [
    {
     "data": {
      "text/html": [
       "<div>\n",
       "<style scoped>\n",
       "    .dataframe tbody tr th:only-of-type {\n",
       "        vertical-align: middle;\n",
       "    }\n",
       "\n",
       "    .dataframe tbody tr th {\n",
       "        vertical-align: top;\n",
       "    }\n",
       "\n",
       "    .dataframe thead th {\n",
       "        text-align: right;\n",
       "    }\n",
       "</style>\n",
       "<table border=\"1\" class=\"dataframe\">\n",
       "  <thead>\n",
       "    <tr style=\"text-align: right;\">\n",
       "      <th></th>\n",
       "      <th>file_name</th>\n",
       "      <th>label</th>\n",
       "      <th>file_path</th>\n",
       "      <th>lengths</th>\n",
       "    </tr>\n",
       "  </thead>\n",
       "  <tbody>\n",
       "    <tr>\n",
       "      <th>24593</th>\n",
       "      <td>TRAIN_25533.tiff</td>\n",
       "      <td>CHASSIGNEUX CHAMPON</td>\n",
       "      <td>C:\\Users\\User\\Desktop\\handwriting-recognition\\...</td>\n",
       "      <td>19</td>\n",
       "    </tr>\n",
       "    <tr>\n",
       "      <th>256664</th>\n",
       "      <td>TRAIN_266468.tiff</td>\n",
       "      <td>NARBAI IS   SAUREGU</td>\n",
       "      <td>C:\\Users\\User\\Desktop\\handwriting-recognition\\...</td>\n",
       "      <td>19</td>\n",
       "    </tr>\n",
       "    <tr>\n",
       "      <th>138545</th>\n",
       "      <td>TRAIN_143934.tiff</td>\n",
       "      <td>CAPSALAS   PLANCHER</td>\n",
       "      <td>C:\\Users\\User\\Desktop\\handwriting-recognition\\...</td>\n",
       "      <td>19</td>\n",
       "    </tr>\n",
       "    <tr>\n",
       "      <th>264295</th>\n",
       "      <td>TRAIN_274389.tiff</td>\n",
       "      <td>PINARD   BERTELETTC</td>\n",
       "      <td>C:\\Users\\User\\Desktop\\handwriting-recognition\\...</td>\n",
       "      <td>19</td>\n",
       "    </tr>\n",
       "    <tr>\n",
       "      <th>173475</th>\n",
       "      <td>TRAIN_180112.tiff</td>\n",
       "      <td>ALVAREZ DE SOTOMAYC</td>\n",
       "      <td>C:\\Users\\User\\Desktop\\handwriting-recognition\\...</td>\n",
       "      <td>19</td>\n",
       "    </tr>\n",
       "  </tbody>\n",
       "</table>\n",
       "</div>"
      ],
      "text/plain": [
       "                file_name                label  \\\n",
       "24593    TRAIN_25533.tiff  CHASSIGNEUX CHAMPON   \n",
       "256664  TRAIN_266468.tiff  NARBAI IS   SAUREGU   \n",
       "138545  TRAIN_143934.tiff  CAPSALAS   PLANCHER   \n",
       "264295  TRAIN_274389.tiff  PINARD   BERTELETTC   \n",
       "173475  TRAIN_180112.tiff  ALVAREZ DE SOTOMAYC   \n",
       "\n",
       "                                                file_path  lengths  \n",
       "24593   C:\\Users\\User\\Desktop\\handwriting-recognition\\...       19  \n",
       "256664  C:\\Users\\User\\Desktop\\handwriting-recognition\\...       19  \n",
       "138545  C:\\Users\\User\\Desktop\\handwriting-recognition\\...       19  \n",
       "264295  C:\\Users\\User\\Desktop\\handwriting-recognition\\...       19  \n",
       "173475  C:\\Users\\User\\Desktop\\handwriting-recognition\\...       19  "
      ]
     },
     "execution_count": 80,
     "metadata": {},
     "output_type": "execute_result"
    }
   ],
   "source": [
    "from IPython.display import Image as show_im\n",
    "df.sort_values(['lengths'],ascending=False)[0:5]"
   ]
  },
  {
   "cell_type": "code",
   "execution_count": 81,
   "metadata": {},
   "outputs": [
    {
     "data": {
      "image/jpeg": "[encoded data removed]",
      "text/plain": [
       "<IPython.core.display.Image object>"
      ]
     },
     "execution_count": 81,
     "metadata": {},
     "output_type": "execute_result"
    }
   ],
   "source": [
    "show_im(get_dataset_folder_path() / \"raw\" / \"test\" / \"TEST_5222.jpg\")"
   ]
  },
  {
   "cell_type": "code",
   "execution_count": 82,
   "metadata": {},
   "outputs": [
    {
     "data": {
      "text/html": [
       "<div>\n",
       "<style scoped>\n",
       "    .dataframe tbody tr th:only-of-type {\n",
       "        vertical-align: middle;\n",
       "    }\n",
       "\n",
       "    .dataframe tbody tr th {\n",
       "        vertical-align: top;\n",
       "    }\n",
       "\n",
       "    .dataframe thead th {\n",
       "        text-align: right;\n",
       "    }\n",
       "</style>\n",
       "<table border=\"1\" class=\"dataframe\">\n",
       "  <thead>\n",
       "    <tr style=\"text-align: right;\">\n",
       "      <th></th>\n",
       "      <th>label</th>\n",
       "      <th>lengths</th>\n",
       "    </tr>\n",
       "  </thead>\n",
       "  <tbody>\n",
       "    <tr>\n",
       "      <th>83968</th>\n",
       "      <td>LARA</td>\n",
       "      <td>4</td>\n",
       "    </tr>\n",
       "    <tr>\n",
       "      <th>298648</th>\n",
       "      <td>THEO</td>\n",
       "      <td>4</td>\n",
       "    </tr>\n",
       "    <tr>\n",
       "      <th>264024</th>\n",
       "      <td>MBAE</td>\n",
       "      <td>4</td>\n",
       "    </tr>\n",
       "    <tr>\n",
       "      <th>176917</th>\n",
       "      <td>RYAN</td>\n",
       "      <td>4</td>\n",
       "    </tr>\n",
       "    <tr>\n",
       "      <th>15767</th>\n",
       "      <td>LIAM</td>\n",
       "      <td>4</td>\n",
       "    </tr>\n",
       "  </tbody>\n",
       "</table>\n",
       "</div>"
      ],
      "text/plain": [
       "       label  lengths\n",
       "83968   LARA        4\n",
       "298648  THEO        4\n",
       "264024  MBAE        4\n",
       "176917  RYAN        4\n",
       "15767   LIAM        4"
      ]
     },
     "execution_count": 82,
     "metadata": {},
     "output_type": "execute_result"
    }
   ],
   "source": [
    "# shortist names\n",
    "sdf.sort_values(['lengths'],ascending=False)[-6:-1]"
   ]
  },
  {
   "cell_type": "code",
   "execution_count": 83,
   "metadata": {},
   "outputs": [
    {
     "data": {
      "text/html": [
       "<div>\n",
       "<style scoped>\n",
       "    .dataframe tbody tr th:only-of-type {\n",
       "        vertical-align: middle;\n",
       "    }\n",
       "\n",
       "    .dataframe tbody tr th {\n",
       "        vertical-align: top;\n",
       "    }\n",
       "\n",
       "    .dataframe thead th {\n",
       "        text-align: right;\n",
       "    }\n",
       "</style>\n",
       "<table border=\"1\" class=\"dataframe\">\n",
       "  <thead>\n",
       "    <tr style=\"text-align: right;\">\n",
       "      <th></th>\n",
       "      <th>file_name</th>\n",
       "      <th>label</th>\n",
       "      <th>file_path</th>\n",
       "      <th>lengths</th>\n",
       "    </tr>\n",
       "  </thead>\n",
       "  <tbody>\n",
       "    <tr>\n",
       "      <th>83968</th>\n",
       "      <td>TRAIN_87205.tiff</td>\n",
       "      <td>LARA</td>\n",
       "      <td>C:\\Users\\User\\Desktop\\handwriting-recognition\\...</td>\n",
       "      <td>4</td>\n",
       "    </tr>\n",
       "    <tr>\n",
       "      <th>298648</th>\n",
       "      <td>TRAIN_310057.tiff</td>\n",
       "      <td>THEO</td>\n",
       "      <td>C:\\Users\\User\\Desktop\\handwriting-recognition\\...</td>\n",
       "      <td>4</td>\n",
       "    </tr>\n",
       "    <tr>\n",
       "      <th>264024</th>\n",
       "      <td>TRAIN_274112.tiff</td>\n",
       "      <td>MBAE</td>\n",
       "      <td>C:\\Users\\User\\Desktop\\handwriting-recognition\\...</td>\n",
       "      <td>4</td>\n",
       "    </tr>\n",
       "    <tr>\n",
       "      <th>176917</th>\n",
       "      <td>TRAIN_183676.tiff</td>\n",
       "      <td>RYAN</td>\n",
       "      <td>C:\\Users\\User\\Desktop\\handwriting-recognition\\...</td>\n",
       "      <td>4</td>\n",
       "    </tr>\n",
       "    <tr>\n",
       "      <th>15767</th>\n",
       "      <td>VALIDATION_16388.tiff</td>\n",
       "      <td>LIAM</td>\n",
       "      <td>C:\\Users\\User\\Desktop\\handwriting-recognition\\...</td>\n",
       "      <td>4</td>\n",
       "    </tr>\n",
       "  </tbody>\n",
       "</table>\n",
       "</div>"
      ],
      "text/plain": [
       "                    file_name label  \\\n",
       "83968        TRAIN_87205.tiff  LARA   \n",
       "298648      TRAIN_310057.tiff  THEO   \n",
       "264024      TRAIN_274112.tiff  MBAE   \n",
       "176917      TRAIN_183676.tiff  RYAN   \n",
       "15767   VALIDATION_16388.tiff  LIAM   \n",
       "\n",
       "                                                file_path  lengths  \n",
       "83968   C:\\Users\\User\\Desktop\\handwriting-recognition\\...        4  \n",
       "298648  C:\\Users\\User\\Desktop\\handwriting-recognition\\...        4  \n",
       "264024  C:\\Users\\User\\Desktop\\handwriting-recognition\\...        4  \n",
       "176917  C:\\Users\\User\\Desktop\\handwriting-recognition\\...        4  \n",
       "15767   C:\\Users\\User\\Desktop\\handwriting-recognition\\...        4  "
      ]
     },
     "execution_count": 83,
     "metadata": {},
     "output_type": "execute_result"
    }
   ],
   "source": [
    "df.sort_values(['lengths'],ascending=False)[-6:-1]"
   ]
  },
  {
   "cell_type": "code",
   "execution_count": 84,
   "metadata": {},
   "outputs": [
    {
     "data": {
      "image/jpeg": "[encoded data removed]",
      "text/plain": [
       "<IPython.core.display.Image object>"
      ]
     },
     "execution_count": 84,
     "metadata": {},
     "output_type": "execute_result"
    }
   ],
   "source": [
    "from IPython.display import Image as show_im\n",
    "show_im(get_dataset_folder_path() / \"raw\" / \"test\" / \"TEST_8807.jpg\")"
   ]
  },
  {
   "cell_type": "code",
   "execution_count": 85,
   "metadata": {},
   "outputs": [
    {
     "data": {
      "text/plain": [
       "count    398528.000000\n",
       "mean          6.663913\n",
       "std           2.056495\n",
       "min           4.000000\n",
       "25%           5.000000\n",
       "50%           6.000000\n",
       "75%           8.000000\n",
       "max          19.000000\n",
       "Name: lengths, dtype: float64"
      ]
     },
     "execution_count": 85,
     "metadata": {},
     "output_type": "execute_result"
    }
   ],
   "source": [
    "sdf['lengths'].describe()"
   ]
  },
  {
   "cell_type": "code",
   "execution_count": 86,
   "metadata": {},
   "outputs": [
    {
     "data": {
      "image/png": "[encoded data removed]",
      "text/plain": [
       "<Figure size 800x600 with 1 Axes>"
      ]
     },
     "metadata": {},
     "output_type": "display_data"
    }
   ],
   "source": [
    "plt.figure(figsize=(8, 6))\n",
    "plt.hist(sdf['lengths'], bins=range(0, max(sdf['lengths']) + 1), color='C0', edgecolor='black', alpha=0.8)\n",
    "plt.xlabel('Name Length')\n",
    "plt.xticks([x + 0.5 for x in range(max(sdf['lengths']) + 1) if x % 2 == 0], [x for x in range(max(sdf['lengths']) + 1) if x % 2 == 0])\n",
    "plt.ylabel('Frequency')\n",
    "plt.title('Histogram of Name Lengths')\n",
    "# plt.grid(True)\n",
    "plt.show()"
   ]
  },
  {
   "attachments": {},
   "cell_type": "markdown",
   "metadata": {},
   "source": [
    "# Find the most frequent names in the list"
   ]
  },
  {
   "cell_type": "code",
   "execution_count": 87,
   "metadata": {},
   "outputs": [
    {
     "name": "stdout",
     "output_type": "stream",
     "text": [
      "label\n",
      "THOMAS     2271\n",
      "EMMA       1870\n",
      "LUCAS      1851\n",
      "CAMILLE    1722\n",
      "HUGO       1715\n",
      "Name: count, dtype: int64\n",
      "label\n",
      "SATYNE            1\n",
      "CHATALIC          1\n",
      "HEMME             1\n",
      "TOULIER ANCIAN    1\n",
      "TRAMBLE           1\n",
      "Name: count, dtype: int64\n"
     ]
    }
   ],
   "source": [
    "name_freq = sdf['label'].value_counts()\n",
    "print(name_freq[0:5])\n",
    "print(name_freq[-6:-1])"
   ]
  },
  {
   "cell_type": "code",
   "execution_count": 89,
   "metadata": {},
   "outputs": [
    {
     "data": {
      "image/png": "[encoded data removed]",
      "text/plain": [
       "<Figure size 1000x600 with 1 Axes>"
      ]
     },
     "metadata": {},
     "output_type": "display_data"
    }
   ],
   "source": [
    "all_names = ''.join(df['label'].map(lambda x: x[0])) # put all names into single string\n",
    "char_freq = Counter(all_names)\n",
    "sorted_char_freq = sorted(char_freq.items(), key=lambda item_tuple: item_tuple[1], reverse=False) # parse tuples and sort via the key, which is the count.\n",
    "\n",
    "import matplotlib.pyplot as plt\n",
    "\n",
    "sorted_char_freq = dict(sorted_char_freq) # formatted for plotting\n",
    "characters = list(sorted_char_freq.keys())\n",
    "character_counts = list(sorted_char_freq.values())\n",
    "\n",
    "colours = ['C7'] * len(characters)\n",
    "\n",
    "for vowel in 'M':    \n",
    "  highlighted_bar_index = characters.index(vowel) # The bar's index that we want to change colour.\n",
    "  colours[highlighted_bar_index] = 'C0'\n",
    "\n",
    "plt.figure(figsize=(10, 6))\n",
    "# plt.barh(characters, character_counts, color='C0', alpha=0.8)\n",
    "plt.barh(characters[-5:], character_counts[-5:], color=colours[-5:], alpha=0.8, )\n",
    "plt.xlabel('Counts')\n",
    "plt.ylabel('Characters')\n",
    "plt.title('Top 5 Most Frequent First Letter in Names')\n",
    "plt.show()"
   ]
  },
  {
   "cell_type": "code",
   "execution_count": null,
   "metadata": {},
   "outputs": [],
   "source": []
  }
 ],
 "metadata": {
  "kernelspec": {
   "display_name": "handwriting-recognition-mEqlV94N-py3.12",
   "language": "python",
   "name": "python3"
  },
  "language_info": {
   "codemirror_mode": {
    "name": "ipython",
    "version": 3
   },
   "file_extension": ".py",
   "mimetype": "text/x-python",
   "name": "python",
   "nbconvert_exporter": "python",
   "pygments_lexer": "ipython3",
   "version": "3.12.3"
  },
  "orig_nbformat": 4
 },
 "nbformat": 4,
 "nbformat_minor": 2
}
