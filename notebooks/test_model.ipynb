{
 "cells": [
  {
   "cell_type": "code",
   "execution_count": 1,
   "metadata": {},
   "outputs": [],
   "source": [
    "%load_ext autoreload\n",
    "%autoreload 2"
   ]
  },
  {
   "cell_type": "code",
   "execution_count": 2,
   "metadata": {},
   "outputs": [
    {
     "name": "stderr",
     "output_type": "stream",
     "text": [
      "/home/faraz/.cache/pypoetry/virtualenvs/handwriting-recognition-05HTZ8rb-py3.11/lib/python3.11/site-packages/pydantic/_internal/_fields.py:160: UserWarning: Field \"model_name\" has conflict with protected namespace \"model_\".\n",
      "\n",
      "You may be able to resolve this warning by setting `model_config['protected_namespaces'] = ()`.\n",
      "  warnings.warn(\n"
     ]
    }
   ],
   "source": [
    "import argparse\n",
    "import os\n",
    "\n",
    "import numpy as np\n",
    "import torch\n",
    "from torch.nn.modules.loss import CrossEntropyLoss\n",
    "from torch.utils.data.dataloader import DataLoader\n",
    "from tqdm import tqdm\n",
    "import random\n",
    "\n",
    "from handwriting_recognition.label_converter import LabelConverter\n",
    "from handwriting_recognition.model.model import HandwritingRecognitionModel\n",
    "from handwriting_recognition.modelling_utils import get_image_model\n",
    "from handwriting_recognition.utils import TrainingConfig, get_dataset_folder_path\n",
    "from handwriting_recognition.dataset import HandWritingDataset\n",
    "from pathlib import Path\n",
    "from handwriting_recognition.modelling_utils import get_device\n",
    "from handwriting_recognition.eval import cer, wer\n",
    "\n",
    "torch.backends.cudnn.benchmark = True"
   ]
  },
  {
   "cell_type": "code",
   "execution_count": 3,
   "metadata": {},
   "outputs": [],
   "source": [
    "CONFIG_NAME = \"default_config\"\n",
    "MODEL_TO_TEST = \"last\"\n",
    "MODEL_FILE = Path(get_dataset_folder_path()).parent.joinpath(\"model_outputs\", CONFIG_NAME, MODEL_TO_TEST)"
   ]
  },
  {
   "cell_type": "code",
   "execution_count": 4,
   "metadata": {},
   "outputs": [],
   "source": [
    "config_path = Path(get_dataset_folder_path()).parent.joinpath(\"handwriting_recognition\", \"configs\", CONFIG_NAME).with_suffix(\".json\")\n",
    "config = TrainingConfig.from_path(config_path=config_path)"
   ]
  },
  {
   "cell_type": "code",
   "execution_count": 5,
   "metadata": {},
   "outputs": [],
   "source": [
    "data_train = HandWritingDataset(\n",
    "    data_path=get_dataset_folder_path() / \"pre_processed\" / \"train.csv\",\n",
    "    img_size=config.feature_extractor_config.input_size,\n",
    ")\n",
    "\n",
    "data_val = HandWritingDataset(\n",
    "    data_path=get_dataset_folder_path() / \"pre_processed\" / \"validation.csv\",\n",
    "    img_size=config.feature_extractor_config.input_size,\n",
    ")\n",
    "\n",
    "data_test = HandWritingDataset(\n",
    "    data_path=get_dataset_folder_path() / \"pre_processed\" / \"test.csv\",\n",
    "    img_size=config.feature_extractor_config.input_size,\n",
    ")"
   ]
  },
  {
   "cell_type": "code",
   "execution_count": 6,
   "metadata": {},
   "outputs": [],
   "source": [
    "saved_model = torch.load(MODEL_FILE)"
   ]
  },
  {
   "cell_type": "code",
   "execution_count": 7,
   "metadata": {},
   "outputs": [],
   "source": [
    "if \"scheduler_config\" not in saved_model['config']:\n",
    "    saved_model['config']['scheduler_config'] = None\n",
    "if \"beta1\" not in saved_model['config']['optim_config']:\n",
    "    saved_model['config']['optim_config']['beta1'] = 0.95\n",
    "if \"beta2\" not in saved_model['config']['optim_config']:\n",
    "    saved_model['config']['optim_config']['beta2'] = 0.99"
   ]
  },
  {
   "cell_type": "code",
   "execution_count": 9,
   "metadata": {},
   "outputs": [],
   "source": [
    "config = TrainingConfig(**saved_model['config'])"
   ]
  },
  {
   "cell_type": "code",
   "execution_count": 10,
   "metadata": {},
   "outputs": [],
   "source": [
    "image_model = get_image_model(model_name=config.feature_extractor_config.model_name)\n",
    "model = HandwritingRecognitionModel(image_feature_extractor=image_model, training_config=config)"
   ]
  },
  {
   "cell_type": "code",
   "execution_count": 11,
   "metadata": {},
   "outputs": [
    {
     "data": {
      "text/plain": [
       "<All keys matched successfully>"
      ]
     },
     "execution_count": 11,
     "metadata": {},
     "output_type": "execute_result"
    }
   ],
   "source": [
    "model.load_state_dict(saved_model[\"state\"])"
   ]
  },
  {
   "cell_type": "code",
   "execution_count": 12,
   "metadata": {},
   "outputs": [],
   "source": [
    "converter = LabelConverter(character_set=saved_model['character_set'], max_text_length=saved_model['max_text_length'])"
   ]
  },
  {
   "cell_type": "code",
   "execution_count": 13,
   "metadata": {},
   "outputs": [],
   "source": [
    "model = model.to(get_device())\n",
    "model = model.eval()"
   ]
  },
  {
   "cell_type": "code",
   "execution_count": 14,
   "metadata": {},
   "outputs": [],
   "source": [
    "BATCH_SIZE = 64"
   ]
  },
  {
   "cell_type": "code",
   "execution_count": 15,
   "metadata": {},
   "outputs": [],
   "source": [
    "train_loader = DataLoader(\n",
    "    data_train,\n",
    "    batch_size=BATCH_SIZE,\n",
    "    shuffle=False,\n",
    "    pin_memory=False,\n",
    "    drop_last=False,\n",
    ")\n",
    "\n",
    "val_loader = DataLoader(\n",
    "    data_val,\n",
    "    batch_size=BATCH_SIZE,\n",
    "    shuffle=False,\n",
    "    pin_memory=False,\n",
    "    drop_last=False,\n",
    ")\n",
    "\n",
    "test_loader = DataLoader(\n",
    "    data_test,\n",
    "    batch_size=BATCH_SIZE,\n",
    "    shuffle=False,\n",
    "    pin_memory=False,\n",
    "    drop_last=False,\n",
    ")"
   ]
  },
  {
   "cell_type": "code",
   "execution_count": 16,
   "metadata": {},
   "outputs": [],
   "source": [
    "images, labels = next(iter(train_loader))"
   ]
  },
  {
   "cell_type": "code",
   "execution_count": 17,
   "metadata": {},
   "outputs": [
    {
     "data": {
      "text/plain": [
       "torch.Size([64, 1, 224, 224])"
      ]
     },
     "execution_count": 17,
     "metadata": {},
     "output_type": "execute_result"
    }
   ],
   "source": [
    "images.shape"
   ]
  },
  {
   "cell_type": "code",
   "execution_count": 18,
   "metadata": {},
   "outputs": [],
   "source": [
    "text, length = converter.encode(labels)\n",
    "text = text.to(device=get_device())\n",
    "images = images.to(device=get_device())"
   ]
  },
  {
   "cell_type": "code",
   "execution_count": 19,
   "metadata": {},
   "outputs": [],
   "source": [
    "preds = model(x=images, y=text[:, :-1], is_train=False)\n",
    "target = text[:, 1:]"
   ]
  },
  {
   "cell_type": "code",
   "execution_count": 20,
   "metadata": {},
   "outputs": [],
   "source": [
    "predicted_classes = preds.argmax(dim=-1)"
   ]
  },
  {
   "cell_type": "code",
   "execution_count": 31,
   "metadata": {},
   "outputs": [
    {
     "data": {
      "text/plain": [
       "['LECOURE[s][s]E[s][s][s][s][s][s][s][s][s][s]',\n",
       " 'LECOURE[s][s]E[s][s][s][s][s][s][s][s][s][s]',\n",
       " 'LECOURE[s][s]E[s][s][s][s][s][s][s][s][s][s]',\n",
       " 'LECOURE[s][s]E[s][s][s][s][s][s][s][s][s][s]',\n",
       " 'LECOURE[s][s]E[s][s][s][s][s][s][s][s][s][s]',\n",
       " 'LECOURE[s][s]E[s][s][s][s][s][s][s][s][s][s]',\n",
       " 'LECOURE[s][s]E[s][s][s][s][s][s][s][s][s][s]',\n",
       " 'LECOURE[s][s]E[s][s][s][s][s][s][s][s][s][s]',\n",
       " 'LECOURE[s][s]E[s][s][s][s][s][s][s][s][s][s]',\n",
       " 'LECOURE[s][s]E[s][s][s][s][s][s][s][s][s][s]',\n",
       " 'LECOURE[s][s]E[s][s][s][s][s][s][s][s][s][s]',\n",
       " 'LECOURE[s][s]E[s][s][s][s][s][s][s][s][s][s]',\n",
       " 'LECOURE[s][s]E[s][s][s][s][s][s][s][s][s][s]',\n",
       " 'LECOURE[s][s]E[s][s][s][s][s][s][s][s][s][s]',\n",
       " 'LECOURE[s][s]E[s][s][s][s][s][s][s][s][s][s]',\n",
       " 'LECOURE[s][s]E[s][s][s][s][s][s][s][s][s][s]',\n",
       " 'LECOURE[s][s]E[s][s][s][s][s][s][s][s][s][s]',\n",
       " 'LECOURE[s][s]E[s][s][s][s][s][s][s][s][s][s]',\n",
       " 'LECOURE[s][s]E[s][s][s][s][s][s][s][s][s][s]',\n",
       " 'LECOURE[s][s]E[s][s][s][s][s][s][s][s][s][s]',\n",
       " 'LECOURE[s][s]E[s][s][s][s][s][s][s][s][s][s]',\n",
       " 'LECOURE[s][s]E[s][s][s][s][s][s][s][s][s][s]',\n",
       " 'LECOURE[s][s]E[s][s][s][s][s][s][s][s][s][s]',\n",
       " 'LECOURE[s][s]E[s][s][s][s][s][s][s][s][s][s]',\n",
       " 'LECOURE[s][s]E[s][s][s][s][s][s][s][s][s][s]',\n",
       " 'LECOURE[s][s]E[s][s][s][s][s][s][s][s][s][s]',\n",
       " 'LECOURE[s][s]E[s][s][s][s][s][s][s][s][s][s]',\n",
       " 'LECOURE[s][s]E[s][s][s][s][s][s][s][s][s][s]',\n",
       " 'LECOURE[s][s]E[s][s][s][s][s][s][s][s][s][s]',\n",
       " 'LECOURE[s][s]E[s][s][s][s][s][s][s][s][s][s]',\n",
       " 'LECOURE[s][s]E[s][s][s][s][s][s][s][s][s][s]',\n",
       " 'LECOURE[s][s]E[s][s][s][s][s][s][s][s][s][s]',\n",
       " 'LECOURE[s][s]E[s][s][s][s][s][s][s][s][s][s]',\n",
       " 'LECOURE[s][s]E[s][s][s][s][s][s][s][s][s][s]',\n",
       " 'LECOURE[s][s]E[s][s][s][s][s][s][s][s][s][s]',\n",
       " 'LECOURE[s][s]E[s][s][s][s][s][s][s][s][s][s]',\n",
       " 'LECOURE[s][s]E[s][s][s][s][s][s][s][s][s][s]',\n",
       " 'LECOURE[s][s]E[s][s][s][s][s][s][s][s][s][s]',\n",
       " 'LECOURE[s][s]E[s][s][s][s][s][s][s][s][s][s]',\n",
       " 'LECOURE[s][s]E[s][s][s][s][s][s][s][s][s][s]',\n",
       " 'LECOURE[s][s]E[s][s][s][s][s][s][s][s][s][s]',\n",
       " 'LECOURE[s][s]E[s][s][s][s][s][s][s][s][s][s]',\n",
       " 'LECOURE[s][s]E[s][s][s][s][s][s][s][s][s][s]',\n",
       " 'LECOURE[s][s]E[s][s][s][s][s][s][s][s][s][s]',\n",
       " 'LECOURE[s][s]E[s][s][s][s][s][s][s][s][s][s]',\n",
       " 'LECOURE[s][s]E[s][s][s][s][s][s][s][s][s][s]',\n",
       " 'LECOURE[s][s]E[s][s][s][s][s][s][s][s][s][s]',\n",
       " 'LECOURE[s][s]E[s][s][s][s][s][s][s][s][s][s]',\n",
       " 'LECOURE[s][s]E[s][s][s][s][s][s][s][s][s][s]',\n",
       " 'LECOURE[s][s]E[s][s][s][s][s][s][s][s][s][s]',\n",
       " 'LECOURE[s][s]E[s][s][s][s][s][s][s][s][s][s]',\n",
       " 'LECOURE[s][s]E[s][s][s][s][s][s][s][s][s][s]',\n",
       " 'LECOURE[s][s]E[s][s][s][s][s][s][s][s][s][s]',\n",
       " 'LECOURE[s][s]E[s][s][s][s][s][s][s][s][s][s]',\n",
       " 'LECOURE[s][s]E[s][s][s][s][s][s][s][s][s][s]',\n",
       " 'LECOURE[s][s]E[s][s][s][s][s][s][s][s][s][s]',\n",
       " 'LECOURE[s][s]E[s][s][s][s][s][s][s][s][s][s]',\n",
       " 'LECOURE[s][s]E[s][s][s][s][s][s][s][s][s][s]',\n",
       " 'LECOURE[s][s]E[s][s][s][s][s][s][s][s][s][s]',\n",
       " 'LECOURE[s][s]E[s][s][s][s][s][s][s][s][s][s]',\n",
       " 'LECOURE[s][s]E[s][s][s][s][s][s][s][s][s][s]',\n",
       " 'LECOURE[s][s]E[s][s][s][s][s][s][s][s][s][s]',\n",
       " 'LECOURE[s][s]E[s][s][s][s][s][s][s][s][s][s]',\n",
       " 'LECOURE[s][s]E[s][s][s][s][s][s][s][s][s][s]']"
      ]
     },
     "execution_count": 31,
     "metadata": {},
     "output_type": "execute_result"
    }
   ],
   "source": [
    "pred_decoded = converter.decode(predicted_classes, length)\n",
    "pred_decoded"
   ]
  },
  {
   "cell_type": "code",
   "execution_count": 32,
   "metadata": {},
   "outputs": [
    {
     "data": {
      "text/plain": [
       "['BALTHAZAR[s][GO][GO][GO][GO][GO][GO][GO][GO][GO][GO]',\n",
       " 'SIMON[s][GO][GO][GO][GO][GO][GO][GO][GO][GO][GO][GO][GO][GO][GO]',\n",
       " 'BENES[s][GO][GO][GO][GO][GO][GO][GO][GO][GO][GO][GO][GO][GO][GO]',\n",
       " 'LA LOVE[s][GO][GO][GO][GO][GO][GO][GO][GO][GO][GO][GO][GO]',\n",
       " 'DAPHNE[s][GO][GO][GO][GO][GO][GO][GO][GO][GO][GO][GO][GO][GO]',\n",
       " 'LUCIE[s][GO][GO][GO][GO][GO][GO][GO][GO][GO][GO][GO][GO][GO][GO]',\n",
       " 'NASSIM[s][GO][GO][GO][GO][GO][GO][GO][GO][GO][GO][GO][GO][GO]',\n",
       " 'ASSRAOUI[s][GO][GO][GO][GO][GO][GO][GO][GO][GO][GO][GO]',\n",
       " 'LAVIAN[s][GO][GO][GO][GO][GO][GO][GO][GO][GO][GO][GO][GO][GO]',\n",
       " 'MAEVA[s][GO][GO][GO][GO][GO][GO][GO][GO][GO][GO][GO][GO][GO][GO]',\n",
       " 'EMMA[s][GO][GO][GO][GO][GO][GO][GO][GO][GO][GO][GO][GO][GO][GO][GO]',\n",
       " 'MOULINIER[s][GO][GO][GO][GO][GO][GO][GO][GO][GO][GO]',\n",
       " 'ELISE[s][GO][GO][GO][GO][GO][GO][GO][GO][GO][GO][GO][GO][GO][GO]',\n",
       " 'HONNERT[s][GO][GO][GO][GO][GO][GO][GO][GO][GO][GO][GO][GO]',\n",
       " 'MATHEO[s][GO][GO][GO][GO][GO][GO][GO][GO][GO][GO][GO][GO][GO]',\n",
       " 'PETITDIDIER[s][GO][GO][GO][GO][GO][GO][GO][GO]',\n",
       " 'PAULINE[s][GO][GO][GO][GO][GO][GO][GO][GO][GO][GO][GO][GO]',\n",
       " 'LOUVENAZ[s][GO][GO][GO][GO][GO][GO][GO][GO][GO][GO][GO]',\n",
       " 'BOURQUIN[s][GO][GO][GO][GO][GO][GO][GO][GO][GO][GO][GO]',\n",
       " 'ROMAIN[s][GO][GO][GO][GO][GO][GO][GO][GO][GO][GO][GO][GO][GO]',\n",
       " 'ASMA[s][GO][GO][GO][GO][GO][GO][GO][GO][GO][GO][GO][GO][GO][GO][GO]',\n",
       " 'CYRIELLE[s][GO][GO][GO][GO][GO][GO][GO][GO][GO][GO][GO]',\n",
       " 'LILOU[s][GO][GO][GO][GO][GO][GO][GO][GO][GO][GO][GO][GO][GO][GO]',\n",
       " 'ESTEBANN[s][GO][GO][GO][GO][GO][GO][GO][GO][GO][GO][GO]',\n",
       " 'MITHIEUX[s][GO][GO][GO][GO][GO][GO][GO][GO][GO][GO][GO]',\n",
       " 'MARION[s][GO][GO][GO][GO][GO][GO][GO][GO][GO][GO][GO][GO][GO]',\n",
       " 'THOMAS[s][GO][GO][GO][GO][GO][GO][GO][GO][GO][GO][GO][GO][GO]',\n",
       " 'ANAIS[s][GO][GO][GO][GO][GO][GO][GO][GO][GO][GO][GO][GO][GO][GO]',\n",
       " 'BROLL[s][GO][GO][GO][GO][GO][GO][GO][GO][GO][GO][GO][GO][GO][GO]',\n",
       " 'JAFFEUX[s][GO][GO][GO][GO][GO][GO][GO][GO][GO][GO][GO][GO]',\n",
       " 'ANNE[s][GO][GO][GO][GO][GO][GO][GO][GO][GO][GO][GO][GO][GO][GO][GO]',\n",
       " 'PREVOST[s][GO][GO][GO][GO][GO][GO][GO][GO][GO][GO][GO][GO]',\n",
       " 'ROMANE[s][GO][GO][GO][GO][GO][GO][GO][GO][GO][GO][GO][GO][GO]',\n",
       " 'BRUGERIE[s][GO][GO][GO][GO][GO][GO][GO][GO][GO][GO][GO]',\n",
       " 'NOLAN[s][GO][GO][GO][GO][GO][GO][GO][GO][GO][GO][GO][GO][GO][GO]',\n",
       " 'LORENTIN[s][GO][GO][GO][GO][GO][GO][GO][GO][GO][GO][GO]',\n",
       " 'ELISA[s][GO][GO][GO][GO][GO][GO][GO][GO][GO][GO][GO][GO][GO][GO]',\n",
       " 'PAULINE[s][GO][GO][GO][GO][GO][GO][GO][GO][GO][GO][GO][GO]',\n",
       " 'FRANCOIS[s][GO][GO][GO][GO][GO][GO][GO][GO][GO][GO][GO]',\n",
       " 'MAUPAS[s][GO][GO][GO][GO][GO][GO][GO][GO][GO][GO][GO][GO][GO]',\n",
       " 'MEISSA[s][GO][GO][GO][GO][GO][GO][GO][GO][GO][GO][GO][GO][GO]',\n",
       " 'REBACH[s][GO][GO][GO][GO][GO][GO][GO][GO][GO][GO][GO][GO][GO]',\n",
       " 'ERWAN[s][GO][GO][GO][GO][GO][GO][GO][GO][GO][GO][GO][GO][GO][GO]',\n",
       " 'AMBROISE[s][GO][GO][GO][GO][GO][GO][GO][GO][GO][GO][GO]',\n",
       " 'LAURA[s][GO][GO][GO][GO][GO][GO][GO][GO][GO][GO][GO][GO][GO][GO]',\n",
       " 'AHMED KHODJA[s][GO][GO][GO][GO][GO][GO][GO]',\n",
       " 'LOISE[s][GO][GO][GO][GO][GO][GO][GO][GO][GO][GO][GO][GO][GO][GO]',\n",
       " 'ELBAKKALI[s][GO][GO][GO][GO][GO][GO][GO][GO][GO][GO]',\n",
       " 'BENZINA[s][GO][GO][GO][GO][GO][GO][GO][GO][GO][GO][GO][GO]',\n",
       " 'LAQUERRIERE[s][GO][GO][GO][GO][GO][GO][GO][GO]',\n",
       " 'YAEL[s][GO][GO][GO][GO][GO][GO][GO][GO][GO][GO][GO][GO][GO][GO][GO]',\n",
       " 'VITRE[s][GO][GO][GO][GO][GO][GO][GO][GO][GO][GO][GO][GO][GO][GO]',\n",
       " 'GUILLOT GOGUET[s][GO][GO][GO][GO][GO]',\n",
       " 'BOLOZAN[s][GO][GO][GO][GO][GO][GO][GO][GO][GO][GO][GO][GO]',\n",
       " 'MATHEO[s][GO][GO][GO][GO][GO][GO][GO][GO][GO][GO][GO][GO][GO]',\n",
       " 'SHA I[s][GO][GO][GO][GO][GO][GO][GO][GO][GO][GO][GO][GO][GO][GO]',\n",
       " 'VICTORIA[s][GO][GO][GO][GO][GO][GO][GO][GO][GO][GO][GO]',\n",
       " 'JULIE[s][GO][GO][GO][GO][GO][GO][GO][GO][GO][GO][GO][GO][GO][GO]',\n",
       " 'BARBIER[s][GO][GO][GO][GO][GO][GO][GO][GO][GO][GO][GO][GO]',\n",
       " 'GILLES LAWRENCE[s][GO][GO][GO][GO]',\n",
       " 'DUPRAT[s][GO][GO][GO][GO][GO][GO][GO][GO][GO][GO][GO][GO][GO]',\n",
       " 'LABARH[s][GO][GO][GO][GO][GO][GO][GO][GO][GO][GO][GO][GO][GO]',\n",
       " 'REMI[s][GO][GO][GO][GO][GO][GO][GO][GO][GO][GO][GO][GO][GO][GO][GO]',\n",
       " 'BLANLO[s][GO][GO][GO][GO][GO][GO][GO][GO][GO][GO][GO][GO][GO]']"
      ]
     },
     "execution_count": 32,
     "metadata": {},
     "output_type": "execute_result"
    }
   ],
   "source": [
    "target_decoded = converter.decode(target, length)\n",
    "target_decoded"
   ]
  },
  {
   "cell_type": "code",
   "execution_count": 23,
   "metadata": {},
   "outputs": [
    {
     "data": {
      "text/plain": [
       "tensor(0.5926)"
      ]
     },
     "execution_count": 23,
     "metadata": {},
     "output_type": "execute_result"
    }
   ],
   "source": [
    "cer(pred_decoded, target_decoded)"
   ]
  },
  {
   "cell_type": "code",
   "execution_count": 24,
   "metadata": {},
   "outputs": [
    {
     "name": "stderr",
     "output_type": "stream",
     "text": [
      "Validating Epoch: 24: 100% 624/624 [01:23<00:00,  7.46it/s]\n"
     ]
    },
    {
     "name": "stdout",
     "output_type": "stream",
     "text": [
      "['LECOURE', 'LECOURE', 'LECOURE', 'LECOURE', 'LECOURE', 'LECOURE', 'LECOURE', 'LECOURE', 'LECOURE', 'LECOURE']\n",
      "['BILEL', 'LAUMIONIER', 'JEAN ROCH', 'RUPP', 'PICHON', 'DANIEL', 'JEREMY', 'JEAN MICHEL', 'JULIEN', 'NAEL']\n"
     ]
    }
   ],
   "source": [
    "from handwriting_recognition.train import _evaluate\n",
    "\n",
    "loss_function = CrossEntropyLoss(ignore_index=0).to(get_device())\n",
    "\n",
    "validation_loss, val_character_error_rate, val_word_error_rate, all_val_preds, all_val_ground_truths = _evaluate(\n",
    "    epoch=saved_model['epoch'],\n",
    "    model=model,\n",
    "    data_loader=val_loader,\n",
    "    converter=converter,\n",
    "    loss_function=loss_function\n",
    ")"
   ]
  },
  {
   "cell_type": "code",
   "execution_count": 25,
   "metadata": {},
   "outputs": [
    {
     "data": {
      "text/plain": [
       "tensor(0.9581)"
      ]
     },
     "execution_count": 25,
     "metadata": {},
     "output_type": "execute_result"
    }
   ],
   "source": [
    "val_character_error_rate"
   ]
  },
  {
   "cell_type": "code",
   "execution_count": 26,
   "metadata": {},
   "outputs": [
    {
     "data": {
      "text/plain": [
       "tensor(1.)"
      ]
     },
     "execution_count": 26,
     "metadata": {},
     "output_type": "execute_result"
    }
   ],
   "source": [
    "val_word_error_rate"
   ]
  },
  {
   "cell_type": "code",
   "execution_count": 27,
   "metadata": {},
   "outputs": [
    {
     "name": "stderr",
     "output_type": "stream",
     "text": [
      "Validating Epoch: 24:   0% 0/623 [00:00<?, ?it/s]"
     ]
    },
    {
     "name": "stderr",
     "output_type": "stream",
     "text": [
      "Validating Epoch: 24: 100% 623/623 [01:23<00:00,  7.47it/s]\n"
     ]
    },
    {
     "name": "stdout",
     "output_type": "stream",
     "text": [
      "['LECOURE', 'LECOURE', 'LECOURE', 'LECOURE', 'LECOURE', 'LECOURE', 'LECOURE', 'LECOURE', 'LECOURE', 'LECOURE']\n",
      "['KEVIN', 'CLOTAIRE', 'LENA', 'JULES', 'CHERPIN', 'MARTIN', 'VALENTINE', 'LORAS', 'THIBAULT', 'AZABI']\n"
     ]
    }
   ],
   "source": [
    "test_loss, test_character_error_rate, test_word_error_rate, all_test_preds, all_test_ground_truths = _evaluate(\n",
    "    epoch=saved_model['epoch'],\n",
    "    model=model,\n",
    "    data_loader=test_loader,\n",
    "    converter=converter,\n",
    "    loss_function=loss_function\n",
    ")"
   ]
  },
  {
   "cell_type": "code",
   "execution_count": 28,
   "metadata": {},
   "outputs": [
    {
     "data": {
      "text/plain": [
       "tensor(0.9605)"
      ]
     },
     "execution_count": 28,
     "metadata": {},
     "output_type": "execute_result"
    }
   ],
   "source": [
    "test_character_error_rate"
   ]
  },
  {
   "cell_type": "code",
   "execution_count": 29,
   "metadata": {},
   "outputs": [
    {
     "data": {
      "text/plain": [
       "tensor(1.)"
      ]
     },
     "execution_count": 29,
     "metadata": {},
     "output_type": "execute_result"
    }
   ],
   "source": [
    "test_word_error_rate"
   ]
  },
  {
   "cell_type": "code",
   "execution_count": null,
   "metadata": {},
   "outputs": [],
   "source": []
  }
 ],
 "metadata": {
  "kernelspec": {
   "display_name": "handwriting-recognition-05HTZ8rb-py3.11",
   "language": "python",
   "name": "python3"
  },
  "language_info": {
   "codemirror_mode": {
    "name": "ipython",
    "version": 3
   },
   "file_extension": ".py",
   "mimetype": "text/x-python",
   "name": "python",
   "nbconvert_exporter": "python",
   "pygments_lexer": "ipython3",
   "version": "3.11.9"
  }
 },
 "nbformat": 4,
 "nbformat_minor": 2
}
